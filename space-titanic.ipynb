{
 "cells": [
  {
   "cell_type": "code",
   "execution_count": 1,
   "id": "e8d57741",
   "metadata": {
    "_cell_guid": "b1076dfc-b9ad-4769-8c92-a6c4dae69d19",
    "_uuid": "8f2839f25d086af736a60e9eeb907d3b93b6e0e5",
    "execution": {
     "iopub.execute_input": "2022-06-16T19:30:44.651374Z",
     "iopub.status.busy": "2022-06-16T19:30:44.650777Z",
     "iopub.status.idle": "2022-06-16T19:30:46.400986Z",
     "shell.execute_reply": "2022-06-16T19:30:46.399896Z"
    },
    "papermill": {
     "duration": 1.76753,
     "end_time": "2022-06-16T19:30:46.403842",
     "exception": false,
     "start_time": "2022-06-16T19:30:44.636312",
     "status": "completed"
    },
    "tags": []
   },
   "outputs": [],
   "source": [
    "# This Python 3 environment comes with many helpful analytics libraries installed\n",
    "# It is defined by the kaggle/python Docker image: https://github.com/kaggle/docker-python\n",
    "# For example, here's several helpful packages to load\n",
    "\n",
    "import numpy as np # linear algebra\n",
    "import pandas as pd # data processing, CSV file I/O (e.g. pd.read_csv)\n",
    "import matplotlib.pyplot as plt\n",
    "import seaborn as sns\n",
    "from sklearn.linear_model import LogisticRegression\n",
    "from sklearn.preprocessing import StandardScaler, OneHotEncoder, FunctionTransformer, LabelEncoder\n",
    "from sklearn.pipeline import Pipeline\n",
    "from sklearn.compose import ColumnTransformer\n",
    "from sklearn.model_selection import train_test_split, GridSearchCV\n",
    "from sklearn.impute import SimpleImputer\n",
    "from sklearn.ensemble import RandomForestClassifier, GradientBoostingClassifier\n",
    "from xgboost import XGBClassifier"
   ]
  },
  {
   "cell_type": "markdown",
   "id": "f1443f2d",
   "metadata": {
    "papermill": {
     "duration": 0.010904,
     "end_time": "2022-06-16T19:30:46.426539",
     "exception": false,
     "start_time": "2022-06-16T19:30:46.415635",
     "status": "completed"
    },
    "tags": []
   },
   "source": [
    "# Create Dataset"
   ]
  },
  {
   "cell_type": "code",
   "execution_count": 2,
   "id": "72dbb20e",
   "metadata": {
    "execution": {
     "iopub.execute_input": "2022-06-16T19:30:46.450696Z",
     "iopub.status.busy": "2022-06-16T19:30:46.450274Z",
     "iopub.status.idle": "2022-06-16T19:30:46.545298Z",
     "shell.execute_reply": "2022-06-16T19:30:46.544455Z"
    },
    "papermill": {
     "duration": 0.111164,
     "end_time": "2022-06-16T19:30:46.548898",
     "exception": false,
     "start_time": "2022-06-16T19:30:46.437734",
     "status": "completed"
    },
    "tags": []
   },
   "outputs": [
    {
     "data": {
      "text/html": [
       "<div>\n",
       "<style scoped>\n",
       "    .dataframe tbody tr th:only-of-type {\n",
       "        vertical-align: middle;\n",
       "    }\n",
       "\n",
       "    .dataframe tbody tr th {\n",
       "        vertical-align: top;\n",
       "    }\n",
       "\n",
       "    .dataframe thead th {\n",
       "        text-align: right;\n",
       "    }\n",
       "</style>\n",
       "<table border=\"1\" class=\"dataframe\">\n",
       "  <thead>\n",
       "    <tr style=\"text-align: right;\">\n",
       "      <th></th>\n",
       "      <th>PassengerId</th>\n",
       "      <th>HomePlanet</th>\n",
       "      <th>CryoSleep</th>\n",
       "      <th>Cabin</th>\n",
       "      <th>Destination</th>\n",
       "      <th>Age</th>\n",
       "      <th>VIP</th>\n",
       "      <th>RoomService</th>\n",
       "      <th>FoodCourt</th>\n",
       "      <th>ShoppingMall</th>\n",
       "      <th>Spa</th>\n",
       "      <th>VRDeck</th>\n",
       "      <th>Name</th>\n",
       "      <th>Transported</th>\n",
       "    </tr>\n",
       "  </thead>\n",
       "  <tbody>\n",
       "    <tr>\n",
       "      <th>0</th>\n",
       "      <td>0001_01</td>\n",
       "      <td>Europa</td>\n",
       "      <td>False</td>\n",
       "      <td>B/0/P</td>\n",
       "      <td>TRAPPIST-1e</td>\n",
       "      <td>39.0</td>\n",
       "      <td>False</td>\n",
       "      <td>0.0</td>\n",
       "      <td>0.0</td>\n",
       "      <td>0.0</td>\n",
       "      <td>0.0</td>\n",
       "      <td>0.0</td>\n",
       "      <td>Maham Ofracculy</td>\n",
       "      <td>False</td>\n",
       "    </tr>\n",
       "    <tr>\n",
       "      <th>1</th>\n",
       "      <td>0002_01</td>\n",
       "      <td>Earth</td>\n",
       "      <td>False</td>\n",
       "      <td>F/0/S</td>\n",
       "      <td>TRAPPIST-1e</td>\n",
       "      <td>24.0</td>\n",
       "      <td>False</td>\n",
       "      <td>109.0</td>\n",
       "      <td>9.0</td>\n",
       "      <td>25.0</td>\n",
       "      <td>549.0</td>\n",
       "      <td>44.0</td>\n",
       "      <td>Juanna Vines</td>\n",
       "      <td>True</td>\n",
       "    </tr>\n",
       "    <tr>\n",
       "      <th>2</th>\n",
       "      <td>0003_01</td>\n",
       "      <td>Europa</td>\n",
       "      <td>False</td>\n",
       "      <td>A/0/S</td>\n",
       "      <td>TRAPPIST-1e</td>\n",
       "      <td>58.0</td>\n",
       "      <td>True</td>\n",
       "      <td>43.0</td>\n",
       "      <td>3576.0</td>\n",
       "      <td>0.0</td>\n",
       "      <td>6715.0</td>\n",
       "      <td>49.0</td>\n",
       "      <td>Altark Susent</td>\n",
       "      <td>False</td>\n",
       "    </tr>\n",
       "    <tr>\n",
       "      <th>3</th>\n",
       "      <td>0003_02</td>\n",
       "      <td>Europa</td>\n",
       "      <td>False</td>\n",
       "      <td>A/0/S</td>\n",
       "      <td>TRAPPIST-1e</td>\n",
       "      <td>33.0</td>\n",
       "      <td>False</td>\n",
       "      <td>0.0</td>\n",
       "      <td>1283.0</td>\n",
       "      <td>371.0</td>\n",
       "      <td>3329.0</td>\n",
       "      <td>193.0</td>\n",
       "      <td>Solam Susent</td>\n",
       "      <td>False</td>\n",
       "    </tr>\n",
       "    <tr>\n",
       "      <th>4</th>\n",
       "      <td>0004_01</td>\n",
       "      <td>Earth</td>\n",
       "      <td>False</td>\n",
       "      <td>F/1/S</td>\n",
       "      <td>TRAPPIST-1e</td>\n",
       "      <td>16.0</td>\n",
       "      <td>False</td>\n",
       "      <td>303.0</td>\n",
       "      <td>70.0</td>\n",
       "      <td>151.0</td>\n",
       "      <td>565.0</td>\n",
       "      <td>2.0</td>\n",
       "      <td>Willy Santantines</td>\n",
       "      <td>True</td>\n",
       "    </tr>\n",
       "    <tr>\n",
       "      <th>...</th>\n",
       "      <td>...</td>\n",
       "      <td>...</td>\n",
       "      <td>...</td>\n",
       "      <td>...</td>\n",
       "      <td>...</td>\n",
       "      <td>...</td>\n",
       "      <td>...</td>\n",
       "      <td>...</td>\n",
       "      <td>...</td>\n",
       "      <td>...</td>\n",
       "      <td>...</td>\n",
       "      <td>...</td>\n",
       "      <td>...</td>\n",
       "      <td>...</td>\n",
       "    </tr>\n",
       "    <tr>\n",
       "      <th>8688</th>\n",
       "      <td>9276_01</td>\n",
       "      <td>Europa</td>\n",
       "      <td>False</td>\n",
       "      <td>A/98/P</td>\n",
       "      <td>55 Cancri e</td>\n",
       "      <td>41.0</td>\n",
       "      <td>True</td>\n",
       "      <td>0.0</td>\n",
       "      <td>6819.0</td>\n",
       "      <td>0.0</td>\n",
       "      <td>1643.0</td>\n",
       "      <td>74.0</td>\n",
       "      <td>Gravior Noxnuther</td>\n",
       "      <td>False</td>\n",
       "    </tr>\n",
       "    <tr>\n",
       "      <th>8689</th>\n",
       "      <td>9278_01</td>\n",
       "      <td>Earth</td>\n",
       "      <td>True</td>\n",
       "      <td>G/1499/S</td>\n",
       "      <td>PSO J318.5-22</td>\n",
       "      <td>18.0</td>\n",
       "      <td>False</td>\n",
       "      <td>0.0</td>\n",
       "      <td>0.0</td>\n",
       "      <td>0.0</td>\n",
       "      <td>0.0</td>\n",
       "      <td>0.0</td>\n",
       "      <td>Kurta Mondalley</td>\n",
       "      <td>False</td>\n",
       "    </tr>\n",
       "    <tr>\n",
       "      <th>8690</th>\n",
       "      <td>9279_01</td>\n",
       "      <td>Earth</td>\n",
       "      <td>False</td>\n",
       "      <td>G/1500/S</td>\n",
       "      <td>TRAPPIST-1e</td>\n",
       "      <td>26.0</td>\n",
       "      <td>False</td>\n",
       "      <td>0.0</td>\n",
       "      <td>0.0</td>\n",
       "      <td>1872.0</td>\n",
       "      <td>1.0</td>\n",
       "      <td>0.0</td>\n",
       "      <td>Fayey Connon</td>\n",
       "      <td>True</td>\n",
       "    </tr>\n",
       "    <tr>\n",
       "      <th>8691</th>\n",
       "      <td>9280_01</td>\n",
       "      <td>Europa</td>\n",
       "      <td>False</td>\n",
       "      <td>E/608/S</td>\n",
       "      <td>55 Cancri e</td>\n",
       "      <td>32.0</td>\n",
       "      <td>False</td>\n",
       "      <td>0.0</td>\n",
       "      <td>1049.0</td>\n",
       "      <td>0.0</td>\n",
       "      <td>353.0</td>\n",
       "      <td>3235.0</td>\n",
       "      <td>Celeon Hontichre</td>\n",
       "      <td>False</td>\n",
       "    </tr>\n",
       "    <tr>\n",
       "      <th>8692</th>\n",
       "      <td>9280_02</td>\n",
       "      <td>Europa</td>\n",
       "      <td>False</td>\n",
       "      <td>E/608/S</td>\n",
       "      <td>TRAPPIST-1e</td>\n",
       "      <td>44.0</td>\n",
       "      <td>False</td>\n",
       "      <td>126.0</td>\n",
       "      <td>4688.0</td>\n",
       "      <td>0.0</td>\n",
       "      <td>0.0</td>\n",
       "      <td>12.0</td>\n",
       "      <td>Propsh Hontichre</td>\n",
       "      <td>True</td>\n",
       "    </tr>\n",
       "  </tbody>\n",
       "</table>\n",
       "<p>8693 rows × 14 columns</p>\n",
       "</div>"
      ],
      "text/plain": [
       "     PassengerId HomePlanet CryoSleep     Cabin    Destination   Age    VIP  \\\n",
       "0        0001_01     Europa     False     B/0/P    TRAPPIST-1e  39.0  False   \n",
       "1        0002_01      Earth     False     F/0/S    TRAPPIST-1e  24.0  False   \n",
       "2        0003_01     Europa     False     A/0/S    TRAPPIST-1e  58.0   True   \n",
       "3        0003_02     Europa     False     A/0/S    TRAPPIST-1e  33.0  False   \n",
       "4        0004_01      Earth     False     F/1/S    TRAPPIST-1e  16.0  False   \n",
       "...          ...        ...       ...       ...            ...   ...    ...   \n",
       "8688     9276_01     Europa     False    A/98/P    55 Cancri e  41.0   True   \n",
       "8689     9278_01      Earth      True  G/1499/S  PSO J318.5-22  18.0  False   \n",
       "8690     9279_01      Earth     False  G/1500/S    TRAPPIST-1e  26.0  False   \n",
       "8691     9280_01     Europa     False   E/608/S    55 Cancri e  32.0  False   \n",
       "8692     9280_02     Europa     False   E/608/S    TRAPPIST-1e  44.0  False   \n",
       "\n",
       "      RoomService  FoodCourt  ShoppingMall     Spa  VRDeck               Name  \\\n",
       "0             0.0        0.0           0.0     0.0     0.0    Maham Ofracculy   \n",
       "1           109.0        9.0          25.0   549.0    44.0       Juanna Vines   \n",
       "2            43.0     3576.0           0.0  6715.0    49.0      Altark Susent   \n",
       "3             0.0     1283.0         371.0  3329.0   193.0       Solam Susent   \n",
       "4           303.0       70.0         151.0   565.0     2.0  Willy Santantines   \n",
       "...           ...        ...           ...     ...     ...                ...   \n",
       "8688          0.0     6819.0           0.0  1643.0    74.0  Gravior Noxnuther   \n",
       "8689          0.0        0.0           0.0     0.0     0.0    Kurta Mondalley   \n",
       "8690          0.0        0.0        1872.0     1.0     0.0       Fayey Connon   \n",
       "8691          0.0     1049.0           0.0   353.0  3235.0   Celeon Hontichre   \n",
       "8692        126.0     4688.0           0.0     0.0    12.0   Propsh Hontichre   \n",
       "\n",
       "      Transported  \n",
       "0           False  \n",
       "1            True  \n",
       "2           False  \n",
       "3           False  \n",
       "4            True  \n",
       "...           ...  \n",
       "8688        False  \n",
       "8689        False  \n",
       "8690         True  \n",
       "8691        False  \n",
       "8692         True  \n",
       "\n",
       "[8693 rows x 14 columns]"
      ]
     },
     "execution_count": 2,
     "metadata": {},
     "output_type": "execute_result"
    }
   ],
   "source": [
    "dataset = pd.read_csv('/kaggle/input/spaceship-titanic/train.csv');\n",
    "dataset"
   ]
  },
  {
   "cell_type": "markdown",
   "id": "bf52ddd3",
   "metadata": {
    "papermill": {
     "duration": 0.011285,
     "end_time": "2022-06-16T19:30:46.572013",
     "exception": false,
     "start_time": "2022-06-16T19:30:46.560728",
     "status": "completed"
    },
    "tags": []
   },
   "source": [
    "# Data analysis"
   ]
  },
  {
   "cell_type": "code",
   "execution_count": 3,
   "id": "16acdfe4",
   "metadata": {
    "execution": {
     "iopub.execute_input": "2022-06-16T19:30:46.597424Z",
     "iopub.status.busy": "2022-06-16T19:30:46.596761Z",
     "iopub.status.idle": "2022-06-16T19:30:46.611283Z",
     "shell.execute_reply": "2022-06-16T19:30:46.610458Z"
    },
    "papermill": {
     "duration": 0.030029,
     "end_time": "2022-06-16T19:30:46.613749",
     "exception": false,
     "start_time": "2022-06-16T19:30:46.583720",
     "status": "completed"
    },
    "tags": []
   },
   "outputs": [
    {
     "name": "stdout",
     "output_type": "stream",
     "text": [
      "(8693, 14)\n",
      "After NA removal (8494, 14)\n"
     ]
    }
   ],
   "source": [
    "print(dataset.shape)\n",
    "dataset.dropna(subset=['Cabin'], inplace=True)\n",
    "print('After NA removal', dataset.shape)"
   ]
  },
  {
   "cell_type": "code",
   "execution_count": 4,
   "id": "716d4e75",
   "metadata": {
    "execution": {
     "iopub.execute_input": "2022-06-16T19:30:46.639839Z",
     "iopub.status.busy": "2022-06-16T19:30:46.639128Z",
     "iopub.status.idle": "2022-06-16T19:30:46.815693Z",
     "shell.execute_reply": "2022-06-16T19:30:46.814603Z"
    },
    "papermill": {
     "duration": 0.192097,
     "end_time": "2022-06-16T19:30:46.817863",
     "exception": false,
     "start_time": "2022-06-16T19:30:46.625766",
     "status": "completed"
    },
    "tags": []
   },
   "outputs": [
    {
     "data": {
      "text/plain": [
       "<AxesSubplot:>"
      ]
     },
     "execution_count": 4,
     "metadata": {},
     "output_type": "execute_result"
    },
    {
     "data": {
      "image/png": "[encoded data removed]",
      "text/plain": [
       "<Figure size 432x288 with 1 Axes>"
      ]
     },
     "metadata": {
      "needs_background": "light"
     },
     "output_type": "display_data"
    }
   ],
   "source": [
    "dataset['CryoSleep'].value_counts().plot.bar()"
   ]
  },
  {
   "cell_type": "code",
   "execution_count": 5,
   "id": "293f288d",
   "metadata": {
    "execution": {
     "iopub.execute_input": "2022-06-16T19:30:46.844652Z",
     "iopub.status.busy": "2022-06-16T19:30:46.844183Z",
     "iopub.status.idle": "2022-06-16T19:30:47.008271Z",
     "shell.execute_reply": "2022-06-16T19:30:47.007373Z"
    },
    "papermill": {
     "duration": 0.180493,
     "end_time": "2022-06-16T19:30:47.010622",
     "exception": false,
     "start_time": "2022-06-16T19:30:46.830129",
     "status": "completed"
    },
    "tags": []
   },
   "outputs": [
    {
     "data": {
      "text/plain": [
       "<AxesSubplot:>"
      ]
     },
     "execution_count": 5,
     "metadata": {},
     "output_type": "execute_result"
    },
    {
     "data": {
      "image/png": "[encoded data removed]",
      "text/plain": [
       "<Figure size 432x288 with 1 Axes>"
      ]
     },
     "metadata": {
      "needs_background": "light"
     },
     "output_type": "display_data"
    }
   ],
   "source": [
    "dataset['HomePlanet'].value_counts().plot.bar()"
   ]
  },
  {
   "cell_type": "markdown",
   "id": "ef058898",
   "metadata": {
    "papermill": {
     "duration": 0.012217,
     "end_time": "2022-06-16T19:30:47.035124",
     "exception": false,
     "start_time": "2022-06-16T19:30:47.022907",
     "status": "completed"
    },
    "tags": []
   },
   "source": [
    "## Split cabin infos"
   ]
  },
  {
   "cell_type": "code",
   "execution_count": 6,
   "id": "b3b1791c",
   "metadata": {
    "execution": {
     "iopub.execute_input": "2022-06-16T19:30:47.062920Z",
     "iopub.status.busy": "2022-06-16T19:30:47.061611Z",
     "iopub.status.idle": "2022-06-16T19:30:47.112346Z",
     "shell.execute_reply": "2022-06-16T19:30:47.111438Z"
    },
    "papermill": {
     "duration": 0.066947,
     "end_time": "2022-06-16T19:30:47.114614",
     "exception": false,
     "start_time": "2022-06-16T19:30:47.047667",
     "status": "completed"
    },
    "tags": []
   },
   "outputs": [
    {
     "data": {
      "text/html": [
       "<div>\n",
       "<style scoped>\n",
       "    .dataframe tbody tr th:only-of-type {\n",
       "        vertical-align: middle;\n",
       "    }\n",
       "\n",
       "    .dataframe tbody tr th {\n",
       "        vertical-align: top;\n",
       "    }\n",
       "\n",
       "    .dataframe thead th {\n",
       "        text-align: right;\n",
       "    }\n",
       "</style>\n",
       "<table border=\"1\" class=\"dataframe\">\n",
       "  <thead>\n",
       "    <tr style=\"text-align: right;\">\n",
       "      <th></th>\n",
       "      <th>PassengerId</th>\n",
       "      <th>HomePlanet</th>\n",
       "      <th>CryoSleep</th>\n",
       "      <th>Cabin</th>\n",
       "      <th>Destination</th>\n",
       "      <th>Age</th>\n",
       "      <th>VIP</th>\n",
       "      <th>RoomService</th>\n",
       "      <th>FoodCourt</th>\n",
       "      <th>ShoppingMall</th>\n",
       "      <th>Spa</th>\n",
       "      <th>VRDeck</th>\n",
       "      <th>Name</th>\n",
       "      <th>Transported</th>\n",
       "      <th>Deck</th>\n",
       "      <th>RoomNumber</th>\n",
       "      <th>Side</th>\n",
       "    </tr>\n",
       "  </thead>\n",
       "  <tbody>\n",
       "    <tr>\n",
       "      <th>0</th>\n",
       "      <td>0001_01</td>\n",
       "      <td>Europa</td>\n",
       "      <td>False</td>\n",
       "      <td>B/0/P</td>\n",
       "      <td>TRAPPIST-1e</td>\n",
       "      <td>39.0</td>\n",
       "      <td>False</td>\n",
       "      <td>0.0</td>\n",
       "      <td>0.0</td>\n",
       "      <td>0.0</td>\n",
       "      <td>0.0</td>\n",
       "      <td>0.0</td>\n",
       "      <td>Maham Ofracculy</td>\n",
       "      <td>False</td>\n",
       "      <td>B</td>\n",
       "      <td>0</td>\n",
       "      <td>P</td>\n",
       "    </tr>\n",
       "    <tr>\n",
       "      <th>1</th>\n",
       "      <td>0002_01</td>\n",
       "      <td>Earth</td>\n",
       "      <td>False</td>\n",
       "      <td>F/0/S</td>\n",
       "      <td>TRAPPIST-1e</td>\n",
       "      <td>24.0</td>\n",
       "      <td>False</td>\n",
       "      <td>109.0</td>\n",
       "      <td>9.0</td>\n",
       "      <td>25.0</td>\n",
       "      <td>549.0</td>\n",
       "      <td>44.0</td>\n",
       "      <td>Juanna Vines</td>\n",
       "      <td>True</td>\n",
       "      <td>F</td>\n",
       "      <td>0</td>\n",
       "      <td>S</td>\n",
       "    </tr>\n",
       "    <tr>\n",
       "      <th>2</th>\n",
       "      <td>0003_01</td>\n",
       "      <td>Europa</td>\n",
       "      <td>False</td>\n",
       "      <td>A/0/S</td>\n",
       "      <td>TRAPPIST-1e</td>\n",
       "      <td>58.0</td>\n",
       "      <td>True</td>\n",
       "      <td>43.0</td>\n",
       "      <td>3576.0</td>\n",
       "      <td>0.0</td>\n",
       "      <td>6715.0</td>\n",
       "      <td>49.0</td>\n",
       "      <td>Altark Susent</td>\n",
       "      <td>False</td>\n",
       "      <td>A</td>\n",
       "      <td>0</td>\n",
       "      <td>S</td>\n",
       "    </tr>\n",
       "    <tr>\n",
       "      <th>3</th>\n",
       "      <td>0003_02</td>\n",
       "      <td>Europa</td>\n",
       "      <td>False</td>\n",
       "      <td>A/0/S</td>\n",
       "      <td>TRAPPIST-1e</td>\n",
       "      <td>33.0</td>\n",
       "      <td>False</td>\n",
       "      <td>0.0</td>\n",
       "      <td>1283.0</td>\n",
       "      <td>371.0</td>\n",
       "      <td>3329.0</td>\n",
       "      <td>193.0</td>\n",
       "      <td>Solam Susent</td>\n",
       "      <td>False</td>\n",
       "      <td>A</td>\n",
       "      <td>0</td>\n",
       "      <td>S</td>\n",
       "    </tr>\n",
       "    <tr>\n",
       "      <th>4</th>\n",
       "      <td>0004_01</td>\n",
       "      <td>Earth</td>\n",
       "      <td>False</td>\n",
       "      <td>F/1/S</td>\n",
       "      <td>TRAPPIST-1e</td>\n",
       "      <td>16.0</td>\n",
       "      <td>False</td>\n",
       "      <td>303.0</td>\n",
       "      <td>70.0</td>\n",
       "      <td>151.0</td>\n",
       "      <td>565.0</td>\n",
       "      <td>2.0</td>\n",
       "      <td>Willy Santantines</td>\n",
       "      <td>True</td>\n",
       "      <td>F</td>\n",
       "      <td>1</td>\n",
       "      <td>S</td>\n",
       "    </tr>\n",
       "    <tr>\n",
       "      <th>...</th>\n",
       "      <td>...</td>\n",
       "      <td>...</td>\n",
       "      <td>...</td>\n",
       "      <td>...</td>\n",
       "      <td>...</td>\n",
       "      <td>...</td>\n",
       "      <td>...</td>\n",
       "      <td>...</td>\n",
       "      <td>...</td>\n",
       "      <td>...</td>\n",
       "      <td>...</td>\n",
       "      <td>...</td>\n",
       "      <td>...</td>\n",
       "      <td>...</td>\n",
       "      <td>...</td>\n",
       "      <td>...</td>\n",
       "      <td>...</td>\n",
       "    </tr>\n",
       "    <tr>\n",
       "      <th>8688</th>\n",
       "      <td>9276_01</td>\n",
       "      <td>Europa</td>\n",
       "      <td>False</td>\n",
       "      <td>A/98/P</td>\n",
       "      <td>55 Cancri e</td>\n",
       "      <td>41.0</td>\n",
       "      <td>True</td>\n",
       "      <td>0.0</td>\n",
       "      <td>6819.0</td>\n",
       "      <td>0.0</td>\n",
       "      <td>1643.0</td>\n",
       "      <td>74.0</td>\n",
       "      <td>Gravior Noxnuther</td>\n",
       "      <td>False</td>\n",
       "      <td>A</td>\n",
       "      <td>98</td>\n",
       "      <td>P</td>\n",
       "    </tr>\n",
       "    <tr>\n",
       "      <th>8689</th>\n",
       "      <td>9278_01</td>\n",
       "      <td>Earth</td>\n",
       "      <td>True</td>\n",
       "      <td>G/1499/S</td>\n",
       "      <td>PSO J318.5-22</td>\n",
       "      <td>18.0</td>\n",
       "      <td>False</td>\n",
       "      <td>0.0</td>\n",
       "      <td>0.0</td>\n",
       "      <td>0.0</td>\n",
       "      <td>0.0</td>\n",
       "      <td>0.0</td>\n",
       "      <td>Kurta Mondalley</td>\n",
       "      <td>False</td>\n",
       "      <td>G</td>\n",
       "      <td>1499</td>\n",
       "      <td>S</td>\n",
       "    </tr>\n",
       "    <tr>\n",
       "      <th>8690</th>\n",
       "      <td>9279_01</td>\n",
       "      <td>Earth</td>\n",
       "      <td>False</td>\n",
       "      <td>G/1500/S</td>\n",
       "      <td>TRAPPIST-1e</td>\n",
       "      <td>26.0</td>\n",
       "      <td>False</td>\n",
       "      <td>0.0</td>\n",
       "      <td>0.0</td>\n",
       "      <td>1872.0</td>\n",
       "      <td>1.0</td>\n",
       "      <td>0.0</td>\n",
       "      <td>Fayey Connon</td>\n",
       "      <td>True</td>\n",
       "      <td>G</td>\n",
       "      <td>1500</td>\n",
       "      <td>S</td>\n",
       "    </tr>\n",
       "    <tr>\n",
       "      <th>8691</th>\n",
       "      <td>9280_01</td>\n",
       "      <td>Europa</td>\n",
       "      <td>False</td>\n",
       "      <td>E/608/S</td>\n",
       "      <td>55 Cancri e</td>\n",
       "      <td>32.0</td>\n",
       "      <td>False</td>\n",
       "      <td>0.0</td>\n",
       "      <td>1049.0</td>\n",
       "      <td>0.0</td>\n",
       "      <td>353.0</td>\n",
       "      <td>3235.0</td>\n",
       "      <td>Celeon Hontichre</td>\n",
       "      <td>False</td>\n",
       "      <td>E</td>\n",
       "      <td>608</td>\n",
       "      <td>S</td>\n",
       "    </tr>\n",
       "    <tr>\n",
       "      <th>8692</th>\n",
       "      <td>9280_02</td>\n",
       "      <td>Europa</td>\n",
       "      <td>False</td>\n",
       "      <td>E/608/S</td>\n",
       "      <td>TRAPPIST-1e</td>\n",
       "      <td>44.0</td>\n",
       "      <td>False</td>\n",
       "      <td>126.0</td>\n",
       "      <td>4688.0</td>\n",
       "      <td>0.0</td>\n",
       "      <td>0.0</td>\n",
       "      <td>12.0</td>\n",
       "      <td>Propsh Hontichre</td>\n",
       "      <td>True</td>\n",
       "      <td>E</td>\n",
       "      <td>608</td>\n",
       "      <td>S</td>\n",
       "    </tr>\n",
       "  </tbody>\n",
       "</table>\n",
       "<p>8494 rows × 17 columns</p>\n",
       "</div>"
      ],
      "text/plain": [
       "     PassengerId HomePlanet CryoSleep     Cabin    Destination   Age    VIP  \\\n",
       "0        0001_01     Europa     False     B/0/P    TRAPPIST-1e  39.0  False   \n",
       "1        0002_01      Earth     False     F/0/S    TRAPPIST-1e  24.0  False   \n",
       "2        0003_01     Europa     False     A/0/S    TRAPPIST-1e  58.0   True   \n",
       "3        0003_02     Europa     False     A/0/S    TRAPPIST-1e  33.0  False   \n",
       "4        0004_01      Earth     False     F/1/S    TRAPPIST-1e  16.0  False   \n",
       "...          ...        ...       ...       ...            ...   ...    ...   \n",
       "8688     9276_01     Europa     False    A/98/P    55 Cancri e  41.0   True   \n",
       "8689     9278_01      Earth      True  G/1499/S  PSO J318.5-22  18.0  False   \n",
       "8690     9279_01      Earth     False  G/1500/S    TRAPPIST-1e  26.0  False   \n",
       "8691     9280_01     Europa     False   E/608/S    55 Cancri e  32.0  False   \n",
       "8692     9280_02     Europa     False   E/608/S    TRAPPIST-1e  44.0  False   \n",
       "\n",
       "      RoomService  FoodCourt  ShoppingMall     Spa  VRDeck               Name  \\\n",
       "0             0.0        0.0           0.0     0.0     0.0    Maham Ofracculy   \n",
       "1           109.0        9.0          25.0   549.0    44.0       Juanna Vines   \n",
       "2            43.0     3576.0           0.0  6715.0    49.0      Altark Susent   \n",
       "3             0.0     1283.0         371.0  3329.0   193.0       Solam Susent   \n",
       "4           303.0       70.0         151.0   565.0     2.0  Willy Santantines   \n",
       "...           ...        ...           ...     ...     ...                ...   \n",
       "8688          0.0     6819.0           0.0  1643.0    74.0  Gravior Noxnuther   \n",
       "8689          0.0        0.0           0.0     0.0     0.0    Kurta Mondalley   \n",
       "8690          0.0        0.0        1872.0     1.0     0.0       Fayey Connon   \n",
       "8691          0.0     1049.0           0.0   353.0  3235.0   Celeon Hontichre   \n",
       "8692        126.0     4688.0           0.0     0.0    12.0   Propsh Hontichre   \n",
       "\n",
       "      Transported Deck RoomNumber Side  \n",
       "0           False    B          0    P  \n",
       "1            True    F          0    S  \n",
       "2           False    A          0    S  \n",
       "3           False    A          0    S  \n",
       "4            True    F          1    S  \n",
       "...           ...  ...        ...  ...  \n",
       "8688        False    A         98    P  \n",
       "8689        False    G       1499    S  \n",
       "8690         True    G       1500    S  \n",
       "8691        False    E        608    S  \n",
       "8692         True    E        608    S  \n",
       "\n",
       "[8494 rows x 17 columns]"
      ]
     },
     "execution_count": 6,
     "metadata": {},
     "output_type": "execute_result"
    }
   ],
   "source": [
    "dataset[['Deck', 'RoomNumber', 'Side']] = dataset['Cabin'].str.split('/', expand=True)\n",
    "dataset"
   ]
  },
  {
   "cell_type": "code",
   "execution_count": 7,
   "id": "e7ae5cae",
   "metadata": {
    "execution": {
     "iopub.execute_input": "2022-06-16T19:30:47.141982Z",
     "iopub.status.busy": "2022-06-16T19:30:47.141577Z",
     "iopub.status.idle": "2022-06-16T19:30:47.299460Z",
     "shell.execute_reply": "2022-06-16T19:30:47.298688Z"
    },
    "papermill": {
     "duration": 0.17422,
     "end_time": "2022-06-16T19:30:47.301608",
     "exception": false,
     "start_time": "2022-06-16T19:30:47.127388",
     "status": "completed"
    },
    "tags": []
   },
   "outputs": [
    {
     "data": {
      "text/plain": [
       "<AxesSubplot:>"
      ]
     },
     "execution_count": 7,
     "metadata": {},
     "output_type": "execute_result"
    },
    {
     "data": {
      "image/png": "[encoded data removed]",
      "text/plain": [
       "<Figure size 432x288 with 1 Axes>"
      ]
     },
     "metadata": {
      "needs_background": "light"
     },
     "output_type": "display_data"
    }
   ],
   "source": [
    "dataset['Side'].value_counts().plot.bar()"
   ]
  },
  {
   "cell_type": "code",
   "execution_count": 8,
   "id": "ee5e5c97",
   "metadata": {
    "execution": {
     "iopub.execute_input": "2022-06-16T19:30:47.331308Z",
     "iopub.status.busy": "2022-06-16T19:30:47.330255Z",
     "iopub.status.idle": "2022-06-16T19:30:47.515857Z",
     "shell.execute_reply": "2022-06-16T19:30:47.515129Z"
    },
    "papermill": {
     "duration": 0.202326,
     "end_time": "2022-06-16T19:30:47.517813",
     "exception": false,
     "start_time": "2022-06-16T19:30:47.315487",
     "status": "completed"
    },
    "tags": []
   },
   "outputs": [
    {
     "data": {
      "text/plain": [
       "<AxesSubplot:>"
      ]
     },
     "execution_count": 8,
     "metadata": {},
     "output_type": "execute_result"
    },
    {
     "data": {
      "image/png": "[encoded data removed]",
      "text/plain": [
       "<Figure size 432x288 with 1 Axes>"
      ]
     },
     "metadata": {
      "needs_background": "light"
     },
     "output_type": "display_data"
    }
   ],
   "source": [
    "dataset['Deck'].value_counts().plot.bar()"
   ]
  },
  {
   "cell_type": "code",
   "execution_count": 9,
   "id": "9129b3ac",
   "metadata": {
    "execution": {
     "iopub.execute_input": "2022-06-16T19:30:47.547874Z",
     "iopub.status.busy": "2022-06-16T19:30:47.546978Z",
     "iopub.status.idle": "2022-06-16T19:30:47.716760Z",
     "shell.execute_reply": "2022-06-16T19:30:47.716085Z"
    },
    "papermill": {
     "duration": 0.186795,
     "end_time": "2022-06-16T19:30:47.718770",
     "exception": false,
     "start_time": "2022-06-16T19:30:47.531975",
     "status": "completed"
    },
    "tags": []
   },
   "outputs": [
    {
     "data": {
      "text/plain": [
       "<AxesSubplot:>"
      ]
     },
     "execution_count": 9,
     "metadata": {},
     "output_type": "execute_result"
    },
    {
     "data": {
      "image/png": "[encoded data removed]",
      "text/plain": [
       "<Figure size 432x288 with 1 Axes>"
      ]
     },
     "metadata": {
      "needs_background": "light"
     },
     "output_type": "display_data"
    }
   ],
   "source": [
    "dataset['Destination'].value_counts().plot.bar()"
   ]
  },
  {
   "cell_type": "code",
   "execution_count": 10,
   "id": "104b41f4",
   "metadata": {
    "execution": {
     "iopub.execute_input": "2022-06-16T19:30:47.749012Z",
     "iopub.status.busy": "2022-06-16T19:30:47.748146Z",
     "iopub.status.idle": "2022-06-16T19:30:47.763657Z",
     "shell.execute_reply": "2022-06-16T19:30:47.762947Z"
    },
    "papermill": {
     "duration": 0.03296,
     "end_time": "2022-06-16T19:30:47.765887",
     "exception": false,
     "start_time": "2022-06-16T19:30:47.732927",
     "status": "completed"
    },
    "tags": []
   },
   "outputs": [],
   "source": [
    "# Convert room number to uint\n",
    "dataset['RoomNumber'] = pd.to_numeric(dataset['RoomNumber'], downcast='unsigned')"
   ]
  },
  {
   "cell_type": "code",
   "execution_count": 11,
   "id": "2c17c212",
   "metadata": {
    "execution": {
     "iopub.execute_input": "2022-06-16T19:30:47.797202Z",
     "iopub.status.busy": "2022-06-16T19:30:47.796403Z",
     "iopub.status.idle": "2022-06-16T19:30:48.012102Z",
     "shell.execute_reply": "2022-06-16T19:30:48.010427Z"
    },
    "papermill": {
     "duration": 0.234196,
     "end_time": "2022-06-16T19:30:48.014408",
     "exception": false,
     "start_time": "2022-06-16T19:30:47.780212",
     "status": "completed"
    },
    "tags": []
   },
   "outputs": [
    {
     "data": {
      "text/plain": [
       "count    8494.000000\n",
       "mean      600.367671\n",
       "std       511.867226\n",
       "min         0.000000\n",
       "25%       167.250000\n",
       "50%       427.000000\n",
       "75%       999.000000\n",
       "max      1894.000000\n",
       "Name: RoomNumber, dtype: float64"
      ]
     },
     "metadata": {},
     "output_type": "display_data"
    },
    {
     "data": {
      "text/plain": [
       "<AxesSubplot:ylabel='Frequency'>"
      ]
     },
     "execution_count": 11,
     "metadata": {},
     "output_type": "execute_result"
    },
    {
     "data": {
      "image/png": "[encoded data removed]",
      "text/plain": [
       "<Figure size 432x288 with 1 Axes>"
      ]
     },
     "metadata": {
      "needs_background": "light"
     },
     "output_type": "display_data"
    }
   ],
   "source": [
    "display(dataset['RoomNumber'].describe())\n",
    "dataset['RoomNumber'].plot.hist()"
   ]
  },
  {
   "cell_type": "code",
   "execution_count": 12,
   "id": "5c3989b3",
   "metadata": {
    "execution": {
     "iopub.execute_input": "2022-06-16T19:30:48.047246Z",
     "iopub.status.busy": "2022-06-16T19:30:48.046461Z",
     "iopub.status.idle": "2022-06-16T19:30:48.221061Z",
     "shell.execute_reply": "2022-06-16T19:30:48.220349Z"
    },
    "papermill": {
     "duration": 0.192368,
     "end_time": "2022-06-16T19:30:48.223097",
     "exception": false,
     "start_time": "2022-06-16T19:30:48.030729",
     "status": "completed"
    },
    "tags": []
   },
   "outputs": [
    {
     "data": {
      "text/plain": [
       "<AxesSubplot:>"
      ]
     },
     "execution_count": 12,
     "metadata": {},
     "output_type": "execute_result"
    },
    {
     "data": {
      "image/png": "[encoded data removed]",
      "text/plain": [
       "<Figure size 432x288 with 1 Axes>"
      ]
     },
     "metadata": {
      "needs_background": "light"
     },
     "output_type": "display_data"
    }
   ],
   "source": [
    "dataset['VIP'].value_counts().plot.bar()"
   ]
  },
  {
   "cell_type": "code",
   "execution_count": 13,
   "id": "05c222c7",
   "metadata": {
    "execution": {
     "iopub.execute_input": "2022-06-16T19:30:48.254539Z",
     "iopub.status.busy": "2022-06-16T19:30:48.253978Z",
     "iopub.status.idle": "2022-06-16T19:30:48.477637Z",
     "shell.execute_reply": "2022-06-16T19:30:48.476873Z"
    },
    "papermill": {
     "duration": 0.242,
     "end_time": "2022-06-16T19:30:48.479745",
     "exception": false,
     "start_time": "2022-06-16T19:30:48.237745",
     "status": "completed"
    },
    "tags": []
   },
   "outputs": [
    {
     "data": {
      "text/plain": [
       "count    8319.000000\n",
       "mean       28.820411\n",
       "std        14.488090\n",
       "min         0.000000\n",
       "25%        19.000000\n",
       "50%        27.000000\n",
       "75%        38.000000\n",
       "max        79.000000\n",
       "Name: Age, dtype: float64"
      ]
     },
     "metadata": {},
     "output_type": "display_data"
    },
    {
     "data": {
      "image/png": "[encoded data removed]",
      "text/plain": [
       "<Figure size 432x288 with 1 Axes>"
      ]
     },
     "metadata": {
      "needs_background": "light"
     },
     "output_type": "display_data"
    }
   ],
   "source": [
    "display(dataset['Age'].describe())\n",
    "plt.hist(dataset['Age'])\n",
    "plt.xlabel('Age')\n",
    "plt.ylabel('Number of passengers')\n",
    "plt.show()"
   ]
  },
  {
   "cell_type": "markdown",
   "id": "524625aa",
   "metadata": {
    "papermill": {
     "duration": 0.014954,
     "end_time": "2022-06-16T19:30:48.510044",
     "exception": false,
     "start_time": "2022-06-16T19:30:48.495090",
     "status": "completed"
    },
    "tags": []
   },
   "source": [
    "## Bivariable analysis"
   ]
  },
  {
   "cell_type": "code",
   "execution_count": 14,
   "id": "5f231fdf",
   "metadata": {
    "execution": {
     "iopub.execute_input": "2022-06-16T19:30:48.542604Z",
     "iopub.status.busy": "2022-06-16T19:30:48.542022Z",
     "iopub.status.idle": "2022-06-16T19:30:48.551850Z",
     "shell.execute_reply": "2022-06-16T19:30:48.550980Z"
    },
    "papermill": {
     "duration": 0.028841,
     "end_time": "2022-06-16T19:30:48.554127",
     "exception": false,
     "start_time": "2022-06-16T19:30:48.525286",
     "status": "completed"
    },
    "tags": []
   },
   "outputs": [],
   "source": [
    "def cat_plot(column):\n",
    "    fig, ax = plt.subplots()\n",
    "    value_counts_trans = dataset[dataset['Transported']][column].value_counts()\n",
    "    value_counts_nottrans = dataset[~dataset['Transported']][column].value_counts()\n",
    "    labels = value_counts_trans.index.values\n",
    "    x = np.arange(len(labels))\n",
    "\n",
    "    width = 0.35\n",
    "    ax.bar(x - width/2, value_counts_trans.values, width, label='Transported')\n",
    "    ax.bar(x + width/2, value_counts_nottrans.values, width, label='Not Transported')\n",
    "    ax.set_xlabel(column)\n",
    "    ax.set_ylabel('Number of passenger')\n",
    "    ax.set_xticks(x, labels)\n",
    "    ax.legend()\n",
    "    plt.show()\n",
    "    \n",
    "def int_plot(column):\n",
    "    plt.hist([dataset[dataset['Transported']][column], dataset[~dataset['Transported']][column]], label=['Transported', 'Not Transported'])\n",
    "    plt.xlabel(column)\n",
    "    plt.ylabel('Number of passenger')\n",
    "    plt.legend()\n",
    "    plt.show()"
   ]
  },
  {
   "cell_type": "code",
   "execution_count": 15,
   "id": "15562030",
   "metadata": {
    "execution": {
     "iopub.execute_input": "2022-06-16T19:30:48.587001Z",
     "iopub.status.busy": "2022-06-16T19:30:48.586423Z",
     "iopub.status.idle": "2022-06-16T19:30:48.804690Z",
     "shell.execute_reply": "2022-06-16T19:30:48.803609Z"
    },
    "papermill": {
     "duration": 0.237217,
     "end_time": "2022-06-16T19:30:48.806900",
     "exception": false,
     "start_time": "2022-06-16T19:30:48.569683",
     "status": "completed"
    },
    "tags": []
   },
   "outputs": [
    {
     "data": {
      "text/html": [
       "<div>\n",
       "<style scoped>\n",
       "    .dataframe tbody tr th:only-of-type {\n",
       "        vertical-align: middle;\n",
       "    }\n",
       "\n",
       "    .dataframe tbody tr th {\n",
       "        vertical-align: top;\n",
       "    }\n",
       "\n",
       "    .dataframe thead th {\n",
       "        text-align: right;\n",
       "    }\n",
       "</style>\n",
       "<table border=\"1\" class=\"dataframe\">\n",
       "  <thead>\n",
       "    <tr style=\"text-align: right;\">\n",
       "      <th></th>\n",
       "      <th>Side</th>\n",
       "      <th>Transported</th>\n",
       "    </tr>\n",
       "  </thead>\n",
       "  <tbody>\n",
       "    <tr>\n",
       "      <th>Side</th>\n",
       "      <td>1.000000</td>\n",
       "      <td>0.103775</td>\n",
       "    </tr>\n",
       "    <tr>\n",
       "      <th>Transported</th>\n",
       "      <td>0.103775</td>\n",
       "      <td>1.000000</td>\n",
       "    </tr>\n",
       "  </tbody>\n",
       "</table>\n",
       "</div>"
      ],
      "text/plain": [
       "                 Side  Transported\n",
       "Side         1.000000     0.103775\n",
       "Transported  0.103775     1.000000"
      ]
     },
     "metadata": {},
     "output_type": "display_data"
    },
    {
     "data": {
      "image/png": "[encoded data removed]",
      "text/plain": [
       "<Figure size 432x288 with 1 Axes>"
      ]
     },
     "metadata": {
      "needs_background": "light"
     },
     "output_type": "display_data"
    }
   ],
   "source": [
    "encodedSide = dataset['Side'].map({'P': 0, 'S': 1})\n",
    "encodedTransported = dataset['Transported'].map({False: 0, True: 1})\n",
    "display(pd.concat([encodedSide, encodedTransported], axis=1).corr())\n",
    "pd.crosstab(dataset['Side'], dataset['Transported'])\n",
    "\n",
    "cat_plot('Side')"
   ]
  },
  {
   "cell_type": "markdown",
   "id": "4de5efbe",
   "metadata": {
    "papermill": {
     "duration": 0.015302,
     "end_time": "2022-06-16T19:30:48.837742",
     "exception": false,
     "start_time": "2022-06-16T19:30:48.822440",
     "status": "completed"
    },
    "tags": []
   },
   "source": [
    "A bit more of passengers on starboard were transported but the pearson correlation is very low.\n"
   ]
  },
  {
   "cell_type": "code",
   "execution_count": 16,
   "id": "02eba64e",
   "metadata": {
    "execution": {
     "iopub.execute_input": "2022-06-16T19:30:48.871882Z",
     "iopub.status.busy": "2022-06-16T19:30:48.870882Z",
     "iopub.status.idle": "2022-06-16T19:30:49.132609Z",
     "shell.execute_reply": "2022-06-16T19:30:49.131862Z"
    },
    "papermill": {
     "duration": 0.281396,
     "end_time": "2022-06-16T19:30:49.134747",
     "exception": false,
     "start_time": "2022-06-16T19:30:48.853351",
     "status": "completed"
    },
    "tags": []
   },
   "outputs": [
    {
     "data": {
      "text/html": [
       "<div>\n",
       "<style scoped>\n",
       "    .dataframe tbody tr th:only-of-type {\n",
       "        vertical-align: middle;\n",
       "    }\n",
       "\n",
       "    .dataframe tbody tr th {\n",
       "        vertical-align: top;\n",
       "    }\n",
       "\n",
       "    .dataframe thead th {\n",
       "        text-align: right;\n",
       "    }\n",
       "</style>\n",
       "<table border=\"1\" class=\"dataframe\">\n",
       "  <thead>\n",
       "    <tr style=\"text-align: right;\">\n",
       "      <th></th>\n",
       "      <th>Deck</th>\n",
       "      <th>Transported</th>\n",
       "    </tr>\n",
       "  </thead>\n",
       "  <tbody>\n",
       "    <tr>\n",
       "      <th>Deck</th>\n",
       "      <td>1.000000</td>\n",
       "      <td>-0.116462</td>\n",
       "    </tr>\n",
       "    <tr>\n",
       "      <th>Transported</th>\n",
       "      <td>-0.116462</td>\n",
       "      <td>1.000000</td>\n",
       "    </tr>\n",
       "  </tbody>\n",
       "</table>\n",
       "</div>"
      ],
      "text/plain": [
       "                 Deck  Transported\n",
       "Deck         1.000000    -0.116462\n",
       "Transported -0.116462     1.000000"
      ]
     },
     "metadata": {},
     "output_type": "display_data"
    },
    {
     "data": {
      "image/png": "[encoded data removed]",
      "text/plain": [
       "<Figure size 432x288 with 1 Axes>"
      ]
     },
     "metadata": {
      "needs_background": "light"
     },
     "output_type": "display_data"
    }
   ],
   "source": [
    "encodedDeck = dataset['Deck'].map({'A': 0, 'B': 1, 'C': 2, 'D': 3, 'E': 4, 'F': 5, 'G': 6, 'T': 7})\n",
    "display(pd.concat([encodedDeck, encodedTransported], axis=1).corr())\n",
    "pd.crosstab(dataset['Deck'], dataset['Transported'])\n",
    "\n",
    "cat_plot('Deck')"
   ]
  },
  {
   "cell_type": "code",
   "execution_count": 17,
   "id": "243df7d7",
   "metadata": {
    "execution": {
     "iopub.execute_input": "2022-06-16T19:30:49.168773Z",
     "iopub.status.busy": "2022-06-16T19:30:49.168209Z",
     "iopub.status.idle": "2022-06-16T19:30:49.550464Z",
     "shell.execute_reply": "2022-06-16T19:30:49.549767Z"
    },
    "papermill": {
     "duration": 0.401833,
     "end_time": "2022-06-16T19:30:49.552449",
     "exception": false,
     "start_time": "2022-06-16T19:30:49.150616",
     "status": "completed"
    },
    "tags": []
   },
   "outputs": [
    {
     "data": {
      "image/png": "[encoded data removed]",
      "text/plain": [
       "<Figure size 432x288 with 1 Axes>"
      ]
     },
     "metadata": {
      "needs_background": "light"
     },
     "output_type": "display_data"
    }
   ],
   "source": [
    "pd.concat([dataset['RoomNumber'], encodedTransported], axis=1).corr()\n",
    "int_plot('RoomNumber')"
   ]
  },
  {
   "cell_type": "code",
   "execution_count": 18,
   "id": "fe28a3f0",
   "metadata": {
    "execution": {
     "iopub.execute_input": "2022-06-16T19:30:49.586778Z",
     "iopub.status.busy": "2022-06-16T19:30:49.586132Z",
     "iopub.status.idle": "2022-06-16T19:30:49.791992Z",
     "shell.execute_reply": "2022-06-16T19:30:49.791290Z"
    },
    "papermill": {
     "duration": 0.225466,
     "end_time": "2022-06-16T19:30:49.794046",
     "exception": false,
     "start_time": "2022-06-16T19:30:49.568580",
     "status": "completed"
    },
    "tags": []
   },
   "outputs": [
    {
     "data": {
      "text/html": [
       "<div>\n",
       "<style scoped>\n",
       "    .dataframe tbody tr th:only-of-type {\n",
       "        vertical-align: middle;\n",
       "    }\n",
       "\n",
       "    .dataframe tbody tr th {\n",
       "        vertical-align: top;\n",
       "    }\n",
       "\n",
       "    .dataframe thead th {\n",
       "        text-align: right;\n",
       "    }\n",
       "</style>\n",
       "<table border=\"1\" class=\"dataframe\">\n",
       "  <thead>\n",
       "    <tr style=\"text-align: right;\">\n",
       "      <th></th>\n",
       "      <th>VIP</th>\n",
       "      <th>Transported</th>\n",
       "    </tr>\n",
       "  </thead>\n",
       "  <tbody>\n",
       "    <tr>\n",
       "      <th>VIP</th>\n",
       "      <td>1.000000</td>\n",
       "      <td>-0.035406</td>\n",
       "    </tr>\n",
       "    <tr>\n",
       "      <th>Transported</th>\n",
       "      <td>-0.035406</td>\n",
       "      <td>1.000000</td>\n",
       "    </tr>\n",
       "  </tbody>\n",
       "</table>\n",
       "</div>"
      ],
      "text/plain": [
       "                  VIP  Transported\n",
       "VIP          1.000000    -0.035406\n",
       "Transported -0.035406     1.000000"
      ]
     },
     "metadata": {},
     "output_type": "display_data"
    },
    {
     "data": {
      "image/png": "[encoded data removed]",
      "text/plain": [
       "<Figure size 432x288 with 1 Axes>"
      ]
     },
     "metadata": {
      "needs_background": "light"
     },
     "output_type": "display_data"
    }
   ],
   "source": [
    "encodedVIP = dataset['VIP'].map({False: 0, True: 1})\n",
    "display(pd.concat([encodedVIP, encodedTransported], axis=1).corr())\n",
    "pd.crosstab(dataset['VIP'], dataset['Transported'])\n",
    "\n",
    "cat_plot('VIP')"
   ]
  },
  {
   "cell_type": "code",
   "execution_count": 19,
   "id": "5fa35266",
   "metadata": {
    "execution": {
     "iopub.execute_input": "2022-06-16T19:30:49.830605Z",
     "iopub.status.busy": "2022-06-16T19:30:49.830049Z",
     "iopub.status.idle": "2022-06-16T19:30:50.090551Z",
     "shell.execute_reply": "2022-06-16T19:30:50.089542Z"
    },
    "papermill": {
     "duration": 0.281295,
     "end_time": "2022-06-16T19:30:50.092845",
     "exception": false,
     "start_time": "2022-06-16T19:30:49.811550",
     "status": "completed"
    },
    "tags": []
   },
   "outputs": [
    {
     "data": {
      "image/png": "[encoded data removed]",
      "text/plain": [
       "<Figure size 432x288 with 1 Axes>"
      ]
     },
     "metadata": {
      "needs_background": "light"
     },
     "output_type": "display_data"
    }
   ],
   "source": [
    "pd.concat([dataset['Age'], encodedTransported], axis=1).corr()\n",
    "int_plot('Age')"
   ]
  },
  {
   "cell_type": "code",
   "execution_count": 20,
   "id": "0ac2d93a",
   "metadata": {
    "execution": {
     "iopub.execute_input": "2022-06-16T19:30:50.129955Z",
     "iopub.status.busy": "2022-06-16T19:30:50.129119Z",
     "iopub.status.idle": "2022-06-16T19:30:50.502787Z",
     "shell.execute_reply": "2022-06-16T19:30:50.501690Z"
    },
    "papermill": {
     "duration": 0.394842,
     "end_time": "2022-06-16T19:30:50.504948",
     "exception": false,
     "start_time": "2022-06-16T19:30:50.110106",
     "status": "completed"
    },
    "tags": []
   },
   "outputs": [
    {
     "data": {
      "image/png": "[encoded data removed]",
      "text/plain": [
       "<Figure size 432x288 with 1 Axes>"
      ]
     },
     "metadata": {
      "needs_background": "light"
     },
     "output_type": "display_data"
    },
    {
     "data": {
      "image/png": "[encoded data removed]",
      "text/plain": [
       "<Figure size 432x288 with 1 Axes>"
      ]
     },
     "metadata": {
      "needs_background": "light"
     },
     "output_type": "display_data"
    }
   ],
   "source": [
    "encodedCryo = dataset['CryoSleep'].map({False: 0, True: 1})\n",
    "cat_plot('CryoSleep')\n",
    "encodedHome = pd.get_dummies(dataset['HomePlanet'])\n",
    "cat_plot('HomePlanet')"
   ]
  },
  {
   "cell_type": "code",
   "execution_count": 21,
   "id": "427878f5",
   "metadata": {
    "execution": {
     "iopub.execute_input": "2022-06-16T19:30:50.542313Z",
     "iopub.status.busy": "2022-06-16T19:30:50.541705Z",
     "iopub.status.idle": "2022-06-16T19:30:50.563433Z",
     "shell.execute_reply": "2022-06-16T19:30:50.562722Z"
    },
    "papermill": {
     "duration": 0.042783,
     "end_time": "2022-06-16T19:30:50.565492",
     "exception": false,
     "start_time": "2022-06-16T19:30:50.522709",
     "status": "completed"
    },
    "tags": []
   },
   "outputs": [
    {
     "data": {
      "text/html": [
       "<div>\n",
       "<style scoped>\n",
       "    .dataframe tbody tr th:only-of-type {\n",
       "        vertical-align: middle;\n",
       "    }\n",
       "\n",
       "    .dataframe tbody tr th {\n",
       "        vertical-align: top;\n",
       "    }\n",
       "\n",
       "    .dataframe thead th {\n",
       "        text-align: right;\n",
       "    }\n",
       "</style>\n",
       "<table border=\"1\" class=\"dataframe\">\n",
       "  <thead>\n",
       "    <tr style=\"text-align: right;\">\n",
       "      <th>CryoSleep</th>\n",
       "      <th>False</th>\n",
       "      <th>True</th>\n",
       "    </tr>\n",
       "    <tr>\n",
       "      <th>HomePlanet</th>\n",
       "      <th></th>\n",
       "      <th></th>\n",
       "    </tr>\n",
       "  </thead>\n",
       "  <tbody>\n",
       "    <tr>\n",
       "      <th>Earth</th>\n",
       "      <td>3051</td>\n",
       "      <td>1346</td>\n",
       "    </tr>\n",
       "    <tr>\n",
       "      <th>Europa</th>\n",
       "      <td>1131</td>\n",
       "      <td>882</td>\n",
       "    </tr>\n",
       "    <tr>\n",
       "      <th>Mars</th>\n",
       "      <td>1027</td>\n",
       "      <td>654</td>\n",
       "    </tr>\n",
       "  </tbody>\n",
       "</table>\n",
       "</div>"
      ],
      "text/plain": [
       "CryoSleep   False  True\n",
       "HomePlanet             \n",
       "Earth        3051  1346\n",
       "Europa       1131   882\n",
       "Mars         1027   654"
      ]
     },
     "execution_count": 21,
     "metadata": {},
     "output_type": "execute_result"
    }
   ],
   "source": [
    "pd.crosstab(dataset['HomePlanet'], dataset['CryoSleep'])"
   ]
  },
  {
   "cell_type": "code",
   "execution_count": 22,
   "id": "d0978203",
   "metadata": {
    "execution": {
     "iopub.execute_input": "2022-06-16T19:30:50.603490Z",
     "iopub.status.busy": "2022-06-16T19:30:50.602459Z",
     "iopub.status.idle": "2022-06-16T19:30:51.894773Z",
     "shell.execute_reply": "2022-06-16T19:30:51.893593Z"
    },
    "papermill": {
     "duration": 1.313874,
     "end_time": "2022-06-16T19:30:51.897171",
     "exception": false,
     "start_time": "2022-06-16T19:30:50.583297",
     "status": "completed"
    },
    "tags": []
   },
   "outputs": [
    {
     "name": "stdout",
     "output_type": "stream",
     "text": [
      "Analysing RoomService\n"
     ]
    },
    {
     "data": {
      "text/plain": [
       "count    8317.000000\n",
       "mean      221.954671\n",
       "std       640.734593\n",
       "min         0.000000\n",
       "25%         0.000000\n",
       "50%         0.000000\n",
       "75%        48.000000\n",
       "max      9920.000000\n",
       "Name: RoomService, dtype: float64"
      ]
     },
     "metadata": {},
     "output_type": "display_data"
    },
    {
     "data": {
      "image/png": "[encoded data removed]",
      "text/plain": [
       "<Figure size 432x288 with 1 Axes>"
      ]
     },
     "metadata": {
      "needs_background": "light"
     },
     "output_type": "display_data"
    },
    {
     "name": "stdout",
     "output_type": "stream",
     "text": [
      "Analysing FoodCourt\n"
     ]
    },
    {
     "data": {
      "text/plain": [
       "count     8316.000000\n",
       "mean       457.992665\n",
       "std       1616.551099\n",
       "min          0.000000\n",
       "25%          0.000000\n",
       "50%          0.000000\n",
       "75%         78.250000\n",
       "max      29813.000000\n",
       "Name: FoodCourt, dtype: float64"
      ]
     },
     "metadata": {},
     "output_type": "display_data"
    },
    {
     "data": {
      "image/png": "[encoded data removed]",
      "text/plain": [
       "<Figure size 432x288 with 1 Axes>"
      ]
     },
     "metadata": {
      "needs_background": "light"
     },
     "output_type": "display_data"
    },
    {
     "name": "stdout",
     "output_type": "stream",
     "text": [
      "Analysing ShoppingMall\n"
     ]
    },
    {
     "data": {
      "text/plain": [
       "count     8288.000000\n",
       "mean       174.700531\n",
       "std        608.668091\n",
       "min          0.000000\n",
       "25%          0.000000\n",
       "50%          0.000000\n",
       "75%         28.000000\n",
       "max      23492.000000\n",
       "Name: ShoppingMall, dtype: float64"
      ]
     },
     "metadata": {},
     "output_type": "display_data"
    },
    {
     "data": {
      "image/png": "[encoded data removed]",
      "text/plain": [
       "<Figure size 432x288 with 1 Axes>"
      ]
     },
     "metadata": {
      "needs_background": "light"
     },
     "output_type": "display_data"
    },
    {
     "name": "stdout",
     "output_type": "stream",
     "text": [
      "Analysing Spa\n"
     ]
    },
    {
     "data": {
      "text/plain": [
       "count     8313.000000\n",
       "mean       306.623120\n",
       "std       1119.076668\n",
       "min          0.000000\n",
       "25%          0.000000\n",
       "50%          0.000000\n",
       "75%         59.000000\n",
       "max      22408.000000\n",
       "Name: Spa, dtype: float64"
      ]
     },
     "metadata": {},
     "output_type": "display_data"
    },
    {
     "data": {
      "image/png": "[encoded data removed]",
      "text/plain": [
       "<Figure size 432x288 with 1 Axes>"
      ]
     },
     "metadata": {
      "needs_background": "light"
     },
     "output_type": "display_data"
    },
    {
     "name": "stdout",
     "output_type": "stream",
     "text": [
      "Analysing VRDeck\n"
     ]
    },
    {
     "data": {
      "text/plain": [
       "count     8310.000000\n",
       "mean       306.132371\n",
       "std       1148.895082\n",
       "min          0.000000\n",
       "25%          0.000000\n",
       "50%          0.000000\n",
       "75%         46.750000\n",
       "max      24133.000000\n",
       "Name: VRDeck, dtype: float64"
      ]
     },
     "metadata": {},
     "output_type": "display_data"
    },
    {
     "data": {
      "image/png": "[encoded data removed]",
      "text/plain": [
       "<Figure size 432x288 with 1 Axes>"
      ]
     },
     "metadata": {
      "needs_background": "light"
     },
     "output_type": "display_data"
    }
   ],
   "source": [
    "for column in ['RoomService', 'FoodCourt', 'ShoppingMall', 'Spa', 'VRDeck']:\n",
    "    print('Analysing', column)\n",
    "    display(dataset[column].describe())\n",
    "    int_plot(column)"
   ]
  },
  {
   "cell_type": "code",
   "execution_count": 23,
   "id": "131714e3",
   "metadata": {
    "execution": {
     "iopub.execute_input": "2022-06-16T19:30:51.941654Z",
     "iopub.status.busy": "2022-06-16T19:30:51.940556Z",
     "iopub.status.idle": "2022-06-16T19:30:52.206672Z",
     "shell.execute_reply": "2022-06-16T19:30:52.205669Z"
    },
    "papermill": {
     "duration": 0.29022,
     "end_time": "2022-06-16T19:30:52.209115",
     "exception": false,
     "start_time": "2022-06-16T19:30:51.918895",
     "status": "completed"
    },
    "tags": []
   },
   "outputs": [
    {
     "data": {
      "image/png": "[encoded data removed]",
      "text/plain": [
       "<Figure size 432x288 with 1 Axes>"
      ]
     },
     "metadata": {
      "needs_background": "light"
     },
     "output_type": "display_data"
    }
   ],
   "source": [
    "dataset['TotalSpent'] = dataset[['RoomService', 'FoodCourt', 'ShoppingMall', 'Spa', 'VRDeck']].sum(axis=1)\n",
    "int_plot('TotalSpent')"
   ]
  },
  {
   "cell_type": "markdown",
   "id": "19d06925",
   "metadata": {
    "papermill": {
     "duration": 0.020411,
     "end_time": "2022-06-16T19:30:52.250211",
     "exception": false,
     "start_time": "2022-06-16T19:30:52.229800",
     "status": "completed"
    },
    "tags": []
   },
   "source": [
    "## Get most corrolated values"
   ]
  },
  {
   "cell_type": "code",
   "execution_count": 24,
   "id": "a9379ab9",
   "metadata": {
    "execution": {
     "iopub.execute_input": "2022-06-16T19:30:52.293658Z",
     "iopub.status.busy": "2022-06-16T19:30:52.292729Z",
     "iopub.status.idle": "2022-06-16T19:30:53.665840Z",
     "shell.execute_reply": "2022-06-16T19:30:53.664837Z"
    },
    "papermill": {
     "duration": 1.400554,
     "end_time": "2022-06-16T19:30:53.671392",
     "exception": false,
     "start_time": "2022-06-16T19:30:52.270838",
     "status": "completed"
    },
    "tags": []
   },
   "outputs": [
    {
     "data": {
      "text/html": [
       "<div>\n",
       "<style scoped>\n",
       "    .dataframe tbody tr th:only-of-type {\n",
       "        vertical-align: middle;\n",
       "    }\n",
       "\n",
       "    .dataframe tbody tr th {\n",
       "        vertical-align: top;\n",
       "    }\n",
       "\n",
       "    .dataframe thead th {\n",
       "        text-align: right;\n",
       "    }\n",
       "</style>\n",
       "<table border=\"1\" class=\"dataframe\">\n",
       "  <thead>\n",
       "    <tr style=\"text-align: right;\">\n",
       "      <th></th>\n",
       "      <th>Age</th>\n",
       "      <th>RoomService</th>\n",
       "      <th>FoodCourt</th>\n",
       "      <th>ShoppingMall</th>\n",
       "      <th>Spa</th>\n",
       "      <th>VRDeck</th>\n",
       "      <th>Transported</th>\n",
       "      <th>RoomNumber</th>\n",
       "      <th>TotalSpent</th>\n",
       "      <th>Deck</th>\n",
       "      <th>Side</th>\n",
       "      <th>VIP</th>\n",
       "      <th>CryoSleep</th>\n",
       "      <th>Earth</th>\n",
       "      <th>Europa</th>\n",
       "      <th>Mars</th>\n",
       "    </tr>\n",
       "  </thead>\n",
       "  <tbody>\n",
       "    <tr>\n",
       "      <th>Age</th>\n",
       "      <td>1.000000</td>\n",
       "      <td>0.070586</td>\n",
       "      <td>0.129999</td>\n",
       "      <td>0.034103</td>\n",
       "      <td>0.122365</td>\n",
       "      <td>0.101069</td>\n",
       "      <td>-0.077213</td>\n",
       "      <td>-0.132255</td>\n",
       "      <td>0.186249</td>\n",
       "      <td>-0.248003</td>\n",
       "      <td>0.011640</td>\n",
       "      <td>0.092592</td>\n",
       "      <td>-0.073938</td>\n",
       "      <td>-0.198902</td>\n",
       "      <td>0.217664</td>\n",
       "      <td>0.015660</td>\n",
       "    </tr>\n",
       "    <tr>\n",
       "      <th>RoomService</th>\n",
       "      <td>0.070586</td>\n",
       "      <td>1.000000</td>\n",
       "      <td>-0.018380</td>\n",
       "      <td>0.054638</td>\n",
       "      <td>0.013700</td>\n",
       "      <td>-0.020419</td>\n",
       "      <td>-0.248758</td>\n",
       "      <td>-0.008986</td>\n",
       "      <td>0.229522</td>\n",
       "      <td>-0.026783</td>\n",
       "      <td>-0.012290</td>\n",
       "      <td>0.045832</td>\n",
       "      <td>-0.258782</td>\n",
       "      <td>-0.140647</td>\n",
       "      <td>-0.076557</td>\n",
       "      <td>0.258430</td>\n",
       "    </tr>\n",
       "    <tr>\n",
       "      <th>FoodCourt</th>\n",
       "      <td>0.129999</td>\n",
       "      <td>-0.018380</td>\n",
       "      <td>1.000000</td>\n",
       "      <td>-0.013322</td>\n",
       "      <td>0.217284</td>\n",
       "      <td>0.224099</td>\n",
       "      <td>0.048559</td>\n",
       "      <td>-0.183429</td>\n",
       "      <td>0.745822</td>\n",
       "      <td>-0.324348</td>\n",
       "      <td>0.020149</td>\n",
       "      <td>0.129402</td>\n",
       "      <td>-0.209967</td>\n",
       "      <td>-0.210271</td>\n",
       "      <td>0.369000</td>\n",
       "      <td>-0.125779</td>\n",
       "    </tr>\n",
       "    <tr>\n",
       "      <th>ShoppingMall</th>\n",
       "      <td>0.034103</td>\n",
       "      <td>0.054638</td>\n",
       "      <td>-0.013322</td>\n",
       "      <td>1.000000</td>\n",
       "      <td>0.016051</td>\n",
       "      <td>-0.007186</td>\n",
       "      <td>0.011862</td>\n",
       "      <td>0.001727</td>\n",
       "      <td>0.225656</td>\n",
       "      <td>-0.032926</td>\n",
       "      <td>-0.020983</td>\n",
       "      <td>0.016453</td>\n",
       "      <td>-0.211642</td>\n",
       "      <td>-0.070569</td>\n",
       "      <td>-0.018109</td>\n",
       "      <td>0.109675</td>\n",
       "    </tr>\n",
       "    <tr>\n",
       "      <th>Spa</th>\n",
       "      <td>0.122365</td>\n",
       "      <td>0.013700</td>\n",
       "      <td>0.217284</td>\n",
       "      <td>0.016051</td>\n",
       "      <td>1.000000</td>\n",
       "      <td>0.155826</td>\n",
       "      <td>-0.220264</td>\n",
       "      <td>-0.131342</td>\n",
       "      <td>0.593310</td>\n",
       "      <td>-0.229111</td>\n",
       "      <td>0.002031</td>\n",
       "      <td>0.058722</td>\n",
       "      <td>-0.203376</td>\n",
       "      <td>-0.155163</td>\n",
       "      <td>0.266356</td>\n",
       "      <td>-0.088285</td>\n",
       "    </tr>\n",
       "    <tr>\n",
       "      <th>VRDeck</th>\n",
       "      <td>0.101069</td>\n",
       "      <td>-0.020419</td>\n",
       "      <td>0.224099</td>\n",
       "      <td>-0.007186</td>\n",
       "      <td>0.155826</td>\n",
       "      <td>1.000000</td>\n",
       "      <td>-0.207645</td>\n",
       "      <td>-0.139080</td>\n",
       "      <td>0.588282</td>\n",
       "      <td>-0.257326</td>\n",
       "      <td>-0.008154</td>\n",
       "      <td>0.126290</td>\n",
       "      <td>-0.198232</td>\n",
       "      <td>-0.154437</td>\n",
       "      <td>0.286405</td>\n",
       "      <td>-0.113899</td>\n",
       "    </tr>\n",
       "    <tr>\n",
       "      <th>Transported</th>\n",
       "      <td>-0.077213</td>\n",
       "      <td>-0.248758</td>\n",
       "      <td>0.048559</td>\n",
       "      <td>0.011862</td>\n",
       "      <td>-0.220264</td>\n",
       "      <td>-0.207645</td>\n",
       "      <td>1.000000</td>\n",
       "      <td>-0.045097</td>\n",
       "      <td>-0.196387</td>\n",
       "      <td>-0.116462</td>\n",
       "      <td>0.103775</td>\n",
       "      <td>-0.035406</td>\n",
       "      <td>0.467484</td>\n",
       "      <td>-0.168415</td>\n",
       "      <td>0.176303</td>\n",
       "      <td>0.020332</td>\n",
       "    </tr>\n",
       "    <tr>\n",
       "      <th>RoomNumber</th>\n",
       "      <td>-0.132255</td>\n",
       "      <td>-0.008986</td>\n",
       "      <td>-0.183429</td>\n",
       "      <td>0.001727</td>\n",
       "      <td>-0.131342</td>\n",
       "      <td>-0.139080</td>\n",
       "      <td>-0.045097</td>\n",
       "      <td>1.000000</td>\n",
       "      <td>-0.213494</td>\n",
       "      <td>0.531449</td>\n",
       "      <td>-0.037996</td>\n",
       "      <td>-0.099416</td>\n",
       "      <td>-0.037560</td>\n",
       "      <td>0.366109</td>\n",
       "      <td>-0.489880</td>\n",
       "      <td>0.062596</td>\n",
       "    </tr>\n",
       "    <tr>\n",
       "      <th>TotalSpent</th>\n",
       "      <td>0.186249</td>\n",
       "      <td>0.229522</td>\n",
       "      <td>0.745822</td>\n",
       "      <td>0.225656</td>\n",
       "      <td>0.593310</td>\n",
       "      <td>0.588282</td>\n",
       "      <td>-0.196387</td>\n",
       "      <td>-0.213494</td>\n",
       "      <td>1.000000</td>\n",
       "      <td>-0.391983</td>\n",
       "      <td>0.001998</td>\n",
       "      <td>0.160794</td>\n",
       "      <td>-0.382184</td>\n",
       "      <td>-0.289714</td>\n",
       "      <td>0.408798</td>\n",
       "      <td>-0.070279</td>\n",
       "    </tr>\n",
       "    <tr>\n",
       "      <th>Deck</th>\n",
       "      <td>-0.248003</td>\n",
       "      <td>-0.026783</td>\n",
       "      <td>-0.324348</td>\n",
       "      <td>-0.032926</td>\n",
       "      <td>-0.229111</td>\n",
       "      <td>-0.257326</td>\n",
       "      <td>-0.116462</td>\n",
       "      <td>0.531449</td>\n",
       "      <td>-0.391983</td>\n",
       "      <td>1.000000</td>\n",
       "      <td>-0.034500</td>\n",
       "      <td>-0.183393</td>\n",
       "      <td>0.017823</td>\n",
       "      <td>0.694337</td>\n",
       "      <td>-0.860589</td>\n",
       "      <td>0.049755</td>\n",
       "    </tr>\n",
       "    <tr>\n",
       "      <th>Side</th>\n",
       "      <td>0.011640</td>\n",
       "      <td>-0.012290</td>\n",
       "      <td>0.020149</td>\n",
       "      <td>-0.020983</td>\n",
       "      <td>0.002031</td>\n",
       "      <td>-0.008154</td>\n",
       "      <td>0.103775</td>\n",
       "      <td>-0.037996</td>\n",
       "      <td>0.001998</td>\n",
       "      <td>-0.034500</td>\n",
       "      <td>1.000000</td>\n",
       "      <td>-0.010117</td>\n",
       "      <td>0.019677</td>\n",
       "      <td>-0.018050</td>\n",
       "      <td>0.038398</td>\n",
       "      <td>-0.020682</td>\n",
       "    </tr>\n",
       "    <tr>\n",
       "      <th>VIP</th>\n",
       "      <td>0.092592</td>\n",
       "      <td>0.045832</td>\n",
       "      <td>0.129402</td>\n",
       "      <td>0.016453</td>\n",
       "      <td>0.058722</td>\n",
       "      <td>0.126290</td>\n",
       "      <td>-0.035406</td>\n",
       "      <td>-0.099416</td>\n",
       "      <td>0.160794</td>\n",
       "      <td>-0.183393</td>\n",
       "      <td>-0.010117</td>\n",
       "      <td>1.000000</td>\n",
       "      <td>-0.079403</td>\n",
       "      <td>-0.163781</td>\n",
       "      <td>0.146666</td>\n",
       "      <td>0.045495</td>\n",
       "    </tr>\n",
       "    <tr>\n",
       "      <th>CryoSleep</th>\n",
       "      <td>-0.073938</td>\n",
       "      <td>-0.258782</td>\n",
       "      <td>-0.209967</td>\n",
       "      <td>-0.211642</td>\n",
       "      <td>-0.203376</td>\n",
       "      <td>-0.198232</td>\n",
       "      <td>0.467484</td>\n",
       "      <td>-0.037560</td>\n",
       "      <td>-0.382184</td>\n",
       "      <td>0.017823</td>\n",
       "      <td>0.019677</td>\n",
       "      <td>-0.079403</td>\n",
       "      <td>1.000000</td>\n",
       "      <td>-0.111814</td>\n",
       "      <td>0.096623</td>\n",
       "      <td>0.034326</td>\n",
       "    </tr>\n",
       "    <tr>\n",
       "      <th>Earth</th>\n",
       "      <td>-0.198902</td>\n",
       "      <td>-0.140647</td>\n",
       "      <td>-0.210271</td>\n",
       "      <td>-0.070569</td>\n",
       "      <td>-0.155163</td>\n",
       "      <td>-0.154437</td>\n",
       "      <td>-0.168415</td>\n",
       "      <td>0.366109</td>\n",
       "      <td>-0.289714</td>\n",
       "      <td>0.694337</td>\n",
       "      <td>-0.018050</td>\n",
       "      <td>-0.163781</td>\n",
       "      <td>-0.111814</td>\n",
       "      <td>1.000000</td>\n",
       "      <td>-0.603536</td>\n",
       "      <td>-0.536141</td>\n",
       "    </tr>\n",
       "    <tr>\n",
       "      <th>Europa</th>\n",
       "      <td>0.217664</td>\n",
       "      <td>-0.076557</td>\n",
       "      <td>0.369000</td>\n",
       "      <td>-0.018109</td>\n",
       "      <td>0.266356</td>\n",
       "      <td>0.286405</td>\n",
       "      <td>0.176303</td>\n",
       "      <td>-0.489880</td>\n",
       "      <td>0.408798</td>\n",
       "      <td>-0.860589</td>\n",
       "      <td>0.038398</td>\n",
       "      <td>0.146666</td>\n",
       "      <td>0.096623</td>\n",
       "      <td>-0.603536</td>\n",
       "      <td>1.000000</td>\n",
       "      <td>-0.286247</td>\n",
       "    </tr>\n",
       "    <tr>\n",
       "      <th>Mars</th>\n",
       "      <td>0.015660</td>\n",
       "      <td>0.258430</td>\n",
       "      <td>-0.125779</td>\n",
       "      <td>0.109675</td>\n",
       "      <td>-0.088285</td>\n",
       "      <td>-0.113899</td>\n",
       "      <td>0.020332</td>\n",
       "      <td>0.062596</td>\n",
       "      <td>-0.070279</td>\n",
       "      <td>0.049755</td>\n",
       "      <td>-0.020682</td>\n",
       "      <td>0.045495</td>\n",
       "      <td>0.034326</td>\n",
       "      <td>-0.536141</td>\n",
       "      <td>-0.286247</td>\n",
       "      <td>1.000000</td>\n",
       "    </tr>\n",
       "  </tbody>\n",
       "</table>\n",
       "</div>"
      ],
      "text/plain": [
       "                   Age  RoomService  FoodCourt  ShoppingMall       Spa  \\\n",
       "Age           1.000000     0.070586   0.129999      0.034103  0.122365   \n",
       "RoomService   0.070586     1.000000  -0.018380      0.054638  0.013700   \n",
       "FoodCourt     0.129999    -0.018380   1.000000     -0.013322  0.217284   \n",
       "ShoppingMall  0.034103     0.054638  -0.013322      1.000000  0.016051   \n",
       "Spa           0.122365     0.013700   0.217284      0.016051  1.000000   \n",
       "VRDeck        0.101069    -0.020419   0.224099     -0.007186  0.155826   \n",
       "Transported  -0.077213    -0.248758   0.048559      0.011862 -0.220264   \n",
       "RoomNumber   -0.132255    -0.008986  -0.183429      0.001727 -0.131342   \n",
       "TotalSpent    0.186249     0.229522   0.745822      0.225656  0.593310   \n",
       "Deck         -0.248003    -0.026783  -0.324348     -0.032926 -0.229111   \n",
       "Side          0.011640    -0.012290   0.020149     -0.020983  0.002031   \n",
       "VIP           0.092592     0.045832   0.129402      0.016453  0.058722   \n",
       "CryoSleep    -0.073938    -0.258782  -0.209967     -0.211642 -0.203376   \n",
       "Earth        -0.198902    -0.140647  -0.210271     -0.070569 -0.155163   \n",
       "Europa        0.217664    -0.076557   0.369000     -0.018109  0.266356   \n",
       "Mars          0.015660     0.258430  -0.125779      0.109675 -0.088285   \n",
       "\n",
       "                VRDeck  Transported  RoomNumber  TotalSpent      Deck  \\\n",
       "Age           0.101069    -0.077213   -0.132255    0.186249 -0.248003   \n",
       "RoomService  -0.020419    -0.248758   -0.008986    0.229522 -0.026783   \n",
       "FoodCourt     0.224099     0.048559   -0.183429    0.745822 -0.324348   \n",
       "ShoppingMall -0.007186     0.011862    0.001727    0.225656 -0.032926   \n",
       "Spa           0.155826    -0.220264   -0.131342    0.593310 -0.229111   \n",
       "VRDeck        1.000000    -0.207645   -0.139080    0.588282 -0.257326   \n",
       "Transported  -0.207645     1.000000   -0.045097   -0.196387 -0.116462   \n",
       "RoomNumber   -0.139080    -0.045097    1.000000   -0.213494  0.531449   \n",
       "TotalSpent    0.588282    -0.196387   -0.213494    1.000000 -0.391983   \n",
       "Deck         -0.257326    -0.116462    0.531449   -0.391983  1.000000   \n",
       "Side         -0.008154     0.103775   -0.037996    0.001998 -0.034500   \n",
       "VIP           0.126290    -0.035406   -0.099416    0.160794 -0.183393   \n",
       "CryoSleep    -0.198232     0.467484   -0.037560   -0.382184  0.017823   \n",
       "Earth        -0.154437    -0.168415    0.366109   -0.289714  0.694337   \n",
       "Europa        0.286405     0.176303   -0.489880    0.408798 -0.860589   \n",
       "Mars         -0.113899     0.020332    0.062596   -0.070279  0.049755   \n",
       "\n",
       "                  Side       VIP  CryoSleep     Earth    Europa      Mars  \n",
       "Age           0.011640  0.092592  -0.073938 -0.198902  0.217664  0.015660  \n",
       "RoomService  -0.012290  0.045832  -0.258782 -0.140647 -0.076557  0.258430  \n",
       "FoodCourt     0.020149  0.129402  -0.209967 -0.210271  0.369000 -0.125779  \n",
       "ShoppingMall -0.020983  0.016453  -0.211642 -0.070569 -0.018109  0.109675  \n",
       "Spa           0.002031  0.058722  -0.203376 -0.155163  0.266356 -0.088285  \n",
       "VRDeck       -0.008154  0.126290  -0.198232 -0.154437  0.286405 -0.113899  \n",
       "Transported   0.103775 -0.035406   0.467484 -0.168415  0.176303  0.020332  \n",
       "RoomNumber   -0.037996 -0.099416  -0.037560  0.366109 -0.489880  0.062596  \n",
       "TotalSpent    0.001998  0.160794  -0.382184 -0.289714  0.408798 -0.070279  \n",
       "Deck         -0.034500 -0.183393   0.017823  0.694337 -0.860589  0.049755  \n",
       "Side          1.000000 -0.010117   0.019677 -0.018050  0.038398 -0.020682  \n",
       "VIP          -0.010117  1.000000  -0.079403 -0.163781  0.146666  0.045495  \n",
       "CryoSleep     0.019677 -0.079403   1.000000 -0.111814  0.096623  0.034326  \n",
       "Earth        -0.018050 -0.163781  -0.111814  1.000000 -0.603536 -0.536141  \n",
       "Europa        0.038398  0.146666   0.096623 -0.603536  1.000000 -0.286247  \n",
       "Mars         -0.020682  0.045495   0.034326 -0.536141 -0.286247  1.000000  "
      ]
     },
     "metadata": {},
     "output_type": "display_data"
    },
    {
     "data": {
      "image/png": "[encoded data removed]",
      "text/plain": [
       "<Figure size 1440x1440 with 2 Axes>"
      ]
     },
     "metadata": {
      "needs_background": "light"
     },
     "output_type": "display_data"
    },
    {
     "name": "stdout",
     "output_type": "stream",
     "text": [
      "Most corrolated values to Transported\n",
      "CryoSleep      0.467484\n",
      "RoomService    0.248758\n",
      "Spa            0.220264\n",
      "VRDeck         0.207645\n",
      "TotalSpent     0.196387\n",
      "Europa         0.176303\n",
      "Earth          0.168415\n",
      "Deck           0.116462\n",
      "Side           0.103775\n",
      "Age            0.077213\n",
      "Name: Transported, dtype: float64\n"
     ]
    }
   ],
   "source": [
    "correlationMatrix = pd.concat([dataset, encodedDeck, encodedSide, encodedVIP, encodedCryo, encodedHome], axis=1).corr()\n",
    "display(correlationMatrix)\n",
    "fig, ax = plt.subplots(figsize=(20, 20))\n",
    "sns.heatmap(correlationMatrix.abs(), annot=True, ax=ax)\n",
    "plt.show()\n",
    "print('Most corrolated values to Transported')\n",
    "print(correlationMatrix['Transported'].drop('Transported').abs().sort_values(ascending=False)[0:10])"
   ]
  },
  {
   "cell_type": "markdown",
   "id": "e16a1a17",
   "metadata": {
    "papermill": {
     "duration": 0.023494,
     "end_time": "2022-06-16T19:30:53.720644",
     "exception": false,
     "start_time": "2022-06-16T19:30:53.697150",
     "status": "completed"
    },
    "tags": []
   },
   "source": [
    "# Model selection"
   ]
  },
  {
   "cell_type": "markdown",
   "id": "941a668c",
   "metadata": {
    "papermill": {
     "duration": 0.023969,
     "end_time": "2022-06-16T19:30:53.768640",
     "exception": false,
     "start_time": "2022-06-16T19:30:53.744671",
     "status": "completed"
    },
    "tags": []
   },
   "source": [
    "## Load test data"
   ]
  },
  {
   "cell_type": "code",
   "execution_count": 25,
   "id": "2565815e",
   "metadata": {
    "execution": {
     "iopub.execute_input": "2022-06-16T19:30:53.820117Z",
     "iopub.status.busy": "2022-06-16T19:30:53.818964Z",
     "iopub.status.idle": "2022-06-16T19:30:53.848970Z",
     "shell.execute_reply": "2022-06-16T19:30:53.848013Z"
    },
    "papermill": {
     "duration": 0.058156,
     "end_time": "2022-06-16T19:30:53.851222",
     "exception": false,
     "start_time": "2022-06-16T19:30:53.793066",
     "status": "completed"
    },
    "tags": []
   },
   "outputs": [],
   "source": [
    "test = pd.read_csv('/kaggle/input/spaceship-titanic/test.csv')"
   ]
  },
  {
   "cell_type": "markdown",
   "id": "dd51eaf7",
   "metadata": {
    "papermill": {
     "duration": 0.023597,
     "end_time": "2022-06-16T19:30:53.899088",
     "exception": false,
     "start_time": "2022-06-16T19:30:53.875491",
     "status": "completed"
    },
    "tags": []
   },
   "source": [
    "## Try models"
   ]
  },
  {
   "cell_type": "code",
   "execution_count": 26,
   "id": "08c3c61f",
   "metadata": {
    "execution": {
     "iopub.execute_input": "2022-06-16T19:30:53.950618Z",
     "iopub.status.busy": "2022-06-16T19:30:53.949576Z",
     "iopub.status.idle": "2022-06-16T19:30:53.965400Z",
     "shell.execute_reply": "2022-06-16T19:30:53.964263Z"
    },
    "papermill": {
     "duration": 0.043588,
     "end_time": "2022-06-16T19:30:53.967715",
     "exception": false,
     "start_time": "2022-06-16T19:30:53.924127",
     "status": "completed"
    },
    "tags": []
   },
   "outputs": [],
   "source": [
    "selectedColumns = ['CryoSleep', 'RoomService', 'Spa', 'VRDeck', 'HomePlanet']\n",
    "X = dataset[selectedColumns]\n",
    "            \n",
    "#TODO\n",
    "# * StandardScaler\n",
    "# * Log?\n",
    "def createPipeline(clf):\n",
    "    categorical_features = ['CryoSleep', 'HomePlanet']\n",
    "    categorical_transformer = Pipeline(steps=[\n",
    "        ('imputer', SimpleImputer(strategy='most_frequent', fill_value='missing')),\n",
    "        ('onehot', OneHotEncoder(drop='first'))\n",
    "    ])\n",
    "    \n",
    "    numeric_features = ['RoomService', 'Spa', 'VRDeck']\n",
    "    numeric_transformer = Pipeline(steps=[\n",
    "        ('imputer', SimpleImputer(strategy='median')),\n",
    "        ('scaler', StandardScaler())\n",
    "    ])\n",
    "\n",
    "    preprocessor = ColumnTransformer([\n",
    "        ('num', numeric_transformer, numeric_features),\n",
    "        ('cat', categorical_transformer, categorical_features)\n",
    "    ])\n",
    "\n",
    "    return Pipeline([\n",
    "        ('preprocessor', preprocessor),\n",
    "        ('estimator', clf)\n",
    "    ])\n",
    "\n",
    "labelEnc = LabelEncoder()\n",
    "labelEnc.fit([True, False])\n",
    "y = labelEnc.transform(dataset['Transported'].loc[X.index])\n",
    "X_train, X_test, y_train, y_test = train_test_split(X, y, test_size=0.2, random_state=42)\n"
   ]
  },
  {
   "cell_type": "markdown",
   "id": "6dccdc43",
   "metadata": {
    "papermill": {
     "duration": 0.023546,
     "end_time": "2022-06-16T19:30:54.016229",
     "exception": false,
     "start_time": "2022-06-16T19:30:53.992683",
     "status": "completed"
    },
    "tags": []
   },
   "source": [
    "### Logistic Regression"
   ]
  },
  {
   "cell_type": "code",
   "execution_count": 27,
   "id": "9b876fcf",
   "metadata": {
    "execution": {
     "iopub.execute_input": "2022-06-16T19:30:54.066807Z",
     "iopub.status.busy": "2022-06-16T19:30:54.065704Z",
     "iopub.status.idle": "2022-06-16T19:31:04.361523Z",
     "shell.execute_reply": "2022-06-16T19:31:04.360239Z"
    },
    "papermill": {
     "duration": 10.324129,
     "end_time": "2022-06-16T19:31:04.364315",
     "exception": false,
     "start_time": "2022-06-16T19:30:54.040186",
     "status": "completed"
    },
    "tags": []
   },
   "outputs": [
    {
     "name": "stdout",
     "output_type": "stream",
     "text": [
      "{'estimator__C': 10.0, 'estimator__penalty': 'l1', 'estimator__solver': 'liblinear'} 0.7590875643855777\n"
     ]
    }
   ],
   "source": [
    "logreg = createPipeline(LogisticRegression(random_state=1337))\n",
    "logreg.fit(X_train, y_train)\n",
    "logreg.score(X_test, y_test)\n",
    "\n",
    "params = [dict(\n",
    "    estimator__penalty = ['l1'],\n",
    "    estimator__C = np.logspace(0, 2, 3),\n",
    "    estimator__solver = ['liblinear', 'saga']\n",
    "), dict(\n",
    "    estimator__penalty = ['l2'],\n",
    "    estimator__C = np.logspace(0, 2, 3),\n",
    "    estimator__solver = ['newton-cg', 'lbfgs']\n",
    "    \n",
    "), dict(\n",
    "    estimator__penalty = ['elasticnet'],\n",
    "    estimator__C = np.logspace(0, 2, 3),\n",
    "    estimator__solver = ['saga'],\n",
    "    estimator__l1_ratio = np.linspace(0,1, 5)\n",
    ")]\n",
    "cv = GridSearchCV(logreg, params)\n",
    "cv.fit(X_train, y_train)\n",
    "print(cv.best_params_, cv.best_score_)\n",
    "#{'estimator__C': 10.0, 'estimator__penalty': 'l1', 'estimator__solver': 'liblinear'} 0.7590875643855777"
   ]
  },
  {
   "cell_type": "markdown",
   "id": "6dda8d0f",
   "metadata": {
    "papermill": {
     "duration": 0.023707,
     "end_time": "2022-06-16T19:31:04.413052",
     "exception": false,
     "start_time": "2022-06-16T19:31:04.389345",
     "status": "completed"
    },
    "tags": []
   },
   "source": [
    "## Random Forest"
   ]
  },
  {
   "cell_type": "code",
   "execution_count": 28,
   "id": "e1f9a1dd",
   "metadata": {
    "execution": {
     "iopub.execute_input": "2022-06-16T19:31:04.463978Z",
     "iopub.status.busy": "2022-06-16T19:31:04.463473Z",
     "iopub.status.idle": "2022-06-16T19:31:05.178744Z",
     "shell.execute_reply": "2022-06-16T19:31:05.177591Z"
    },
    "papermill": {
     "duration": 0.743348,
     "end_time": "2022-06-16T19:31:05.181000",
     "exception": false,
     "start_time": "2022-06-16T19:31:04.437652",
     "status": "completed"
    },
    "tags": []
   },
   "outputs": [
    {
     "name": "stdout",
     "output_type": "stream",
     "text": [
      "0.7745732783990583\n"
     ]
    },
    {
     "data": {
      "text/plain": [
       "array([0.26337763, 0.25669518, 0.24744694, 0.15063821, 0.06329766,\n",
       "       0.01854438])"
      ]
     },
     "execution_count": 28,
     "metadata": {},
     "output_type": "execute_result"
    }
   ],
   "source": [
    "rf = createPipeline(RandomForestClassifier(random_state=42))\n",
    "rf.fit(X_train, y_train)\n",
    "print(rf.score(X_test, y_test))\n",
    "#print(rf['preprocessor'][1]['onehot'].get_feature_names_out())\n",
    "rf._final_estimator.feature_importances_"
   ]
  },
  {
   "cell_type": "code",
   "execution_count": 29,
   "id": "b45009ec",
   "metadata": {
    "execution": {
     "iopub.execute_input": "2022-06-16T19:31:05.231310Z",
     "iopub.status.busy": "2022-06-16T19:31:05.230936Z",
     "iopub.status.idle": "2022-06-16T19:34:46.698319Z",
     "shell.execute_reply": "2022-06-16T19:34:46.697224Z"
    },
    "papermill": {
     "duration": 221.520186,
     "end_time": "2022-06-16T19:34:46.726056",
     "exception": false,
     "start_time": "2022-06-16T19:31:05.205870",
     "status": "completed"
    },
    "tags": []
   },
   "outputs": [
    {
     "name": "stdout",
     "output_type": "stream",
     "text": [
      "{'estimator__criterion': 'gini', 'estimator__max_features': 'sqrt', 'estimator__min_samples_split': 4, 'estimator__n_estimators': 100} 0.7630610743193524\n"
     ]
    }
   ],
   "source": [
    "params = dict(\n",
    "    estimator__max_features = ['sqrt', 'log2'],\n",
    "    estimator__n_estimators = np.arange(100, 150, 10),\n",
    "    estimator__min_samples_split = np.arange(2, 5, 1),\n",
    "    estimator__criterion = ['gini', 'entropy']\n",
    ")\n",
    "cv = GridSearchCV(rf, params)\n",
    "cv.fit(X_train, y_train)\n",
    "print(cv.best_params_, cv.best_score_)\n",
    "#{'estimator__criterion': 'gini', 'estimator__max_features': 'sqrt', 'estimator__min_samples_split': 4, 'estimator__n_estimators': 100} 0.7630610743193524\n"
   ]
  },
  {
   "cell_type": "markdown",
   "id": "7f4dfc68",
   "metadata": {
    "papermill": {
     "duration": 0.024913,
     "end_time": "2022-06-16T19:34:46.776379",
     "exception": false,
     "start_time": "2022-06-16T19:34:46.751466",
     "status": "completed"
    },
    "tags": []
   },
   "source": [
    "## Gradient boosting"
   ]
  },
  {
   "cell_type": "code",
   "execution_count": 30,
   "id": "26bb3321",
   "metadata": {
    "execution": {
     "iopub.execute_input": "2022-06-16T19:34:46.828348Z",
     "iopub.status.busy": "2022-06-16T19:34:46.827295Z",
     "iopub.status.idle": "2022-06-16T19:34:47.317929Z",
     "shell.execute_reply": "2022-06-16T19:34:47.316940Z"
    },
    "papermill": {
     "duration": 0.519555,
     "end_time": "2022-06-16T19:34:47.320028",
     "exception": false,
     "start_time": "2022-06-16T19:34:46.800473",
     "status": "completed"
    },
    "tags": []
   },
   "outputs": [
    {
     "data": {
      "text/plain": [
       "0.7969393761035903"
      ]
     },
     "execution_count": 30,
     "metadata": {},
     "output_type": "execute_result"
    }
   ],
   "source": [
    "gb = createPipeline(GradientBoostingClassifier())\n",
    "gb.fit(X_train, y_train)\n",
    "gb.score(X_test, y_test)"
   ]
  },
  {
   "cell_type": "code",
   "execution_count": 31,
   "id": "9c465273",
   "metadata": {
    "execution": {
     "iopub.execute_input": "2022-06-16T19:34:47.370049Z",
     "iopub.status.busy": "2022-06-16T19:34:47.369273Z",
     "iopub.status.idle": "2022-06-16T19:35:16.712573Z",
     "shell.execute_reply": "2022-06-16T19:35:16.711665Z"
    },
    "papermill": {
     "duration": 29.371325,
     "end_time": "2022-06-16T19:35:16.715294",
     "exception": false,
     "start_time": "2022-06-16T19:34:47.343969",
     "status": "completed"
    },
    "tags": []
   },
   "outputs": [
    {
     "name": "stdout",
     "output_type": "stream",
     "text": [
      "{'estimator__grow_policy': 'depthwise', 'estimator__learning_rate': 0.01, 'estimator__max_depth': 7, 'estimator__n_estimators': 130} 0.7782192788815305\n"
     ]
    }
   ],
   "source": [
    "xg = createPipeline(XGBClassifier(objective='binary:logistic', max_leaves=0))\n",
    "xg.fit(X_train, y_train)\n",
    "xg.score(X_test, y_test)\n",
    "\n",
    "params = dict(\n",
    "    estimator__learning_rate = [0.01],#np.logspace(-3, -1, 3),\n",
    "    estimator__n_estimators = [130],#np.arange(100, 150, 10),\n",
    "    estimator__max_depth = np.arange(5, 10, 2),\n",
    "    estimator__grow_policy = ['depthwise', 'lossguide']\n",
    ")\n",
    "cv = GridSearchCV(xg, params)\n",
    "cv.fit(X_train, y_train)\n",
    "print(cv.best_params_, cv.best_score_)\n",
    "# {'estimator__grow_policy': 'depthwise', 'estimator__learning_rate': 0.01, 'estimator__max_depth': 7, 'estimator__n_estimators': 130} 0.7782192788815305"
   ]
  },
  {
   "cell_type": "markdown",
   "id": "b3104edc",
   "metadata": {
    "papermill": {
     "duration": 0.028461,
     "end_time": "2022-06-16T19:35:16.769569",
     "exception": false,
     "start_time": "2022-06-16T19:35:16.741108",
     "status": "completed"
    },
    "tags": []
   },
   "source": [
    "# Create submission"
   ]
  },
  {
   "cell_type": "code",
   "execution_count": 32,
   "id": "685a9db3",
   "metadata": {
    "execution": {
     "iopub.execute_input": "2022-06-16T19:35:16.823621Z",
     "iopub.status.busy": "2022-06-16T19:35:16.823215Z",
     "iopub.status.idle": "2022-06-16T19:35:16.859829Z",
     "shell.execute_reply": "2022-06-16T19:35:16.858843Z"
    },
    "papermill": {
     "duration": 0.064778,
     "end_time": "2022-06-16T19:35:16.862638",
     "exception": false,
     "start_time": "2022-06-16T19:35:16.797860",
     "status": "completed"
    },
    "tags": []
   },
   "outputs": [],
   "source": [
    "pred = labelEnc.inverse_transform(gb.predict(test[selectedColumns]))\n",
    "submission = pd.DataFrame({'PassengerId': test['PassengerId'], 'Transported': pred})\n",
    "submission.to_csv('./submission.csv', index=False)"
   ]
  }
 ],
 "metadata": {
  "kernelspec": {
   "display_name": "Python 3",
   "language": "python",
   "name": "python3"
  },
  "language_info": {
   "codemirror_mode": {
    "name": "ipython",
    "version": 3
   },
   "file_extension": ".py",
   "mimetype": "text/x-python",
   "name": "python",
   "nbconvert_exporter": "python",
   "pygments_lexer": "ipython3",
   "version": "3.7.12"
  },
  "papermill": {
   "default_parameters": {},
   "duration": 284.297131,
   "end_time": "2022-06-16T19:35:17.718017",
   "environment_variables": {},
   "exception": null,
   "input_path": "__notebook__.ipynb",
   "output_path": "__notebook__.ipynb",
   "parameters": {},
   "start_time": "2022-06-16T19:30:33.420886",
   "version": "2.3.4"
  }
 },
 "nbformat": 4,
 "nbformat_minor": 5
}
