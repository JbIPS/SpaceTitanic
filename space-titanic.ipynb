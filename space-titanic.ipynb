{
 "cells": [
  {
   "cell_type": "code",
   "execution_count": 1,
   "id": "c28ff209",
   "metadata": {
    "_cell_guid": "b1076dfc-b9ad-4769-8c92-a6c4dae69d19",
    "_uuid": "8f2839f25d086af736a60e9eeb907d3b93b6e0e5",
    "execution": {
     "iopub.execute_input": "2022-06-30T15:19:53.266184Z",
     "iopub.status.busy": "2022-06-30T15:19:53.265353Z",
     "iopub.status.idle": "2022-06-30T15:19:54.995413Z",
     "shell.execute_reply": "2022-06-30T15:19:54.994192Z"
    },
    "papermill": {
     "duration": 1.746945,
     "end_time": "2022-06-30T15:19:54.998038",
     "exception": false,
     "start_time": "2022-06-30T15:19:53.251093",
     "status": "completed"
    },
    "tags": []
   },
   "outputs": [],
   "source": [
    "# This Python 3 environment comes with many helpful analytics libraries installed\n",
    "# It is defined by the kaggle/python Docker image: https://github.com/kaggle/docker-python\n",
    "# For example, here's several helpful packages to load\n",
    "\n",
    "import numpy as np # linear algebra\n",
    "import pandas as pd # data processing, CSV file I/O (e.g. pd.read_csv)\n",
    "import matplotlib.pyplot as plt\n",
    "import seaborn as sns\n",
    "from sklearn.linear_model import LogisticRegression\n",
    "from sklearn.preprocessing import StandardScaler, MinMaxScaler, OneHotEncoder, FunctionTransformer, LabelEncoder\n",
    "from sklearn.pipeline import Pipeline\n",
    "from sklearn.compose import ColumnTransformer\n",
    "from sklearn.model_selection import train_test_split, GridSearchCV\n",
    "from sklearn.impute import SimpleImputer\n",
    "from sklearn.ensemble import RandomForestClassifier, GradientBoostingClassifier\n",
    "from xgboost import XGBClassifier"
   ]
  },
  {
   "cell_type": "markdown",
   "id": "13e289f8",
   "metadata": {
    "papermill": {
     "duration": 0.010887,
     "end_time": "2022-06-30T15:19:55.020464",
     "exception": false,
     "start_time": "2022-06-30T15:19:55.009577",
     "status": "completed"
    },
    "tags": []
   },
   "source": [
    "# Create Dataset"
   ]
  },
  {
   "cell_type": "code",
   "execution_count": 2,
   "id": "d8a6fb2e",
   "metadata": {
    "execution": {
     "iopub.execute_input": "2022-06-30T15:19:55.044296Z",
     "iopub.status.busy": "2022-06-30T15:19:55.043899Z",
     "iopub.status.idle": "2022-06-30T15:19:55.128856Z",
     "shell.execute_reply": "2022-06-30T15:19:55.127944Z"
    },
    "papermill": {
     "duration": 0.099331,
     "end_time": "2022-06-30T15:19:55.130986",
     "exception": false,
     "start_time": "2022-06-30T15:19:55.031655",
     "status": "completed"
    },
    "tags": []
   },
   "outputs": [
    {
     "data": {
      "text/html": [
       "<div>\n",
       "<style scoped>\n",
       "    .dataframe tbody tr th:only-of-type {\n",
       "        vertical-align: middle;\n",
       "    }\n",
       "\n",
       "    .dataframe tbody tr th {\n",
       "        vertical-align: top;\n",
       "    }\n",
       "\n",
       "    .dataframe thead th {\n",
       "        text-align: right;\n",
       "    }\n",
       "</style>\n",
       "<table border=\"1\" class=\"dataframe\">\n",
       "  <thead>\n",
       "    <tr style=\"text-align: right;\">\n",
       "      <th></th>\n",
       "      <th>PassengerId</th>\n",
       "      <th>HomePlanet</th>\n",
       "      <th>CryoSleep</th>\n",
       "      <th>Cabin</th>\n",
       "      <th>Destination</th>\n",
       "      <th>Age</th>\n",
       "      <th>VIP</th>\n",
       "      <th>RoomService</th>\n",
       "      <th>FoodCourt</th>\n",
       "      <th>ShoppingMall</th>\n",
       "      <th>Spa</th>\n",
       "      <th>VRDeck</th>\n",
       "      <th>Name</th>\n",
       "      <th>Transported</th>\n",
       "    </tr>\n",
       "  </thead>\n",
       "  <tbody>\n",
       "    <tr>\n",
       "      <th>0</th>\n",
       "      <td>0001_01</td>\n",
       "      <td>Europa</td>\n",
       "      <td>False</td>\n",
       "      <td>B/0/P</td>\n",
       "      <td>TRAPPIST-1e</td>\n",
       "      <td>39.0</td>\n",
       "      <td>False</td>\n",
       "      <td>0.0</td>\n",
       "      <td>0.0</td>\n",
       "      <td>0.0</td>\n",
       "      <td>0.0</td>\n",
       "      <td>0.0</td>\n",
       "      <td>Maham Ofracculy</td>\n",
       "      <td>False</td>\n",
       "    </tr>\n",
       "    <tr>\n",
       "      <th>1</th>\n",
       "      <td>0002_01</td>\n",
       "      <td>Earth</td>\n",
       "      <td>False</td>\n",
       "      <td>F/0/S</td>\n",
       "      <td>TRAPPIST-1e</td>\n",
       "      <td>24.0</td>\n",
       "      <td>False</td>\n",
       "      <td>109.0</td>\n",
       "      <td>9.0</td>\n",
       "      <td>25.0</td>\n",
       "      <td>549.0</td>\n",
       "      <td>44.0</td>\n",
       "      <td>Juanna Vines</td>\n",
       "      <td>True</td>\n",
       "    </tr>\n",
       "    <tr>\n",
       "      <th>2</th>\n",
       "      <td>0003_01</td>\n",
       "      <td>Europa</td>\n",
       "      <td>False</td>\n",
       "      <td>A/0/S</td>\n",
       "      <td>TRAPPIST-1e</td>\n",
       "      <td>58.0</td>\n",
       "      <td>True</td>\n",
       "      <td>43.0</td>\n",
       "      <td>3576.0</td>\n",
       "      <td>0.0</td>\n",
       "      <td>6715.0</td>\n",
       "      <td>49.0</td>\n",
       "      <td>Altark Susent</td>\n",
       "      <td>False</td>\n",
       "    </tr>\n",
       "    <tr>\n",
       "      <th>3</th>\n",
       "      <td>0003_02</td>\n",
       "      <td>Europa</td>\n",
       "      <td>False</td>\n",
       "      <td>A/0/S</td>\n",
       "      <td>TRAPPIST-1e</td>\n",
       "      <td>33.0</td>\n",
       "      <td>False</td>\n",
       "      <td>0.0</td>\n",
       "      <td>1283.0</td>\n",
       "      <td>371.0</td>\n",
       "      <td>3329.0</td>\n",
       "      <td>193.0</td>\n",
       "      <td>Solam Susent</td>\n",
       "      <td>False</td>\n",
       "    </tr>\n",
       "    <tr>\n",
       "      <th>4</th>\n",
       "      <td>0004_01</td>\n",
       "      <td>Earth</td>\n",
       "      <td>False</td>\n",
       "      <td>F/1/S</td>\n",
       "      <td>TRAPPIST-1e</td>\n",
       "      <td>16.0</td>\n",
       "      <td>False</td>\n",
       "      <td>303.0</td>\n",
       "      <td>70.0</td>\n",
       "      <td>151.0</td>\n",
       "      <td>565.0</td>\n",
       "      <td>2.0</td>\n",
       "      <td>Willy Santantines</td>\n",
       "      <td>True</td>\n",
       "    </tr>\n",
       "    <tr>\n",
       "      <th>...</th>\n",
       "      <td>...</td>\n",
       "      <td>...</td>\n",
       "      <td>...</td>\n",
       "      <td>...</td>\n",
       "      <td>...</td>\n",
       "      <td>...</td>\n",
       "      <td>...</td>\n",
       "      <td>...</td>\n",
       "      <td>...</td>\n",
       "      <td>...</td>\n",
       "      <td>...</td>\n",
       "      <td>...</td>\n",
       "      <td>...</td>\n",
       "      <td>...</td>\n",
       "    </tr>\n",
       "    <tr>\n",
       "      <th>8688</th>\n",
       "      <td>9276_01</td>\n",
       "      <td>Europa</td>\n",
       "      <td>False</td>\n",
       "      <td>A/98/P</td>\n",
       "      <td>55 Cancri e</td>\n",
       "      <td>41.0</td>\n",
       "      <td>True</td>\n",
       "      <td>0.0</td>\n",
       "      <td>6819.0</td>\n",
       "      <td>0.0</td>\n",
       "      <td>1643.0</td>\n",
       "      <td>74.0</td>\n",
       "      <td>Gravior Noxnuther</td>\n",
       "      <td>False</td>\n",
       "    </tr>\n",
       "    <tr>\n",
       "      <th>8689</th>\n",
       "      <td>9278_01</td>\n",
       "      <td>Earth</td>\n",
       "      <td>True</td>\n",
       "      <td>G/1499/S</td>\n",
       "      <td>PSO J318.5-22</td>\n",
       "      <td>18.0</td>\n",
       "      <td>False</td>\n",
       "      <td>0.0</td>\n",
       "      <td>0.0</td>\n",
       "      <td>0.0</td>\n",
       "      <td>0.0</td>\n",
       "      <td>0.0</td>\n",
       "      <td>Kurta Mondalley</td>\n",
       "      <td>False</td>\n",
       "    </tr>\n",
       "    <tr>\n",
       "      <th>8690</th>\n",
       "      <td>9279_01</td>\n",
       "      <td>Earth</td>\n",
       "      <td>False</td>\n",
       "      <td>G/1500/S</td>\n",
       "      <td>TRAPPIST-1e</td>\n",
       "      <td>26.0</td>\n",
       "      <td>False</td>\n",
       "      <td>0.0</td>\n",
       "      <td>0.0</td>\n",
       "      <td>1872.0</td>\n",
       "      <td>1.0</td>\n",
       "      <td>0.0</td>\n",
       "      <td>Fayey Connon</td>\n",
       "      <td>True</td>\n",
       "    </tr>\n",
       "    <tr>\n",
       "      <th>8691</th>\n",
       "      <td>9280_01</td>\n",
       "      <td>Europa</td>\n",
       "      <td>False</td>\n",
       "      <td>E/608/S</td>\n",
       "      <td>55 Cancri e</td>\n",
       "      <td>32.0</td>\n",
       "      <td>False</td>\n",
       "      <td>0.0</td>\n",
       "      <td>1049.0</td>\n",
       "      <td>0.0</td>\n",
       "      <td>353.0</td>\n",
       "      <td>3235.0</td>\n",
       "      <td>Celeon Hontichre</td>\n",
       "      <td>False</td>\n",
       "    </tr>\n",
       "    <tr>\n",
       "      <th>8692</th>\n",
       "      <td>9280_02</td>\n",
       "      <td>Europa</td>\n",
       "      <td>False</td>\n",
       "      <td>E/608/S</td>\n",
       "      <td>TRAPPIST-1e</td>\n",
       "      <td>44.0</td>\n",
       "      <td>False</td>\n",
       "      <td>126.0</td>\n",
       "      <td>4688.0</td>\n",
       "      <td>0.0</td>\n",
       "      <td>0.0</td>\n",
       "      <td>12.0</td>\n",
       "      <td>Propsh Hontichre</td>\n",
       "      <td>True</td>\n",
       "    </tr>\n",
       "  </tbody>\n",
       "</table>\n",
       "<p>8693 rows × 14 columns</p>\n",
       "</div>"
      ],
      "text/plain": [
       "     PassengerId HomePlanet CryoSleep     Cabin    Destination   Age    VIP  \\\n",
       "0        0001_01     Europa     False     B/0/P    TRAPPIST-1e  39.0  False   \n",
       "1        0002_01      Earth     False     F/0/S    TRAPPIST-1e  24.0  False   \n",
       "2        0003_01     Europa     False     A/0/S    TRAPPIST-1e  58.0   True   \n",
       "3        0003_02     Europa     False     A/0/S    TRAPPIST-1e  33.0  False   \n",
       "4        0004_01      Earth     False     F/1/S    TRAPPIST-1e  16.0  False   \n",
       "...          ...        ...       ...       ...            ...   ...    ...   \n",
       "8688     9276_01     Europa     False    A/98/P    55 Cancri e  41.0   True   \n",
       "8689     9278_01      Earth      True  G/1499/S  PSO J318.5-22  18.0  False   \n",
       "8690     9279_01      Earth     False  G/1500/S    TRAPPIST-1e  26.0  False   \n",
       "8691     9280_01     Europa     False   E/608/S    55 Cancri e  32.0  False   \n",
       "8692     9280_02     Europa     False   E/608/S    TRAPPIST-1e  44.0  False   \n",
       "\n",
       "      RoomService  FoodCourt  ShoppingMall     Spa  VRDeck               Name  \\\n",
       "0             0.0        0.0           0.0     0.0     0.0    Maham Ofracculy   \n",
       "1           109.0        9.0          25.0   549.0    44.0       Juanna Vines   \n",
       "2            43.0     3576.0           0.0  6715.0    49.0      Altark Susent   \n",
       "3             0.0     1283.0         371.0  3329.0   193.0       Solam Susent   \n",
       "4           303.0       70.0         151.0   565.0     2.0  Willy Santantines   \n",
       "...           ...        ...           ...     ...     ...                ...   \n",
       "8688          0.0     6819.0           0.0  1643.0    74.0  Gravior Noxnuther   \n",
       "8689          0.0        0.0           0.0     0.0     0.0    Kurta Mondalley   \n",
       "8690          0.0        0.0        1872.0     1.0     0.0       Fayey Connon   \n",
       "8691          0.0     1049.0           0.0   353.0  3235.0   Celeon Hontichre   \n",
       "8692        126.0     4688.0           0.0     0.0    12.0   Propsh Hontichre   \n",
       "\n",
       "      Transported  \n",
       "0           False  \n",
       "1            True  \n",
       "2           False  \n",
       "3           False  \n",
       "4            True  \n",
       "...           ...  \n",
       "8688        False  \n",
       "8689        False  \n",
       "8690         True  \n",
       "8691        False  \n",
       "8692         True  \n",
       "\n",
       "[8693 rows x 14 columns]"
      ]
     },
     "execution_count": 2,
     "metadata": {},
     "output_type": "execute_result"
    }
   ],
   "source": [
    "dataset = pd.read_csv('/kaggle/input/spaceship-titanic/train.csv');\n",
    "dataset"
   ]
  },
  {
   "cell_type": "markdown",
   "id": "226163ef",
   "metadata": {
    "papermill": {
     "duration": 0.011759,
     "end_time": "2022-06-30T15:19:55.154343",
     "exception": false,
     "start_time": "2022-06-30T15:19:55.142584",
     "status": "completed"
    },
    "tags": []
   },
   "source": [
    "# Data analysis"
   ]
  },
  {
   "cell_type": "code",
   "execution_count": 3,
   "id": "7b16cca9",
   "metadata": {
    "execution": {
     "iopub.execute_input": "2022-06-30T15:19:55.179732Z",
     "iopub.status.busy": "2022-06-30T15:19:55.179295Z",
     "iopub.status.idle": "2022-06-30T15:19:55.194890Z",
     "shell.execute_reply": "2022-06-30T15:19:55.193646Z"
    },
    "papermill": {
     "duration": 0.030397,
     "end_time": "2022-06-30T15:19:55.196993",
     "exception": false,
     "start_time": "2022-06-30T15:19:55.166596",
     "status": "completed"
    },
    "tags": []
   },
   "outputs": [
    {
     "name": "stdout",
     "output_type": "stream",
     "text": [
      "(8693, 14)\n",
      "After NA removal (8494, 14)\n"
     ]
    }
   ],
   "source": [
    "print(dataset.shape)\n",
    "dataset.dropna(subset=['Cabin'], inplace=True)\n",
    "print('After NA removal', dataset.shape)"
   ]
  },
  {
   "cell_type": "code",
   "execution_count": 4,
   "id": "8c416d4c",
   "metadata": {
    "execution": {
     "iopub.execute_input": "2022-06-30T15:19:55.222669Z",
     "iopub.status.busy": "2022-06-30T15:19:55.221522Z",
     "iopub.status.idle": "2022-06-30T15:19:55.422179Z",
     "shell.execute_reply": "2022-06-30T15:19:55.421256Z"
    },
    "papermill": {
     "duration": 0.215509,
     "end_time": "2022-06-30T15:19:55.424213",
     "exception": false,
     "start_time": "2022-06-30T15:19:55.208704",
     "status": "completed"
    },
    "tags": []
   },
   "outputs": [
    {
     "data": {
      "text/plain": [
       "<AxesSubplot:>"
      ]
     },
     "execution_count": 4,
     "metadata": {},
     "output_type": "execute_result"
    },
    {
     "data": {
      "image/png": "[encoded data removed]",
      "text/plain": [
       "<Figure size 432x288 with 1 Axes>"
      ]
     },
     "metadata": {
      "needs_background": "light"
     },
     "output_type": "display_data"
    }
   ],
   "source": [
    "dataset['CryoSleep'].value_counts().plot.bar()"
   ]
  },
  {
   "cell_type": "code",
   "execution_count": 5,
   "id": "092f1483",
   "metadata": {
    "execution": {
     "iopub.execute_input": "2022-06-30T15:19:55.449677Z",
     "iopub.status.busy": "2022-06-30T15:19:55.449303Z",
     "iopub.status.idle": "2022-06-30T15:19:55.602716Z",
     "shell.execute_reply": "2022-06-30T15:19:55.601725Z"
    },
    "papermill": {
     "duration": 0.168985,
     "end_time": "2022-06-30T15:19:55.605328",
     "exception": false,
     "start_time": "2022-06-30T15:19:55.436343",
     "status": "completed"
    },
    "tags": []
   },
   "outputs": [
    {
     "data": {
      "text/plain": [
       "<AxesSubplot:>"
      ]
     },
     "execution_count": 5,
     "metadata": {},
     "output_type": "execute_result"
    },
    {
     "data": {
      "image/png": "[encoded data removed]",
      "text/plain": [
       "<Figure size 432x288 with 1 Axes>"
      ]
     },
     "metadata": {
      "needs_background": "light"
     },
     "output_type": "display_data"
    }
   ],
   "source": [
    "dataset['HomePlanet'].value_counts().plot.bar()"
   ]
  },
  {
   "cell_type": "markdown",
   "id": "d16d7091",
   "metadata": {
    "papermill": {
     "duration": 0.0118,
     "end_time": "2022-06-30T15:19:55.629795",
     "exception": false,
     "start_time": "2022-06-30T15:19:55.617995",
     "status": "completed"
    },
    "tags": []
   },
   "source": [
    "## Split cabin infos"
   ]
  },
  {
   "cell_type": "code",
   "execution_count": 6,
   "id": "f0bde861",
   "metadata": {
    "execution": {
     "iopub.execute_input": "2022-06-30T15:19:55.655961Z",
     "iopub.status.busy": "2022-06-30T15:19:55.655555Z",
     "iopub.status.idle": "2022-06-30T15:19:55.695696Z",
     "shell.execute_reply": "2022-06-30T15:19:55.694648Z"
    },
    "papermill": {
     "duration": 0.05607,
     "end_time": "2022-06-30T15:19:55.697755",
     "exception": false,
     "start_time": "2022-06-30T15:19:55.641685",
     "status": "completed"
    },
    "tags": []
   },
   "outputs": [
    {
     "data": {
      "text/html": [
       "<div>\n",
       "<style scoped>\n",
       "    .dataframe tbody tr th:only-of-type {\n",
       "        vertical-align: middle;\n",
       "    }\n",
       "\n",
       "    .dataframe tbody tr th {\n",
       "        vertical-align: top;\n",
       "    }\n",
       "\n",
       "    .dataframe thead th {\n",
       "        text-align: right;\n",
       "    }\n",
       "</style>\n",
       "<table border=\"1\" class=\"dataframe\">\n",
       "  <thead>\n",
       "    <tr style=\"text-align: right;\">\n",
       "      <th></th>\n",
       "      <th>PassengerId</th>\n",
       "      <th>HomePlanet</th>\n",
       "      <th>CryoSleep</th>\n",
       "      <th>Cabin</th>\n",
       "      <th>Destination</th>\n",
       "      <th>Age</th>\n",
       "      <th>VIP</th>\n",
       "      <th>RoomService</th>\n",
       "      <th>FoodCourt</th>\n",
       "      <th>ShoppingMall</th>\n",
       "      <th>Spa</th>\n",
       "      <th>VRDeck</th>\n",
       "      <th>Name</th>\n",
       "      <th>Transported</th>\n",
       "      <th>Deck</th>\n",
       "      <th>RoomNumber</th>\n",
       "      <th>Side</th>\n",
       "    </tr>\n",
       "  </thead>\n",
       "  <tbody>\n",
       "    <tr>\n",
       "      <th>0</th>\n",
       "      <td>0001_01</td>\n",
       "      <td>Europa</td>\n",
       "      <td>False</td>\n",
       "      <td>B/0/P</td>\n",
       "      <td>TRAPPIST-1e</td>\n",
       "      <td>39.0</td>\n",
       "      <td>False</td>\n",
       "      <td>0.0</td>\n",
       "      <td>0.0</td>\n",
       "      <td>0.0</td>\n",
       "      <td>0.0</td>\n",
       "      <td>0.0</td>\n",
       "      <td>Maham Ofracculy</td>\n",
       "      <td>False</td>\n",
       "      <td>B</td>\n",
       "      <td>0</td>\n",
       "      <td>P</td>\n",
       "    </tr>\n",
       "    <tr>\n",
       "      <th>1</th>\n",
       "      <td>0002_01</td>\n",
       "      <td>Earth</td>\n",
       "      <td>False</td>\n",
       "      <td>F/0/S</td>\n",
       "      <td>TRAPPIST-1e</td>\n",
       "      <td>24.0</td>\n",
       "      <td>False</td>\n",
       "      <td>109.0</td>\n",
       "      <td>9.0</td>\n",
       "      <td>25.0</td>\n",
       "      <td>549.0</td>\n",
       "      <td>44.0</td>\n",
       "      <td>Juanna Vines</td>\n",
       "      <td>True</td>\n",
       "      <td>F</td>\n",
       "      <td>0</td>\n",
       "      <td>S</td>\n",
       "    </tr>\n",
       "    <tr>\n",
       "      <th>2</th>\n",
       "      <td>0003_01</td>\n",
       "      <td>Europa</td>\n",
       "      <td>False</td>\n",
       "      <td>A/0/S</td>\n",
       "      <td>TRAPPIST-1e</td>\n",
       "      <td>58.0</td>\n",
       "      <td>True</td>\n",
       "      <td>43.0</td>\n",
       "      <td>3576.0</td>\n",
       "      <td>0.0</td>\n",
       "      <td>6715.0</td>\n",
       "      <td>49.0</td>\n",
       "      <td>Altark Susent</td>\n",
       "      <td>False</td>\n",
       "      <td>A</td>\n",
       "      <td>0</td>\n",
       "      <td>S</td>\n",
       "    </tr>\n",
       "    <tr>\n",
       "      <th>3</th>\n",
       "      <td>0003_02</td>\n",
       "      <td>Europa</td>\n",
       "      <td>False</td>\n",
       "      <td>A/0/S</td>\n",
       "      <td>TRAPPIST-1e</td>\n",
       "      <td>33.0</td>\n",
       "      <td>False</td>\n",
       "      <td>0.0</td>\n",
       "      <td>1283.0</td>\n",
       "      <td>371.0</td>\n",
       "      <td>3329.0</td>\n",
       "      <td>193.0</td>\n",
       "      <td>Solam Susent</td>\n",
       "      <td>False</td>\n",
       "      <td>A</td>\n",
       "      <td>0</td>\n",
       "      <td>S</td>\n",
       "    </tr>\n",
       "    <tr>\n",
       "      <th>4</th>\n",
       "      <td>0004_01</td>\n",
       "      <td>Earth</td>\n",
       "      <td>False</td>\n",
       "      <td>F/1/S</td>\n",
       "      <td>TRAPPIST-1e</td>\n",
       "      <td>16.0</td>\n",
       "      <td>False</td>\n",
       "      <td>303.0</td>\n",
       "      <td>70.0</td>\n",
       "      <td>151.0</td>\n",
       "      <td>565.0</td>\n",
       "      <td>2.0</td>\n",
       "      <td>Willy Santantines</td>\n",
       "      <td>True</td>\n",
       "      <td>F</td>\n",
       "      <td>1</td>\n",
       "      <td>S</td>\n",
       "    </tr>\n",
       "    <tr>\n",
       "      <th>...</th>\n",
       "      <td>...</td>\n",
       "      <td>...</td>\n",
       "      <td>...</td>\n",
       "      <td>...</td>\n",
       "      <td>...</td>\n",
       "      <td>...</td>\n",
       "      <td>...</td>\n",
       "      <td>...</td>\n",
       "      <td>...</td>\n",
       "      <td>...</td>\n",
       "      <td>...</td>\n",
       "      <td>...</td>\n",
       "      <td>...</td>\n",
       "      <td>...</td>\n",
       "      <td>...</td>\n",
       "      <td>...</td>\n",
       "      <td>...</td>\n",
       "    </tr>\n",
       "    <tr>\n",
       "      <th>8688</th>\n",
       "      <td>9276_01</td>\n",
       "      <td>Europa</td>\n",
       "      <td>False</td>\n",
       "      <td>A/98/P</td>\n",
       "      <td>55 Cancri e</td>\n",
       "      <td>41.0</td>\n",
       "      <td>True</td>\n",
       "      <td>0.0</td>\n",
       "      <td>6819.0</td>\n",
       "      <td>0.0</td>\n",
       "      <td>1643.0</td>\n",
       "      <td>74.0</td>\n",
       "      <td>Gravior Noxnuther</td>\n",
       "      <td>False</td>\n",
       "      <td>A</td>\n",
       "      <td>98</td>\n",
       "      <td>P</td>\n",
       "    </tr>\n",
       "    <tr>\n",
       "      <th>8689</th>\n",
       "      <td>9278_01</td>\n",
       "      <td>Earth</td>\n",
       "      <td>True</td>\n",
       "      <td>G/1499/S</td>\n",
       "      <td>PSO J318.5-22</td>\n",
       "      <td>18.0</td>\n",
       "      <td>False</td>\n",
       "      <td>0.0</td>\n",
       "      <td>0.0</td>\n",
       "      <td>0.0</td>\n",
       "      <td>0.0</td>\n",
       "      <td>0.0</td>\n",
       "      <td>Kurta Mondalley</td>\n",
       "      <td>False</td>\n",
       "      <td>G</td>\n",
       "      <td>1499</td>\n",
       "      <td>S</td>\n",
       "    </tr>\n",
       "    <tr>\n",
       "      <th>8690</th>\n",
       "      <td>9279_01</td>\n",
       "      <td>Earth</td>\n",
       "      <td>False</td>\n",
       "      <td>G/1500/S</td>\n",
       "      <td>TRAPPIST-1e</td>\n",
       "      <td>26.0</td>\n",
       "      <td>False</td>\n",
       "      <td>0.0</td>\n",
       "      <td>0.0</td>\n",
       "      <td>1872.0</td>\n",
       "      <td>1.0</td>\n",
       "      <td>0.0</td>\n",
       "      <td>Fayey Connon</td>\n",
       "      <td>True</td>\n",
       "      <td>G</td>\n",
       "      <td>1500</td>\n",
       "      <td>S</td>\n",
       "    </tr>\n",
       "    <tr>\n",
       "      <th>8691</th>\n",
       "      <td>9280_01</td>\n",
       "      <td>Europa</td>\n",
       "      <td>False</td>\n",
       "      <td>E/608/S</td>\n",
       "      <td>55 Cancri e</td>\n",
       "      <td>32.0</td>\n",
       "      <td>False</td>\n",
       "      <td>0.0</td>\n",
       "      <td>1049.0</td>\n",
       "      <td>0.0</td>\n",
       "      <td>353.0</td>\n",
       "      <td>3235.0</td>\n",
       "      <td>Celeon Hontichre</td>\n",
       "      <td>False</td>\n",
       "      <td>E</td>\n",
       "      <td>608</td>\n",
       "      <td>S</td>\n",
       "    </tr>\n",
       "    <tr>\n",
       "      <th>8692</th>\n",
       "      <td>9280_02</td>\n",
       "      <td>Europa</td>\n",
       "      <td>False</td>\n",
       "      <td>E/608/S</td>\n",
       "      <td>TRAPPIST-1e</td>\n",
       "      <td>44.0</td>\n",
       "      <td>False</td>\n",
       "      <td>126.0</td>\n",
       "      <td>4688.0</td>\n",
       "      <td>0.0</td>\n",
       "      <td>0.0</td>\n",
       "      <td>12.0</td>\n",
       "      <td>Propsh Hontichre</td>\n",
       "      <td>True</td>\n",
       "      <td>E</td>\n",
       "      <td>608</td>\n",
       "      <td>S</td>\n",
       "    </tr>\n",
       "  </tbody>\n",
       "</table>\n",
       "<p>8494 rows × 17 columns</p>\n",
       "</div>"
      ],
      "text/plain": [
       "     PassengerId HomePlanet CryoSleep     Cabin    Destination   Age    VIP  \\\n",
       "0        0001_01     Europa     False     B/0/P    TRAPPIST-1e  39.0  False   \n",
       "1        0002_01      Earth     False     F/0/S    TRAPPIST-1e  24.0  False   \n",
       "2        0003_01     Europa     False     A/0/S    TRAPPIST-1e  58.0   True   \n",
       "3        0003_02     Europa     False     A/0/S    TRAPPIST-1e  33.0  False   \n",
       "4        0004_01      Earth     False     F/1/S    TRAPPIST-1e  16.0  False   \n",
       "...          ...        ...       ...       ...            ...   ...    ...   \n",
       "8688     9276_01     Europa     False    A/98/P    55 Cancri e  41.0   True   \n",
       "8689     9278_01      Earth      True  G/1499/S  PSO J318.5-22  18.0  False   \n",
       "8690     9279_01      Earth     False  G/1500/S    TRAPPIST-1e  26.0  False   \n",
       "8691     9280_01     Europa     False   E/608/S    55 Cancri e  32.0  False   \n",
       "8692     9280_02     Europa     False   E/608/S    TRAPPIST-1e  44.0  False   \n",
       "\n",
       "      RoomService  FoodCourt  ShoppingMall     Spa  VRDeck               Name  \\\n",
       "0             0.0        0.0           0.0     0.0     0.0    Maham Ofracculy   \n",
       "1           109.0        9.0          25.0   549.0    44.0       Juanna Vines   \n",
       "2            43.0     3576.0           0.0  6715.0    49.0      Altark Susent   \n",
       "3             0.0     1283.0         371.0  3329.0   193.0       Solam Susent   \n",
       "4           303.0       70.0         151.0   565.0     2.0  Willy Santantines   \n",
       "...           ...        ...           ...     ...     ...                ...   \n",
       "8688          0.0     6819.0           0.0  1643.0    74.0  Gravior Noxnuther   \n",
       "8689          0.0        0.0           0.0     0.0     0.0    Kurta Mondalley   \n",
       "8690          0.0        0.0        1872.0     1.0     0.0       Fayey Connon   \n",
       "8691          0.0     1049.0           0.0   353.0  3235.0   Celeon Hontichre   \n",
       "8692        126.0     4688.0           0.0     0.0    12.0   Propsh Hontichre   \n",
       "\n",
       "      Transported Deck RoomNumber Side  \n",
       "0           False    B          0    P  \n",
       "1            True    F          0    S  \n",
       "2           False    A          0    S  \n",
       "3           False    A          0    S  \n",
       "4            True    F          1    S  \n",
       "...           ...  ...        ...  ...  \n",
       "8688        False    A         98    P  \n",
       "8689        False    G       1499    S  \n",
       "8690         True    G       1500    S  \n",
       "8691        False    E        608    S  \n",
       "8692         True    E        608    S  \n",
       "\n",
       "[8494 rows x 17 columns]"
      ]
     },
     "execution_count": 6,
     "metadata": {},
     "output_type": "execute_result"
    }
   ],
   "source": [
    "dataset[['Deck', 'RoomNumber', 'Side']] = dataset['Cabin'].str.split('/', expand=True)\n",
    "dataset"
   ]
  },
  {
   "cell_type": "code",
   "execution_count": 7,
   "id": "713b2e9a",
   "metadata": {
    "execution": {
     "iopub.execute_input": "2022-06-30T15:19:55.724298Z",
     "iopub.status.busy": "2022-06-30T15:19:55.723934Z",
     "iopub.status.idle": "2022-06-30T15:19:55.877280Z",
     "shell.execute_reply": "2022-06-30T15:19:55.876618Z"
    },
    "papermill": {
     "duration": 0.168909,
     "end_time": "2022-06-30T15:19:55.879121",
     "exception": false,
     "start_time": "2022-06-30T15:19:55.710212",
     "status": "completed"
    },
    "tags": []
   },
   "outputs": [
    {
     "data": {
      "text/plain": [
       "<AxesSubplot:>"
      ]
     },
     "execution_count": 7,
     "metadata": {},
     "output_type": "execute_result"
    },
    {
     "data": {
      "image/png": "[encoded data removed]",
      "text/plain": [
       "<Figure size 432x288 with 1 Axes>"
      ]
     },
     "metadata": {
      "needs_background": "light"
     },
     "output_type": "display_data"
    }
   ],
   "source": [
    "dataset['Side'].value_counts().plot.bar()"
   ]
  },
  {
   "cell_type": "code",
   "execution_count": 8,
   "id": "2b97f1fa",
   "metadata": {
    "execution": {
     "iopub.execute_input": "2022-06-30T15:19:55.907058Z",
     "iopub.status.busy": "2022-06-30T15:19:55.906622Z",
     "iopub.status.idle": "2022-06-30T15:19:56.089415Z",
     "shell.execute_reply": "2022-06-30T15:19:56.088426Z"
    },
    "papermill": {
     "duration": 0.199299,
     "end_time": "2022-06-30T15:19:56.091795",
     "exception": false,
     "start_time": "2022-06-30T15:19:55.892496",
     "status": "completed"
    },
    "tags": []
   },
   "outputs": [
    {
     "data": {
      "text/plain": [
       "<AxesSubplot:>"
      ]
     },
     "execution_count": 8,
     "metadata": {},
     "output_type": "execute_result"
    },
    {
     "data": {
      "image/png": "[encoded data removed]",
      "text/plain": [
       "<Figure size 432x288 with 1 Axes>"
      ]
     },
     "metadata": {
      "needs_background": "light"
     },
     "output_type": "display_data"
    }
   ],
   "source": [
    "dataset['Deck'].value_counts().plot.bar()"
   ]
  },
  {
   "cell_type": "code",
   "execution_count": 9,
   "id": "7ec24391",
   "metadata": {
    "execution": {
     "iopub.execute_input": "2022-06-30T15:19:56.120266Z",
     "iopub.status.busy": "2022-06-30T15:19:56.119575Z",
     "iopub.status.idle": "2022-06-30T15:19:56.278362Z",
     "shell.execute_reply": "2022-06-30T15:19:56.277710Z"
    },
    "papermill": {
     "duration": 0.175692,
     "end_time": "2022-06-30T15:19:56.280278",
     "exception": false,
     "start_time": "2022-06-30T15:19:56.104586",
     "status": "completed"
    },
    "tags": []
   },
   "outputs": [
    {
     "data": {
      "text/plain": [
       "<AxesSubplot:>"
      ]
     },
     "execution_count": 9,
     "metadata": {},
     "output_type": "execute_result"
    },
    {
     "data": {
      "image/png": "[encoded data removed]",
      "text/plain": [
       "<Figure size 432x288 with 1 Axes>"
      ]
     },
     "metadata": {
      "needs_background": "light"
     },
     "output_type": "display_data"
    }
   ],
   "source": [
    "dataset['Destination'].value_counts().plot.bar()"
   ]
  },
  {
   "cell_type": "code",
   "execution_count": 10,
   "id": "ac9b892a",
   "metadata": {
    "execution": {
     "iopub.execute_input": "2022-06-30T15:19:56.309173Z",
     "iopub.status.busy": "2022-06-30T15:19:56.308647Z",
     "iopub.status.idle": "2022-06-30T15:19:56.319863Z",
     "shell.execute_reply": "2022-06-30T15:19:56.319044Z"
    },
    "papermill": {
     "duration": 0.027931,
     "end_time": "2022-06-30T15:19:56.321879",
     "exception": false,
     "start_time": "2022-06-30T15:19:56.293948",
     "status": "completed"
    },
    "tags": []
   },
   "outputs": [],
   "source": [
    "# Convert room number to uint\n",
    "dataset['RoomNumber'] = pd.to_numeric(dataset['RoomNumber'], downcast='unsigned')"
   ]
  },
  {
   "cell_type": "code",
   "execution_count": 11,
   "id": "37fde9d7",
   "metadata": {
    "execution": {
     "iopub.execute_input": "2022-06-30T15:19:56.351107Z",
     "iopub.status.busy": "2022-06-30T15:19:56.350447Z",
     "iopub.status.idle": "2022-06-30T15:19:56.554951Z",
     "shell.execute_reply": "2022-06-30T15:19:56.553842Z"
    },
    "papermill": {
     "duration": 0.221337,
     "end_time": "2022-06-30T15:19:56.557000",
     "exception": false,
     "start_time": "2022-06-30T15:19:56.335663",
     "status": "completed"
    },
    "tags": []
   },
   "outputs": [
    {
     "data": {
      "text/plain": [
       "count    8494.000000\n",
       "mean      600.367671\n",
       "std       511.867226\n",
       "min         0.000000\n",
       "25%       167.250000\n",
       "50%       427.000000\n",
       "75%       999.000000\n",
       "max      1894.000000\n",
       "Name: RoomNumber, dtype: float64"
      ]
     },
     "metadata": {},
     "output_type": "display_data"
    },
    {
     "data": {
      "text/plain": [
       "<AxesSubplot:ylabel='Frequency'>"
      ]
     },
     "execution_count": 11,
     "metadata": {},
     "output_type": "execute_result"
    },
    {
     "data": {
      "image/png": "[encoded data removed]",
      "text/plain": [
       "<Figure size 432x288 with 1 Axes>"
      ]
     },
     "metadata": {
      "needs_background": "light"
     },
     "output_type": "display_data"
    }
   ],
   "source": [
    "display(dataset['RoomNumber'].describe())\n",
    "dataset['RoomNumber'].plot.hist()"
   ]
  },
  {
   "cell_type": "code",
   "execution_count": 12,
   "id": "962b850e",
   "metadata": {
    "execution": {
     "iopub.execute_input": "2022-06-30T15:19:56.586579Z",
     "iopub.status.busy": "2022-06-30T15:19:56.586219Z",
     "iopub.status.idle": "2022-06-30T15:19:56.750207Z",
     "shell.execute_reply": "2022-06-30T15:19:56.749543Z"
    },
    "papermill": {
     "duration": 0.181075,
     "end_time": "2022-06-30T15:19:56.752101",
     "exception": false,
     "start_time": "2022-06-30T15:19:56.571026",
     "status": "completed"
    },
    "tags": []
   },
   "outputs": [
    {
     "data": {
      "text/plain": [
       "<AxesSubplot:>"
      ]
     },
     "execution_count": 12,
     "metadata": {},
     "output_type": "execute_result"
    },
    {
     "data": {
      "image/png": "[encoded data removed]",
      "text/plain": [
       "<Figure size 432x288 with 1 Axes>"
      ]
     },
     "metadata": {
      "needs_background": "light"
     },
     "output_type": "display_data"
    }
   ],
   "source": [
    "dataset['VIP'].value_counts().plot.bar()"
   ]
  },
  {
   "cell_type": "code",
   "execution_count": 13,
   "id": "475aaedd",
   "metadata": {
    "execution": {
     "iopub.execute_input": "2022-06-30T15:19:56.781781Z",
     "iopub.status.busy": "2022-06-30T15:19:56.781258Z",
     "iopub.status.idle": "2022-06-30T15:19:56.983117Z",
     "shell.execute_reply": "2022-06-30T15:19:56.982425Z"
    },
    "papermill": {
     "duration": 0.218709,
     "end_time": "2022-06-30T15:19:56.984905",
     "exception": false,
     "start_time": "2022-06-30T15:19:56.766196",
     "status": "completed"
    },
    "tags": []
   },
   "outputs": [
    {
     "data": {
      "text/plain": [
       "count    8319.000000\n",
       "mean       28.820411\n",
       "std        14.488090\n",
       "min         0.000000\n",
       "25%        19.000000\n",
       "50%        27.000000\n",
       "75%        38.000000\n",
       "max        79.000000\n",
       "Name: Age, dtype: float64"
      ]
     },
     "metadata": {},
     "output_type": "display_data"
    },
    {
     "data": {
      "image/png": "[encoded data removed]",
      "text/plain": [
       "<Figure size 432x288 with 1 Axes>"
      ]
     },
     "metadata": {
      "needs_background": "light"
     },
     "output_type": "display_data"
    }
   ],
   "source": [
    "display(dataset['Age'].describe())\n",
    "plt.hist(dataset['Age'])\n",
    "plt.xlabel('Age')\n",
    "plt.ylabel('Number of passengers')\n",
    "plt.show()"
   ]
  },
  {
   "cell_type": "markdown",
   "id": "35b8301c",
   "metadata": {
    "papermill": {
     "duration": 0.014682,
     "end_time": "2022-06-30T15:19:57.013931",
     "exception": false,
     "start_time": "2022-06-30T15:19:56.999249",
     "status": "completed"
    },
    "tags": []
   },
   "source": [
    "## Bivariable analysis"
   ]
  },
  {
   "cell_type": "code",
   "execution_count": 14,
   "id": "fa58b93a",
   "metadata": {
    "execution": {
     "iopub.execute_input": "2022-06-30T15:19:57.044954Z",
     "iopub.status.busy": "2022-06-30T15:19:57.044345Z",
     "iopub.status.idle": "2022-06-30T15:19:57.052320Z",
     "shell.execute_reply": "2022-06-30T15:19:57.051676Z"
    },
    "papermill": {
     "duration": 0.025838,
     "end_time": "2022-06-30T15:19:57.054245",
     "exception": false,
     "start_time": "2022-06-30T15:19:57.028407",
     "status": "completed"
    },
    "tags": []
   },
   "outputs": [],
   "source": [
    "def cat_plot(column):\n",
    "    fig, ax = plt.subplots()\n",
    "    value_counts_trans = dataset[dataset['Transported']][column].value_counts()\n",
    "    value_counts_nottrans = dataset[~dataset['Transported']][column].value_counts()\n",
    "    labels = value_counts_trans.index.values\n",
    "    x = np.arange(len(labels))\n",
    "\n",
    "    width = 0.35\n",
    "    ax.bar(x - width/2, value_counts_trans.values, width, label='Transported')\n",
    "    ax.bar(x + width/2, value_counts_nottrans.values, width, label='Not Transported')\n",
    "    ax.set_xlabel(column)\n",
    "    ax.set_ylabel('Number of passenger')\n",
    "    ax.set_xticks(x, labels)\n",
    "    ax.legend()\n",
    "    plt.show()\n",
    "    \n",
    "def int_plot(column):\n",
    "    plt.hist([dataset[dataset['Transported']][column], dataset[~dataset['Transported']][column]], label=['Transported', 'Not Transported'])\n",
    "    plt.xlabel(column)\n",
    "    plt.ylabel('Number of passenger')\n",
    "    plt.legend()\n",
    "    plt.show()\n",
    "    sns.boxplot(x='Transported',y=column, data=dataset)\n",
    "    plt.show()"
   ]
  },
  {
   "cell_type": "code",
   "execution_count": 15,
   "id": "ec66cfd1",
   "metadata": {
    "execution": {
     "iopub.execute_input": "2022-06-30T15:19:57.084978Z",
     "iopub.status.busy": "2022-06-30T15:19:57.083666Z",
     "iopub.status.idle": "2022-06-30T15:19:57.275935Z",
     "shell.execute_reply": "2022-06-30T15:19:57.275069Z"
    },
    "papermill": {
     "duration": 0.209474,
     "end_time": "2022-06-30T15:19:57.278057",
     "exception": false,
     "start_time": "2022-06-30T15:19:57.068583",
     "status": "completed"
    },
    "tags": []
   },
   "outputs": [
    {
     "data": {
      "text/html": [
       "<div>\n",
       "<style scoped>\n",
       "    .dataframe tbody tr th:only-of-type {\n",
       "        vertical-align: middle;\n",
       "    }\n",
       "\n",
       "    .dataframe tbody tr th {\n",
       "        vertical-align: top;\n",
       "    }\n",
       "\n",
       "    .dataframe thead th {\n",
       "        text-align: right;\n",
       "    }\n",
       "</style>\n",
       "<table border=\"1\" class=\"dataframe\">\n",
       "  <thead>\n",
       "    <tr style=\"text-align: right;\">\n",
       "      <th></th>\n",
       "      <th>Side</th>\n",
       "      <th>Transported</th>\n",
       "    </tr>\n",
       "  </thead>\n",
       "  <tbody>\n",
       "    <tr>\n",
       "      <th>Side</th>\n",
       "      <td>1.000000</td>\n",
       "      <td>0.103775</td>\n",
       "    </tr>\n",
       "    <tr>\n",
       "      <th>Transported</th>\n",
       "      <td>0.103775</td>\n",
       "      <td>1.000000</td>\n",
       "    </tr>\n",
       "  </tbody>\n",
       "</table>\n",
       "</div>"
      ],
      "text/plain": [
       "                 Side  Transported\n",
       "Side         1.000000     0.103775\n",
       "Transported  0.103775     1.000000"
      ]
     },
     "metadata": {},
     "output_type": "display_data"
    },
    {
     "data": {
      "image/png": "[encoded data removed]",
      "text/plain": [
       "<Figure size 432x288 with 1 Axes>"
      ]
     },
     "metadata": {
      "needs_background": "light"
     },
     "output_type": "display_data"
    }
   ],
   "source": [
    "encodedSide = dataset['Side'].map({'P': 0, 'S': 1})\n",
    "encodedTransported = dataset['Transported'].map({False: 0, True: 1})\n",
    "display(pd.concat([encodedSide, encodedTransported], axis=1).corr())\n",
    "pd.crosstab(dataset['Side'], dataset['Transported'])\n",
    "\n",
    "cat_plot('Side')"
   ]
  },
  {
   "cell_type": "markdown",
   "id": "05b26770",
   "metadata": {
    "papermill": {
     "duration": 0.014608,
     "end_time": "2022-06-30T15:19:57.307293",
     "exception": false,
     "start_time": "2022-06-30T15:19:57.292685",
     "status": "completed"
    },
    "tags": []
   },
   "source": [
    "A bit more of passengers on starboard were transported but the pearson correlation is very low.\n"
   ]
  },
  {
   "cell_type": "code",
   "execution_count": 16,
   "id": "a952b78d",
   "metadata": {
    "execution": {
     "iopub.execute_input": "2022-06-30T15:19:57.338888Z",
     "iopub.status.busy": "2022-06-30T15:19:57.338199Z",
     "iopub.status.idle": "2022-06-30T15:19:57.584897Z",
     "shell.execute_reply": "2022-06-30T15:19:57.583826Z"
    },
    "papermill": {
     "duration": 0.264859,
     "end_time": "2022-06-30T15:19:57.587174",
     "exception": false,
     "start_time": "2022-06-30T15:19:57.322315",
     "status": "completed"
    },
    "tags": []
   },
   "outputs": [
    {
     "data": {
      "text/html": [
       "<div>\n",
       "<style scoped>\n",
       "    .dataframe tbody tr th:only-of-type {\n",
       "        vertical-align: middle;\n",
       "    }\n",
       "\n",
       "    .dataframe tbody tr th {\n",
       "        vertical-align: top;\n",
       "    }\n",
       "\n",
       "    .dataframe thead th {\n",
       "        text-align: right;\n",
       "    }\n",
       "</style>\n",
       "<table border=\"1\" class=\"dataframe\">\n",
       "  <thead>\n",
       "    <tr style=\"text-align: right;\">\n",
       "      <th></th>\n",
       "      <th>Deck</th>\n",
       "      <th>Transported</th>\n",
       "    </tr>\n",
       "  </thead>\n",
       "  <tbody>\n",
       "    <tr>\n",
       "      <th>Deck</th>\n",
       "      <td>1.000000</td>\n",
       "      <td>-0.116462</td>\n",
       "    </tr>\n",
       "    <tr>\n",
       "      <th>Transported</th>\n",
       "      <td>-0.116462</td>\n",
       "      <td>1.000000</td>\n",
       "    </tr>\n",
       "  </tbody>\n",
       "</table>\n",
       "</div>"
      ],
      "text/plain": [
       "                 Deck  Transported\n",
       "Deck         1.000000    -0.116462\n",
       "Transported -0.116462     1.000000"
      ]
     },
     "metadata": {},
     "output_type": "display_data"
    },
    {
     "data": {
      "image/png": "[encoded data removed]",
      "text/plain": [
       "<Figure size 432x288 with 1 Axes>"
      ]
     },
     "metadata": {
      "needs_background": "light"
     },
     "output_type": "display_data"
    }
   ],
   "source": [
    "encodedDeck = dataset['Deck'].map({'A': 0, 'B': 1, 'C': 2, 'D': 3, 'E': 4, 'F': 5, 'G': 6, 'T': 7})\n",
    "display(pd.concat([encodedDeck, encodedTransported], axis=1).corr())\n",
    "pd.crosstab(dataset['Deck'], dataset['Transported'])\n",
    "\n",
    "cat_plot('Deck')"
   ]
  },
  {
   "cell_type": "code",
   "execution_count": 17,
   "id": "821d3565",
   "metadata": {
    "execution": {
     "iopub.execute_input": "2022-06-30T15:19:57.618788Z",
     "iopub.status.busy": "2022-06-30T15:19:57.618178Z",
     "iopub.status.idle": "2022-06-30T15:19:58.143565Z",
     "shell.execute_reply": "2022-06-30T15:19:58.142412Z"
    },
    "papermill": {
     "duration": 0.54347,
     "end_time": "2022-06-30T15:19:58.145605",
     "exception": false,
     "start_time": "2022-06-30T15:19:57.602135",
     "status": "completed"
    },
    "tags": []
   },
   "outputs": [
    {
     "data": {
      "image/png": "[encoded data removed]",
      "text/plain": [
       "<Figure size 432x288 with 1 Axes>"
      ]
     },
     "metadata": {
      "needs_background": "light"
     },
     "output_type": "display_data"
    },
    {
     "data": {
      "image/png": "[encoded data removed]",
      "text/plain": [
       "<Figure size 432x288 with 1 Axes>"
      ]
     },
     "metadata": {
      "needs_background": "light"
     },
     "output_type": "display_data"
    }
   ],
   "source": [
    "pd.concat([dataset['RoomNumber'], encodedTransported], axis=1).corr()\n",
    "int_plot('RoomNumber')"
   ]
  },
  {
   "cell_type": "code",
   "execution_count": 18,
   "id": "2078d8f1",
   "metadata": {
    "execution": {
     "iopub.execute_input": "2022-06-30T15:19:58.178997Z",
     "iopub.status.busy": "2022-06-30T15:19:58.178600Z",
     "iopub.status.idle": "2022-06-30T15:19:58.381490Z",
     "shell.execute_reply": "2022-06-30T15:19:58.380595Z"
    },
    "papermill": {
     "duration": 0.222565,
     "end_time": "2022-06-30T15:19:58.383670",
     "exception": false,
     "start_time": "2022-06-30T15:19:58.161105",
     "status": "completed"
    },
    "tags": []
   },
   "outputs": [
    {
     "data": {
      "text/html": [
       "<div>\n",
       "<style scoped>\n",
       "    .dataframe tbody tr th:only-of-type {\n",
       "        vertical-align: middle;\n",
       "    }\n",
       "\n",
       "    .dataframe tbody tr th {\n",
       "        vertical-align: top;\n",
       "    }\n",
       "\n",
       "    .dataframe thead th {\n",
       "        text-align: right;\n",
       "    }\n",
       "</style>\n",
       "<table border=\"1\" class=\"dataframe\">\n",
       "  <thead>\n",
       "    <tr style=\"text-align: right;\">\n",
       "      <th></th>\n",
       "      <th>VIP</th>\n",
       "      <th>Transported</th>\n",
       "    </tr>\n",
       "  </thead>\n",
       "  <tbody>\n",
       "    <tr>\n",
       "      <th>VIP</th>\n",
       "      <td>1.000000</td>\n",
       "      <td>-0.035406</td>\n",
       "    </tr>\n",
       "    <tr>\n",
       "      <th>Transported</th>\n",
       "      <td>-0.035406</td>\n",
       "      <td>1.000000</td>\n",
       "    </tr>\n",
       "  </tbody>\n",
       "</table>\n",
       "</div>"
      ],
      "text/plain": [
       "                  VIP  Transported\n",
       "VIP          1.000000    -0.035406\n",
       "Transported -0.035406     1.000000"
      ]
     },
     "metadata": {},
     "output_type": "display_data"
    },
    {
     "data": {
      "image/png": "[encoded data removed]",
      "text/plain": [
       "<Figure size 432x288 with 1 Axes>"
      ]
     },
     "metadata": {
      "needs_background": "light"
     },
     "output_type": "display_data"
    }
   ],
   "source": [
    "encodedVIP = dataset['VIP'].map({False: 0, True: 1})\n",
    "display(pd.concat([encodedVIP, encodedTransported], axis=1).corr())\n",
    "pd.crosstab(dataset['VIP'], dataset['Transported'])\n",
    "\n",
    "cat_plot('VIP')"
   ]
  },
  {
   "cell_type": "code",
   "execution_count": 19,
   "id": "3bafbd49",
   "metadata": {
    "execution": {
     "iopub.execute_input": "2022-06-30T15:19:58.423637Z",
     "iopub.status.busy": "2022-06-30T15:19:58.422935Z",
     "iopub.status.idle": "2022-06-30T15:19:58.830628Z",
     "shell.execute_reply": "2022-06-30T15:19:58.829636Z"
    },
    "papermill": {
     "duration": 0.432654,
     "end_time": "2022-06-30T15:19:58.832781",
     "exception": false,
     "start_time": "2022-06-30T15:19:58.400127",
     "status": "completed"
    },
    "tags": []
   },
   "outputs": [
    {
     "data": {
      "text/html": [
       "<div>\n",
       "<style scoped>\n",
       "    .dataframe tbody tr th:only-of-type {\n",
       "        vertical-align: middle;\n",
       "    }\n",
       "\n",
       "    .dataframe tbody tr th {\n",
       "        vertical-align: top;\n",
       "    }\n",
       "\n",
       "    .dataframe thead th {\n",
       "        text-align: right;\n",
       "    }\n",
       "</style>\n",
       "<table border=\"1\" class=\"dataframe\">\n",
       "  <thead>\n",
       "    <tr style=\"text-align: right;\">\n",
       "      <th></th>\n",
       "      <th>Age</th>\n",
       "      <th>Transported</th>\n",
       "    </tr>\n",
       "  </thead>\n",
       "  <tbody>\n",
       "    <tr>\n",
       "      <th>Age</th>\n",
       "      <td>1.000000</td>\n",
       "      <td>-0.077213</td>\n",
       "    </tr>\n",
       "    <tr>\n",
       "      <th>Transported</th>\n",
       "      <td>-0.077213</td>\n",
       "      <td>1.000000</td>\n",
       "    </tr>\n",
       "  </tbody>\n",
       "</table>\n",
       "</div>"
      ],
      "text/plain": [
       "                  Age  Transported\n",
       "Age          1.000000    -0.077213\n",
       "Transported -0.077213     1.000000"
      ]
     },
     "metadata": {},
     "output_type": "display_data"
    },
    {
     "data": {
      "image/png": "[encoded data removed]",
      "text/plain": [
       "<Figure size 432x288 with 1 Axes>"
      ]
     },
     "metadata": {
      "needs_background": "light"
     },
     "output_type": "display_data"
    },
    {
     "data": {
      "image/png": "[encoded data removed]",
      "text/plain": [
       "<Figure size 432x288 with 1 Axes>"
      ]
     },
     "metadata": {
      "needs_background": "light"
     },
     "output_type": "display_data"
    }
   ],
   "source": [
    "display(pd.concat([dataset['Age'], encodedTransported], axis=1).corr())\n",
    "int_plot('Age')"
   ]
  },
  {
   "cell_type": "code",
   "execution_count": 20,
   "id": "a11ce3c0",
   "metadata": {
    "execution": {
     "iopub.execute_input": "2022-06-30T15:19:58.867947Z",
     "iopub.status.busy": "2022-06-30T15:19:58.867523Z",
     "iopub.status.idle": "2022-06-30T15:19:59.066885Z",
     "shell.execute_reply": "2022-06-30T15:19:59.065911Z"
    },
    "papermill": {
     "duration": 0.219247,
     "end_time": "2022-06-30T15:19:59.068972",
     "exception": false,
     "start_time": "2022-06-30T15:19:58.849725",
     "status": "completed"
    },
    "tags": []
   },
   "outputs": [
    {
     "data": {
      "text/html": [
       "<div>\n",
       "<style scoped>\n",
       "    .dataframe tbody tr th:only-of-type {\n",
       "        vertical-align: middle;\n",
       "    }\n",
       "\n",
       "    .dataframe tbody tr th {\n",
       "        vertical-align: top;\n",
       "    }\n",
       "\n",
       "    .dataframe thead th {\n",
       "        text-align: right;\n",
       "    }\n",
       "</style>\n",
       "<table border=\"1\" class=\"dataframe\">\n",
       "  <thead>\n",
       "    <tr style=\"text-align: right;\">\n",
       "      <th></th>\n",
       "      <th>is_child</th>\n",
       "      <th>Transported</th>\n",
       "    </tr>\n",
       "  </thead>\n",
       "  <tbody>\n",
       "    <tr>\n",
       "      <th>is_child</th>\n",
       "      <td>1.000000</td>\n",
       "      <td>0.126101</td>\n",
       "    </tr>\n",
       "    <tr>\n",
       "      <th>Transported</th>\n",
       "      <td>0.126101</td>\n",
       "      <td>1.000000</td>\n",
       "    </tr>\n",
       "  </tbody>\n",
       "</table>\n",
       "</div>"
      ],
      "text/plain": [
       "             is_child  Transported\n",
       "is_child     1.000000     0.126101\n",
       "Transported  0.126101     1.000000"
      ]
     },
     "metadata": {},
     "output_type": "display_data"
    },
    {
     "data": {
      "image/png": "[encoded data removed]",
      "text/plain": [
       "<Figure size 432x288 with 1 Axes>"
      ]
     },
     "metadata": {
      "needs_background": "light"
     },
     "output_type": "display_data"
    }
   ],
   "source": [
    "dataset['is_child'] = dataset['Age'] <= 4\n",
    "display(pd.concat([dataset['is_child'].map({False: 0, True: 1}), encodedTransported], axis=1).corr())\n",
    "cat_plot('is_child')"
   ]
  },
  {
   "cell_type": "code",
   "execution_count": 21,
   "id": "0c780788",
   "metadata": {
    "execution": {
     "iopub.execute_input": "2022-06-30T15:19:59.104819Z",
     "iopub.status.busy": "2022-06-30T15:19:59.104392Z",
     "iopub.status.idle": "2022-06-30T15:19:59.282829Z",
     "shell.execute_reply": "2022-06-30T15:19:59.281883Z"
    },
    "papermill": {
     "duration": 0.198934,
     "end_time": "2022-06-30T15:19:59.284882",
     "exception": false,
     "start_time": "2022-06-30T15:19:59.085948",
     "status": "completed"
    },
    "tags": []
   },
   "outputs": [
    {
     "data": {
      "image/png": "[encoded data removed]",
      "text/plain": [
       "<Figure size 432x288 with 1 Axes>"
      ]
     },
     "metadata": {
      "needs_background": "light"
     },
     "output_type": "display_data"
    }
   ],
   "source": [
    "encodedCryo = dataset['CryoSleep'].map({False: 0, True: 1})\n",
    "cat_plot('CryoSleep')"
   ]
  },
  {
   "cell_type": "code",
   "execution_count": 22,
   "id": "f851a45b",
   "metadata": {
    "execution": {
     "iopub.execute_input": "2022-06-30T15:19:59.320593Z",
     "iopub.status.busy": "2022-06-30T15:19:59.319810Z",
     "iopub.status.idle": "2022-06-30T15:19:59.497293Z",
     "shell.execute_reply": "2022-06-30T15:19:59.496262Z"
    },
    "papermill": {
     "duration": 0.197594,
     "end_time": "2022-06-30T15:19:59.499397",
     "exception": false,
     "start_time": "2022-06-30T15:19:59.301803",
     "status": "completed"
    },
    "tags": []
   },
   "outputs": [
    {
     "data": {
      "image/png": "[encoded data removed]",
      "text/plain": [
       "<Figure size 432x288 with 1 Axes>"
      ]
     },
     "metadata": {
      "needs_background": "light"
     },
     "output_type": "display_data"
    }
   ],
   "source": [
    "encodedHome = pd.get_dummies(dataset['HomePlanet'])\n",
    "cat_plot('HomePlanet')"
   ]
  },
  {
   "cell_type": "code",
   "execution_count": 23,
   "id": "604525fd",
   "metadata": {
    "execution": {
     "iopub.execute_input": "2022-06-30T15:19:59.536190Z",
     "iopub.status.busy": "2022-06-30T15:19:59.535810Z",
     "iopub.status.idle": "2022-06-30T15:19:59.721054Z",
     "shell.execute_reply": "2022-06-30T15:19:59.720052Z"
    },
    "papermill": {
     "duration": 0.205851,
     "end_time": "2022-06-30T15:19:59.723296",
     "exception": false,
     "start_time": "2022-06-30T15:19:59.517445",
     "status": "completed"
    },
    "tags": []
   },
   "outputs": [
    {
     "data": {
      "image/png": "[encoded data removed]",
      "text/plain": [
       "<Figure size 432x288 with 1 Axes>"
      ]
     },
     "metadata": {
      "needs_background": "light"
     },
     "output_type": "display_data"
    }
   ],
   "source": [
    "encodedDestination = pd.get_dummies(dataset['Destination'])\n",
    "cat_plot('Destination')"
   ]
  },
  {
   "cell_type": "code",
   "execution_count": 24,
   "id": "c6b874e4",
   "metadata": {
    "execution": {
     "iopub.execute_input": "2022-06-30T15:19:59.760850Z",
     "iopub.status.busy": "2022-06-30T15:19:59.760467Z",
     "iopub.status.idle": "2022-06-30T15:19:59.779903Z",
     "shell.execute_reply": "2022-06-30T15:19:59.778972Z"
    },
    "papermill": {
     "duration": 0.040683,
     "end_time": "2022-06-30T15:19:59.781844",
     "exception": false,
     "start_time": "2022-06-30T15:19:59.741161",
     "status": "completed"
    },
    "tags": []
   },
   "outputs": [
    {
     "data": {
      "text/html": [
       "<div>\n",
       "<style scoped>\n",
       "    .dataframe tbody tr th:only-of-type {\n",
       "        vertical-align: middle;\n",
       "    }\n",
       "\n",
       "    .dataframe tbody tr th {\n",
       "        vertical-align: top;\n",
       "    }\n",
       "\n",
       "    .dataframe thead th {\n",
       "        text-align: right;\n",
       "    }\n",
       "</style>\n",
       "<table border=\"1\" class=\"dataframe\">\n",
       "  <thead>\n",
       "    <tr style=\"text-align: right;\">\n",
       "      <th>CryoSleep</th>\n",
       "      <th>False</th>\n",
       "      <th>True</th>\n",
       "    </tr>\n",
       "    <tr>\n",
       "      <th>HomePlanet</th>\n",
       "      <th></th>\n",
       "      <th></th>\n",
       "    </tr>\n",
       "  </thead>\n",
       "  <tbody>\n",
       "    <tr>\n",
       "      <th>Earth</th>\n",
       "      <td>3051</td>\n",
       "      <td>1346</td>\n",
       "    </tr>\n",
       "    <tr>\n",
       "      <th>Europa</th>\n",
       "      <td>1131</td>\n",
       "      <td>882</td>\n",
       "    </tr>\n",
       "    <tr>\n",
       "      <th>Mars</th>\n",
       "      <td>1027</td>\n",
       "      <td>654</td>\n",
       "    </tr>\n",
       "  </tbody>\n",
       "</table>\n",
       "</div>"
      ],
      "text/plain": [
       "CryoSleep   False  True\n",
       "HomePlanet             \n",
       "Earth        3051  1346\n",
       "Europa       1131   882\n",
       "Mars         1027   654"
      ]
     },
     "execution_count": 24,
     "metadata": {},
     "output_type": "execute_result"
    }
   ],
   "source": [
    "pd.crosstab(dataset['HomePlanet'], dataset['CryoSleep'])"
   ]
  },
  {
   "cell_type": "code",
   "execution_count": 25,
   "id": "a6539ef4",
   "metadata": {
    "execution": {
     "iopub.execute_input": "2022-06-30T15:19:59.818423Z",
     "iopub.status.busy": "2022-06-30T15:19:59.818068Z",
     "iopub.status.idle": "2022-06-30T15:20:01.814897Z",
     "shell.execute_reply": "2022-06-30T15:20:01.813972Z"
    },
    "papermill": {
     "duration": 2.017862,
     "end_time": "2022-06-30T15:20:01.817128",
     "exception": false,
     "start_time": "2022-06-30T15:19:59.799266",
     "status": "completed"
    },
    "tags": []
   },
   "outputs": [
    {
     "name": "stdout",
     "output_type": "stream",
     "text": [
      "Analysing RoomService\n"
     ]
    },
    {
     "data": {
      "text/plain": [
       "count    8317.000000\n",
       "mean      221.954671\n",
       "std       640.734593\n",
       "min         0.000000\n",
       "25%         0.000000\n",
       "50%         0.000000\n",
       "75%        48.000000\n",
       "max      9920.000000\n",
       "Name: RoomService, dtype: float64"
      ]
     },
     "metadata": {},
     "output_type": "display_data"
    },
    {
     "data": {
      "image/png": "[encoded data removed]",
      "text/plain": [
       "<Figure size 432x288 with 1 Axes>"
      ]
     },
     "metadata": {
      "needs_background": "light"
     },
     "output_type": "display_data"
    },
    {
     "data": {
      "image/png": "[encoded data removed]",
      "text/plain": [
       "<Figure size 432x288 with 1 Axes>"
      ]
     },
     "metadata": {
      "needs_background": "light"
     },
     "output_type": "display_data"
    },
    {
     "name": "stdout",
     "output_type": "stream",
     "text": [
      "Analysing FoodCourt\n"
     ]
    },
    {
     "data": {
      "text/plain": [
       "count     8316.000000\n",
       "mean       457.992665\n",
       "std       1616.551099\n",
       "min          0.000000\n",
       "25%          0.000000\n",
       "50%          0.000000\n",
       "75%         78.250000\n",
       "max      29813.000000\n",
       "Name: FoodCourt, dtype: float64"
      ]
     },
     "metadata": {},
     "output_type": "display_data"
    },
    {
     "data": {
      "image/png": "[encoded data removed]",
      "text/plain": [
       "<Figure size 432x288 with 1 Axes>"
      ]
     },
     "metadata": {
      "needs_background": "light"
     },
     "output_type": "display_data"
    },
    {
     "data": {
      "image/png": "[encoded data removed]",
      "text/plain": [
       "<Figure size 432x288 with 1 Axes>"
      ]
     },
     "metadata": {
      "needs_background": "light"
     },
     "output_type": "display_data"
    },
    {
     "name": "stdout",
     "output_type": "stream",
     "text": [
      "Analysing ShoppingMall\n"
     ]
    },
    {
     "data": {
      "text/plain": [
       "count     8288.000000\n",
       "mean       174.700531\n",
       "std        608.668091\n",
       "min          0.000000\n",
       "25%          0.000000\n",
       "50%          0.000000\n",
       "75%         28.000000\n",
       "max      23492.000000\n",
       "Name: ShoppingMall, dtype: float64"
      ]
     },
     "metadata": {},
     "output_type": "display_data"
    },
    {
     "data": {
      "image/png": "[encoded data removed]",
      "text/plain": [
       "<Figure size 432x288 with 1 Axes>"
      ]
     },
     "metadata": {
      "needs_background": "light"
     },
     "output_type": "display_data"
    },
    {
     "data": {
      "image/png": "[encoded data removed]",
      "text/plain": [
       "<Figure size 432x288 with 1 Axes>"
      ]
     },
     "metadata": {
      "needs_background": "light"
     },
     "output_type": "display_data"
    },
    {
     "name": "stdout",
     "output_type": "stream",
     "text": [
      "Analysing Spa\n"
     ]
    },
    {
     "data": {
      "text/plain": [
       "count     8313.000000\n",
       "mean       306.623120\n",
       "std       1119.076668\n",
       "min          0.000000\n",
       "25%          0.000000\n",
       "50%          0.000000\n",
       "75%         59.000000\n",
       "max      22408.000000\n",
       "Name: Spa, dtype: float64"
      ]
     },
     "metadata": {},
     "output_type": "display_data"
    },
    {
     "data": {
      "image/png": "[encoded data removed]",
      "text/plain": [
       "<Figure size 432x288 with 1 Axes>"
      ]
     },
     "metadata": {
      "needs_background": "light"
     },
     "output_type": "display_data"
    },
    {
     "data": {
      "image/png": "[encoded data removed]",
      "text/plain": [
       "<Figure size 432x288 with 1 Axes>"
      ]
     },
     "metadata": {
      "needs_background": "light"
     },
     "output_type": "display_data"
    },
    {
     "name": "stdout",
     "output_type": "stream",
     "text": [
      "Analysing VRDeck\n"
     ]
    },
    {
     "data": {
      "text/plain": [
       "count     8310.000000\n",
       "mean       306.132371\n",
       "std       1148.895082\n",
       "min          0.000000\n",
       "25%          0.000000\n",
       "50%          0.000000\n",
       "75%         46.750000\n",
       "max      24133.000000\n",
       "Name: VRDeck, dtype: float64"
      ]
     },
     "metadata": {},
     "output_type": "display_data"
    },
    {
     "data": {
      "image/png": "[encoded data removed]",
      "text/plain": [
       "<Figure size 432x288 with 1 Axes>"
      ]
     },
     "metadata": {
      "needs_background": "light"
     },
     "output_type": "display_data"
    },
    {
     "data": {
      "image/png": "[encoded data removed]",
      "text/plain": [
       "<Figure size 432x288 with 1 Axes>"
      ]
     },
     "metadata": {
      "needs_background": "light"
     },
     "output_type": "display_data"
    }
   ],
   "source": [
    "for column in ['RoomService', 'FoodCourt', 'ShoppingMall', 'Spa', 'VRDeck']:\n",
    "    print('Analysing', column)\n",
    "    display(dataset[column].describe())\n",
    "    int_plot(column)"
   ]
  },
  {
   "cell_type": "code",
   "execution_count": 26,
   "id": "5f945990",
   "metadata": {
    "execution": {
     "iopub.execute_input": "2022-06-30T15:20:01.860661Z",
     "iopub.status.busy": "2022-06-30T15:20:01.860250Z",
     "iopub.status.idle": "2022-06-30T15:20:02.444176Z",
     "shell.execute_reply": "2022-06-30T15:20:02.443502Z"
    },
    "papermill": {
     "duration": 0.607927,
     "end_time": "2022-06-30T15:20:02.446066",
     "exception": false,
     "start_time": "2022-06-30T15:20:01.838139",
     "status": "completed"
    },
    "tags": []
   },
   "outputs": [
    {
     "data": {
      "image/png": "[encoded data removed]",
      "text/plain": [
       "<Figure size 432x288 with 1 Axes>"
      ]
     },
     "metadata": {
      "needs_background": "light"
     },
     "output_type": "display_data"
    },
    {
     "data": {
      "image/png": "[encoded data removed]",
      "text/plain": [
       "<Figure size 432x288 with 1 Axes>"
      ]
     },
     "metadata": {
      "needs_background": "light"
     },
     "output_type": "display_data"
    }
   ],
   "source": [
    "dataset['TotalSpent'] = dataset[['RoomService', 'FoodCourt', 'ShoppingMall', 'Spa', 'VRDeck']].sum(axis=1)\n",
    "int_plot('TotalSpent')"
   ]
  },
  {
   "cell_type": "markdown",
   "id": "0f2fab3f",
   "metadata": {
    "papermill": {
     "duration": 0.020858,
     "end_time": "2022-06-30T15:20:02.487982",
     "exception": false,
     "start_time": "2022-06-30T15:20:02.467124",
     "status": "completed"
    },
    "tags": []
   },
   "source": [
    "## Get most corrolated values"
   ]
  },
  {
   "cell_type": "code",
   "execution_count": 27,
   "id": "5b82073d",
   "metadata": {
    "execution": {
     "iopub.execute_input": "2022-06-30T15:20:02.532588Z",
     "iopub.status.busy": "2022-06-30T15:20:02.531741Z",
     "iopub.status.idle": "2022-06-30T15:20:04.255496Z",
     "shell.execute_reply": "2022-06-30T15:20:04.254754Z"
    },
    "papermill": {
     "duration": 1.751539,
     "end_time": "2022-06-30T15:20:04.260605",
     "exception": false,
     "start_time": "2022-06-30T15:20:02.509066",
     "status": "completed"
    },
    "tags": []
   },
   "outputs": [
    {
     "data": {
      "text/html": [
       "<div>\n",
       "<style scoped>\n",
       "    .dataframe tbody tr th:only-of-type {\n",
       "        vertical-align: middle;\n",
       "    }\n",
       "\n",
       "    .dataframe tbody tr th {\n",
       "        vertical-align: top;\n",
       "    }\n",
       "\n",
       "    .dataframe thead th {\n",
       "        text-align: right;\n",
       "    }\n",
       "</style>\n",
       "<table border=\"1\" class=\"dataframe\">\n",
       "  <thead>\n",
       "    <tr style=\"text-align: right;\">\n",
       "      <th></th>\n",
       "      <th>Age</th>\n",
       "      <th>RoomService</th>\n",
       "      <th>FoodCourt</th>\n",
       "      <th>ShoppingMall</th>\n",
       "      <th>Spa</th>\n",
       "      <th>VRDeck</th>\n",
       "      <th>Transported</th>\n",
       "      <th>RoomNumber</th>\n",
       "      <th>is_child</th>\n",
       "      <th>TotalSpent</th>\n",
       "      <th>Deck</th>\n",
       "      <th>Side</th>\n",
       "      <th>VIP</th>\n",
       "      <th>CryoSleep</th>\n",
       "      <th>Earth</th>\n",
       "      <th>Europa</th>\n",
       "      <th>Mars</th>\n",
       "      <th>55 Cancri e</th>\n",
       "      <th>PSO J318.5-22</th>\n",
       "      <th>TRAPPIST-1e</th>\n",
       "    </tr>\n",
       "  </thead>\n",
       "  <tbody>\n",
       "    <tr>\n",
       "      <th>Age</th>\n",
       "      <td>1.000000</td>\n",
       "      <td>0.070586</td>\n",
       "      <td>0.129999</td>\n",
       "      <td>0.034103</td>\n",
       "      <td>0.122365</td>\n",
       "      <td>0.101069</td>\n",
       "      <td>-0.077213</td>\n",
       "      <td>-0.132255</td>\n",
       "      <td>-0.453666</td>\n",
       "      <td>0.186249</td>\n",
       "      <td>-0.248003</td>\n",
       "      <td>0.011640</td>\n",
       "      <td>0.092592</td>\n",
       "      <td>-0.073938</td>\n",
       "      <td>-0.198902</td>\n",
       "      <td>0.217664</td>\n",
       "      <td>0.015660</td>\n",
       "      <td>0.015220</td>\n",
       "      <td>-0.026270</td>\n",
       "      <td>-0.001608</td>\n",
       "    </tr>\n",
       "    <tr>\n",
       "      <th>RoomService</th>\n",
       "      <td>0.070586</td>\n",
       "      <td>1.000000</td>\n",
       "      <td>-0.018380</td>\n",
       "      <td>0.054638</td>\n",
       "      <td>0.013700</td>\n",
       "      <td>-0.020419</td>\n",
       "      <td>-0.248758</td>\n",
       "      <td>-0.008986</td>\n",
       "      <td>-0.082366</td>\n",
       "      <td>0.229522</td>\n",
       "      <td>-0.026783</td>\n",
       "      <td>-0.012290</td>\n",
       "      <td>0.045832</td>\n",
       "      <td>-0.258782</td>\n",
       "      <td>-0.140647</td>\n",
       "      <td>-0.076557</td>\n",
       "      <td>0.258430</td>\n",
       "      <td>-0.027479</td>\n",
       "      <td>-0.064868</td>\n",
       "      <td>0.064925</td>\n",
       "    </tr>\n",
       "    <tr>\n",
       "      <th>FoodCourt</th>\n",
       "      <td>0.129999</td>\n",
       "      <td>-0.018380</td>\n",
       "      <td>1.000000</td>\n",
       "      <td>-0.013322</td>\n",
       "      <td>0.217284</td>\n",
       "      <td>0.224099</td>\n",
       "      <td>0.048559</td>\n",
       "      <td>-0.183429</td>\n",
       "      <td>-0.067529</td>\n",
       "      <td>0.745822</td>\n",
       "      <td>-0.324348</td>\n",
       "      <td>0.020149</td>\n",
       "      <td>0.129402</td>\n",
       "      <td>-0.209967</td>\n",
       "      <td>-0.210271</td>\n",
       "      <td>0.369000</td>\n",
       "      <td>-0.125779</td>\n",
       "      <td>0.137901</td>\n",
       "      <td>-0.065637</td>\n",
       "      <td>-0.076059</td>\n",
       "    </tr>\n",
       "    <tr>\n",
       "      <th>ShoppingMall</th>\n",
       "      <td>0.034103</td>\n",
       "      <td>0.054638</td>\n",
       "      <td>-0.013322</td>\n",
       "      <td>1.000000</td>\n",
       "      <td>0.016051</td>\n",
       "      <td>-0.007186</td>\n",
       "      <td>0.011862</td>\n",
       "      <td>0.001727</td>\n",
       "      <td>-0.068210</td>\n",
       "      <td>0.225656</td>\n",
       "      <td>-0.032926</td>\n",
       "      <td>-0.020983</td>\n",
       "      <td>0.016453</td>\n",
       "      <td>-0.211642</td>\n",
       "      <td>-0.070569</td>\n",
       "      <td>-0.018109</td>\n",
       "      <td>0.109675</td>\n",
       "      <td>-0.011286</td>\n",
       "      <td>-0.031084</td>\n",
       "      <td>0.030813</td>\n",
       "    </tr>\n",
       "    <tr>\n",
       "      <th>Spa</th>\n",
       "      <td>0.122365</td>\n",
       "      <td>0.013700</td>\n",
       "      <td>0.217284</td>\n",
       "      <td>0.016051</td>\n",
       "      <td>1.000000</td>\n",
       "      <td>0.155826</td>\n",
       "      <td>-0.220264</td>\n",
       "      <td>-0.131342</td>\n",
       "      <td>-0.065397</td>\n",
       "      <td>0.593310</td>\n",
       "      <td>-0.229111</td>\n",
       "      <td>0.002031</td>\n",
       "      <td>0.058722</td>\n",
       "      <td>-0.203376</td>\n",
       "      <td>-0.155163</td>\n",
       "      <td>0.266356</td>\n",
       "      <td>-0.088285</td>\n",
       "      <td>0.076814</td>\n",
       "      <td>-0.055340</td>\n",
       "      <td>-0.034944</td>\n",
       "    </tr>\n",
       "    <tr>\n",
       "      <th>VRDeck</th>\n",
       "      <td>0.101069</td>\n",
       "      <td>-0.020419</td>\n",
       "      <td>0.224099</td>\n",
       "      <td>-0.007186</td>\n",
       "      <td>0.155826</td>\n",
       "      <td>1.000000</td>\n",
       "      <td>-0.207645</td>\n",
       "      <td>-0.139080</td>\n",
       "      <td>-0.063460</td>\n",
       "      <td>0.588282</td>\n",
       "      <td>-0.257326</td>\n",
       "      <td>-0.008154</td>\n",
       "      <td>0.126290</td>\n",
       "      <td>-0.198232</td>\n",
       "      <td>-0.154437</td>\n",
       "      <td>0.286405</td>\n",
       "      <td>-0.113899</td>\n",
       "      <td>0.093072</td>\n",
       "      <td>-0.047447</td>\n",
       "      <td>-0.048123</td>\n",
       "    </tr>\n",
       "    <tr>\n",
       "      <th>Transported</th>\n",
       "      <td>-0.077213</td>\n",
       "      <td>-0.248758</td>\n",
       "      <td>0.048559</td>\n",
       "      <td>0.011862</td>\n",
       "      <td>-0.220264</td>\n",
       "      <td>-0.207645</td>\n",
       "      <td>1.000000</td>\n",
       "      <td>-0.045097</td>\n",
       "      <td>0.126101</td>\n",
       "      <td>-0.196387</td>\n",
       "      <td>-0.116462</td>\n",
       "      <td>0.103775</td>\n",
       "      <td>-0.035406</td>\n",
       "      <td>0.467484</td>\n",
       "      <td>-0.168415</td>\n",
       "      <td>0.176303</td>\n",
       "      <td>0.020332</td>\n",
       "      <td>0.107480</td>\n",
       "      <td>0.003396</td>\n",
       "      <td>-0.096084</td>\n",
       "    </tr>\n",
       "    <tr>\n",
       "      <th>RoomNumber</th>\n",
       "      <td>-0.132255</td>\n",
       "      <td>-0.008986</td>\n",
       "      <td>-0.183429</td>\n",
       "      <td>0.001727</td>\n",
       "      <td>-0.131342</td>\n",
       "      <td>-0.139080</td>\n",
       "      <td>-0.045097</td>\n",
       "      <td>1.000000</td>\n",
       "      <td>0.059152</td>\n",
       "      <td>-0.213494</td>\n",
       "      <td>0.531449</td>\n",
       "      <td>-0.037996</td>\n",
       "      <td>-0.099416</td>\n",
       "      <td>-0.037560</td>\n",
       "      <td>0.366109</td>\n",
       "      <td>-0.489880</td>\n",
       "      <td>0.062596</td>\n",
       "      <td>-0.142101</td>\n",
       "      <td>0.105092</td>\n",
       "      <td>0.058457</td>\n",
       "    </tr>\n",
       "    <tr>\n",
       "      <th>is_child</th>\n",
       "      <td>-0.453666</td>\n",
       "      <td>-0.082366</td>\n",
       "      <td>-0.067529</td>\n",
       "      <td>-0.068210</td>\n",
       "      <td>-0.065397</td>\n",
       "      <td>-0.063460</td>\n",
       "      <td>0.126101</td>\n",
       "      <td>0.059152</td>\n",
       "      <td>1.000000</td>\n",
       "      <td>-0.122751</td>\n",
       "      <td>0.153308</td>\n",
       "      <td>0.001351</td>\n",
       "      <td>-0.036738</td>\n",
       "      <td>0.084113</td>\n",
       "      <td>0.077904</td>\n",
       "      <td>-0.104976</td>\n",
       "      <td>0.018627</td>\n",
       "      <td>0.002381</td>\n",
       "      <td>-0.012407</td>\n",
       "      <td>0.011860</td>\n",
       "    </tr>\n",
       "    <tr>\n",
       "      <th>TotalSpent</th>\n",
       "      <td>0.186249</td>\n",
       "      <td>0.229522</td>\n",
       "      <td>0.745822</td>\n",
       "      <td>0.225656</td>\n",
       "      <td>0.593310</td>\n",
       "      <td>0.588282</td>\n",
       "      <td>-0.196387</td>\n",
       "      <td>-0.213494</td>\n",
       "      <td>-0.122751</td>\n",
       "      <td>1.000000</td>\n",
       "      <td>-0.391983</td>\n",
       "      <td>0.001998</td>\n",
       "      <td>0.160794</td>\n",
       "      <td>-0.382184</td>\n",
       "      <td>-0.289714</td>\n",
       "      <td>0.408798</td>\n",
       "      <td>-0.070279</td>\n",
       "      <td>0.137423</td>\n",
       "      <td>-0.099177</td>\n",
       "      <td>-0.055323</td>\n",
       "    </tr>\n",
       "    <tr>\n",
       "      <th>Deck</th>\n",
       "      <td>-0.248003</td>\n",
       "      <td>-0.026783</td>\n",
       "      <td>-0.324348</td>\n",
       "      <td>-0.032926</td>\n",
       "      <td>-0.229111</td>\n",
       "      <td>-0.257326</td>\n",
       "      <td>-0.116462</td>\n",
       "      <td>0.531449</td>\n",
       "      <td>0.153308</td>\n",
       "      <td>-0.391983</td>\n",
       "      <td>1.000000</td>\n",
       "      <td>-0.034500</td>\n",
       "      <td>-0.183393</td>\n",
       "      <td>0.017823</td>\n",
       "      <td>0.694337</td>\n",
       "      <td>-0.860589</td>\n",
       "      <td>0.049755</td>\n",
       "      <td>-0.259378</td>\n",
       "      <td>0.198642</td>\n",
       "      <td>0.101945</td>\n",
       "    </tr>\n",
       "    <tr>\n",
       "      <th>Side</th>\n",
       "      <td>0.011640</td>\n",
       "      <td>-0.012290</td>\n",
       "      <td>0.020149</td>\n",
       "      <td>-0.020983</td>\n",
       "      <td>0.002031</td>\n",
       "      <td>-0.008154</td>\n",
       "      <td>0.103775</td>\n",
       "      <td>-0.037996</td>\n",
       "      <td>0.001351</td>\n",
       "      <td>0.001998</td>\n",
       "      <td>-0.034500</td>\n",
       "      <td>1.000000</td>\n",
       "      <td>-0.010117</td>\n",
       "      <td>0.019677</td>\n",
       "      <td>-0.018050</td>\n",
       "      <td>0.038398</td>\n",
       "      <td>-0.020682</td>\n",
       "      <td>0.013130</td>\n",
       "      <td>-0.006331</td>\n",
       "      <td>-0.008055</td>\n",
       "    </tr>\n",
       "    <tr>\n",
       "      <th>VIP</th>\n",
       "      <td>0.092592</td>\n",
       "      <td>0.045832</td>\n",
       "      <td>0.129402</td>\n",
       "      <td>0.016453</td>\n",
       "      <td>0.058722</td>\n",
       "      <td>0.126290</td>\n",
       "      <td>-0.035406</td>\n",
       "      <td>-0.099416</td>\n",
       "      <td>-0.036738</td>\n",
       "      <td>0.160794</td>\n",
       "      <td>-0.183393</td>\n",
       "      <td>-0.010117</td>\n",
       "      <td>1.000000</td>\n",
       "      <td>-0.079403</td>\n",
       "      <td>-0.163781</td>\n",
       "      <td>0.146666</td>\n",
       "      <td>0.045495</td>\n",
       "      <td>0.044040</td>\n",
       "      <td>-0.001691</td>\n",
       "      <td>-0.033673</td>\n",
       "    </tr>\n",
       "    <tr>\n",
       "      <th>CryoSleep</th>\n",
       "      <td>-0.073938</td>\n",
       "      <td>-0.258782</td>\n",
       "      <td>-0.209967</td>\n",
       "      <td>-0.211642</td>\n",
       "      <td>-0.203376</td>\n",
       "      <td>-0.198232</td>\n",
       "      <td>0.467484</td>\n",
       "      <td>-0.037560</td>\n",
       "      <td>0.084113</td>\n",
       "      <td>-0.382184</td>\n",
       "      <td>0.017823</td>\n",
       "      <td>0.019677</td>\n",
       "      <td>-0.079403</td>\n",
       "      <td>1.000000</td>\n",
       "      <td>-0.111814</td>\n",
       "      <td>0.096623</td>\n",
       "      <td>0.034326</td>\n",
       "      <td>0.065120</td>\n",
       "      <td>0.092115</td>\n",
       "      <td>-0.105226</td>\n",
       "    </tr>\n",
       "    <tr>\n",
       "      <th>Earth</th>\n",
       "      <td>-0.198902</td>\n",
       "      <td>-0.140647</td>\n",
       "      <td>-0.210271</td>\n",
       "      <td>-0.070569</td>\n",
       "      <td>-0.155163</td>\n",
       "      <td>-0.154437</td>\n",
       "      <td>-0.168415</td>\n",
       "      <td>0.366109</td>\n",
       "      <td>0.077904</td>\n",
       "      <td>-0.289714</td>\n",
       "      <td>0.694337</td>\n",
       "      <td>-0.018050</td>\n",
       "      <td>-0.163781</td>\n",
       "      <td>-0.111814</td>\n",
       "      <td>1.000000</td>\n",
       "      <td>-0.603536</td>\n",
       "      <td>-0.536141</td>\n",
       "      <td>-0.147314</td>\n",
       "      <td>0.231596</td>\n",
       "      <td>-0.016794</td>\n",
       "    </tr>\n",
       "    <tr>\n",
       "      <th>Europa</th>\n",
       "      <td>0.217664</td>\n",
       "      <td>-0.076557</td>\n",
       "      <td>0.369000</td>\n",
       "      <td>-0.018109</td>\n",
       "      <td>0.266356</td>\n",
       "      <td>0.286405</td>\n",
       "      <td>0.176303</td>\n",
       "      <td>-0.489880</td>\n",
       "      <td>-0.104976</td>\n",
       "      <td>0.408798</td>\n",
       "      <td>-0.860589</td>\n",
       "      <td>0.038398</td>\n",
       "      <td>0.146666</td>\n",
       "      <td>0.096623</td>\n",
       "      <td>-0.603536</td>\n",
       "      <td>1.000000</td>\n",
       "      <td>-0.286247</td>\n",
       "      <td>0.289871</td>\n",
       "      <td>-0.163138</td>\n",
       "      <td>-0.146873</td>\n",
       "    </tr>\n",
       "    <tr>\n",
       "      <th>Mars</th>\n",
       "      <td>0.015660</td>\n",
       "      <td>0.258430</td>\n",
       "      <td>-0.125779</td>\n",
       "      <td>0.109675</td>\n",
       "      <td>-0.088285</td>\n",
       "      <td>-0.113899</td>\n",
       "      <td>0.020332</td>\n",
       "      <td>0.062596</td>\n",
       "      <td>0.018627</td>\n",
       "      <td>-0.070279</td>\n",
       "      <td>0.049755</td>\n",
       "      <td>-0.020682</td>\n",
       "      <td>0.045495</td>\n",
       "      <td>0.034326</td>\n",
       "      <td>-0.536141</td>\n",
       "      <td>-0.286247</td>\n",
       "      <td>1.000000</td>\n",
       "      <td>-0.118582</td>\n",
       "      <td>-0.111393</td>\n",
       "      <td>0.169439</td>\n",
       "    </tr>\n",
       "    <tr>\n",
       "      <th>55 Cancri e</th>\n",
       "      <td>0.015220</td>\n",
       "      <td>-0.027479</td>\n",
       "      <td>0.137901</td>\n",
       "      <td>-0.011286</td>\n",
       "      <td>0.076814</td>\n",
       "      <td>0.093072</td>\n",
       "      <td>0.107480</td>\n",
       "      <td>-0.142101</td>\n",
       "      <td>0.002381</td>\n",
       "      <td>0.137423</td>\n",
       "      <td>-0.259378</td>\n",
       "      <td>0.013130</td>\n",
       "      <td>0.044040</td>\n",
       "      <td>0.065120</td>\n",
       "      <td>-0.147314</td>\n",
       "      <td>0.289871</td>\n",
       "      <td>-0.118582</td>\n",
       "      <td>1.000000</td>\n",
       "      <td>-0.161754</td>\n",
       "      <td>-0.745007</td>\n",
       "    </tr>\n",
       "    <tr>\n",
       "      <th>PSO J318.5-22</th>\n",
       "      <td>-0.026270</td>\n",
       "      <td>-0.064868</td>\n",
       "      <td>-0.065637</td>\n",
       "      <td>-0.031084</td>\n",
       "      <td>-0.055340</td>\n",
       "      <td>-0.047447</td>\n",
       "      <td>0.003396</td>\n",
       "      <td>0.105092</td>\n",
       "      <td>-0.012407</td>\n",
       "      <td>-0.099177</td>\n",
       "      <td>0.198642</td>\n",
       "      <td>-0.006331</td>\n",
       "      <td>-0.001691</td>\n",
       "      <td>0.092115</td>\n",
       "      <td>0.231596</td>\n",
       "      <td>-0.163138</td>\n",
       "      <td>-0.111393</td>\n",
       "      <td>-0.161754</td>\n",
       "      <td>1.000000</td>\n",
       "      <td>-0.464402</td>\n",
       "    </tr>\n",
       "    <tr>\n",
       "      <th>TRAPPIST-1e</th>\n",
       "      <td>-0.001608</td>\n",
       "      <td>0.064925</td>\n",
       "      <td>-0.076059</td>\n",
       "      <td>0.030813</td>\n",
       "      <td>-0.034944</td>\n",
       "      <td>-0.048123</td>\n",
       "      <td>-0.096084</td>\n",
       "      <td>0.058457</td>\n",
       "      <td>0.011860</td>\n",
       "      <td>-0.055323</td>\n",
       "      <td>0.101945</td>\n",
       "      <td>-0.008055</td>\n",
       "      <td>-0.033673</td>\n",
       "      <td>-0.105226</td>\n",
       "      <td>-0.016794</td>\n",
       "      <td>-0.146873</td>\n",
       "      <td>0.169439</td>\n",
       "      <td>-0.745007</td>\n",
       "      <td>-0.464402</td>\n",
       "      <td>1.000000</td>\n",
       "    </tr>\n",
       "  </tbody>\n",
       "</table>\n",
       "</div>"
      ],
      "text/plain": [
       "                    Age  RoomService  FoodCourt  ShoppingMall       Spa  \\\n",
       "Age            1.000000     0.070586   0.129999      0.034103  0.122365   \n",
       "RoomService    0.070586     1.000000  -0.018380      0.054638  0.013700   \n",
       "FoodCourt      0.129999    -0.018380   1.000000     -0.013322  0.217284   \n",
       "ShoppingMall   0.034103     0.054638  -0.013322      1.000000  0.016051   \n",
       "Spa            0.122365     0.013700   0.217284      0.016051  1.000000   \n",
       "VRDeck         0.101069    -0.020419   0.224099     -0.007186  0.155826   \n",
       "Transported   -0.077213    -0.248758   0.048559      0.011862 -0.220264   \n",
       "RoomNumber    -0.132255    -0.008986  -0.183429      0.001727 -0.131342   \n",
       "is_child      -0.453666    -0.082366  -0.067529     -0.068210 -0.065397   \n",
       "TotalSpent     0.186249     0.229522   0.745822      0.225656  0.593310   \n",
       "Deck          -0.248003    -0.026783  -0.324348     -0.032926 -0.229111   \n",
       "Side           0.011640    -0.012290   0.020149     -0.020983  0.002031   \n",
       "VIP            0.092592     0.045832   0.129402      0.016453  0.058722   \n",
       "CryoSleep     -0.073938    -0.258782  -0.209967     -0.211642 -0.203376   \n",
       "Earth         -0.198902    -0.140647  -0.210271     -0.070569 -0.155163   \n",
       "Europa         0.217664    -0.076557   0.369000     -0.018109  0.266356   \n",
       "Mars           0.015660     0.258430  -0.125779      0.109675 -0.088285   \n",
       "55 Cancri e    0.015220    -0.027479   0.137901     -0.011286  0.076814   \n",
       "PSO J318.5-22 -0.026270    -0.064868  -0.065637     -0.031084 -0.055340   \n",
       "TRAPPIST-1e   -0.001608     0.064925  -0.076059      0.030813 -0.034944   \n",
       "\n",
       "                 VRDeck  Transported  RoomNumber  is_child  TotalSpent  \\\n",
       "Age            0.101069    -0.077213   -0.132255 -0.453666    0.186249   \n",
       "RoomService   -0.020419    -0.248758   -0.008986 -0.082366    0.229522   \n",
       "FoodCourt      0.224099     0.048559   -0.183429 -0.067529    0.745822   \n",
       "ShoppingMall  -0.007186     0.011862    0.001727 -0.068210    0.225656   \n",
       "Spa            0.155826    -0.220264   -0.131342 -0.065397    0.593310   \n",
       "VRDeck         1.000000    -0.207645   -0.139080 -0.063460    0.588282   \n",
       "Transported   -0.207645     1.000000   -0.045097  0.126101   -0.196387   \n",
       "RoomNumber    -0.139080    -0.045097    1.000000  0.059152   -0.213494   \n",
       "is_child      -0.063460     0.126101    0.059152  1.000000   -0.122751   \n",
       "TotalSpent     0.588282    -0.196387   -0.213494 -0.122751    1.000000   \n",
       "Deck          -0.257326    -0.116462    0.531449  0.153308   -0.391983   \n",
       "Side          -0.008154     0.103775   -0.037996  0.001351    0.001998   \n",
       "VIP            0.126290    -0.035406   -0.099416 -0.036738    0.160794   \n",
       "CryoSleep     -0.198232     0.467484   -0.037560  0.084113   -0.382184   \n",
       "Earth         -0.154437    -0.168415    0.366109  0.077904   -0.289714   \n",
       "Europa         0.286405     0.176303   -0.489880 -0.104976    0.408798   \n",
       "Mars          -0.113899     0.020332    0.062596  0.018627   -0.070279   \n",
       "55 Cancri e    0.093072     0.107480   -0.142101  0.002381    0.137423   \n",
       "PSO J318.5-22 -0.047447     0.003396    0.105092 -0.012407   -0.099177   \n",
       "TRAPPIST-1e   -0.048123    -0.096084    0.058457  0.011860   -0.055323   \n",
       "\n",
       "                   Deck      Side       VIP  CryoSleep     Earth    Europa  \\\n",
       "Age           -0.248003  0.011640  0.092592  -0.073938 -0.198902  0.217664   \n",
       "RoomService   -0.026783 -0.012290  0.045832  -0.258782 -0.140647 -0.076557   \n",
       "FoodCourt     -0.324348  0.020149  0.129402  -0.209967 -0.210271  0.369000   \n",
       "ShoppingMall  -0.032926 -0.020983  0.016453  -0.211642 -0.070569 -0.018109   \n",
       "Spa           -0.229111  0.002031  0.058722  -0.203376 -0.155163  0.266356   \n",
       "VRDeck        -0.257326 -0.008154  0.126290  -0.198232 -0.154437  0.286405   \n",
       "Transported   -0.116462  0.103775 -0.035406   0.467484 -0.168415  0.176303   \n",
       "RoomNumber     0.531449 -0.037996 -0.099416  -0.037560  0.366109 -0.489880   \n",
       "is_child       0.153308  0.001351 -0.036738   0.084113  0.077904 -0.104976   \n",
       "TotalSpent    -0.391983  0.001998  0.160794  -0.382184 -0.289714  0.408798   \n",
       "Deck           1.000000 -0.034500 -0.183393   0.017823  0.694337 -0.860589   \n",
       "Side          -0.034500  1.000000 -0.010117   0.019677 -0.018050  0.038398   \n",
       "VIP           -0.183393 -0.010117  1.000000  -0.079403 -0.163781  0.146666   \n",
       "CryoSleep      0.017823  0.019677 -0.079403   1.000000 -0.111814  0.096623   \n",
       "Earth          0.694337 -0.018050 -0.163781  -0.111814  1.000000 -0.603536   \n",
       "Europa        -0.860589  0.038398  0.146666   0.096623 -0.603536  1.000000   \n",
       "Mars           0.049755 -0.020682  0.045495   0.034326 -0.536141 -0.286247   \n",
       "55 Cancri e   -0.259378  0.013130  0.044040   0.065120 -0.147314  0.289871   \n",
       "PSO J318.5-22  0.198642 -0.006331 -0.001691   0.092115  0.231596 -0.163138   \n",
       "TRAPPIST-1e    0.101945 -0.008055 -0.033673  -0.105226 -0.016794 -0.146873   \n",
       "\n",
       "                   Mars  55 Cancri e  PSO J318.5-22  TRAPPIST-1e  \n",
       "Age            0.015660     0.015220      -0.026270    -0.001608  \n",
       "RoomService    0.258430    -0.027479      -0.064868     0.064925  \n",
       "FoodCourt     -0.125779     0.137901      -0.065637    -0.076059  \n",
       "ShoppingMall   0.109675    -0.011286      -0.031084     0.030813  \n",
       "Spa           -0.088285     0.076814      -0.055340    -0.034944  \n",
       "VRDeck        -0.113899     0.093072      -0.047447    -0.048123  \n",
       "Transported    0.020332     0.107480       0.003396    -0.096084  \n",
       "RoomNumber     0.062596    -0.142101       0.105092     0.058457  \n",
       "is_child       0.018627     0.002381      -0.012407     0.011860  \n",
       "TotalSpent    -0.070279     0.137423      -0.099177    -0.055323  \n",
       "Deck           0.049755    -0.259378       0.198642     0.101945  \n",
       "Side          -0.020682     0.013130      -0.006331    -0.008055  \n",
       "VIP            0.045495     0.044040      -0.001691    -0.033673  \n",
       "CryoSleep      0.034326     0.065120       0.092115    -0.105226  \n",
       "Earth         -0.536141    -0.147314       0.231596    -0.016794  \n",
       "Europa        -0.286247     0.289871      -0.163138    -0.146873  \n",
       "Mars           1.000000    -0.118582      -0.111393     0.169439  \n",
       "55 Cancri e   -0.118582     1.000000      -0.161754    -0.745007  \n",
       "PSO J318.5-22 -0.111393    -0.161754       1.000000    -0.464402  \n",
       "TRAPPIST-1e    0.169439    -0.745007      -0.464402     1.000000  "
      ]
     },
     "metadata": {},
     "output_type": "display_data"
    },
    {
     "data": {
      "image/png": "[encoded data removed]",
      "text/plain": [
       "<Figure size 1440x1440 with 2 Axes>"
      ]
     },
     "metadata": {
      "needs_background": "light"
     },
     "output_type": "display_data"
    },
    {
     "name": "stdout",
     "output_type": "stream",
     "text": [
      "Most corrolated values to Transported\n",
      "CryoSleep      0.467484\n",
      "RoomService    0.248758\n",
      "Spa            0.220264\n",
      "VRDeck         0.207645\n",
      "TotalSpent     0.196387\n",
      "Europa         0.176303\n",
      "Earth          0.168415\n",
      "is_child       0.126101\n",
      "Deck           0.116462\n",
      "55 Cancri e    0.107480\n",
      "Name: Transported, dtype: float64\n"
     ]
    }
   ],
   "source": [
    "correlationMatrix = pd.concat([dataset, encodedDeck, encodedSide, encodedVIP, encodedCryo, encodedHome, encodedDestination], axis=1).corr()\n",
    "display(correlationMatrix)\n",
    "fig, ax = plt.subplots(figsize=(20, 20))\n",
    "sns.heatmap(correlationMatrix.abs(), annot=True, ax=ax)\n",
    "plt.show()\n",
    "print('Most corrolated values to Transported')\n",
    "print(correlationMatrix['Transported'].drop('Transported').abs().sort_values(ascending=False)[0:10])"
   ]
  },
  {
   "cell_type": "markdown",
   "id": "60a27402",
   "metadata": {
    "papermill": {
     "duration": 0.025369,
     "end_time": "2022-06-30T15:20:04.311728",
     "exception": false,
     "start_time": "2022-06-30T15:20:04.286359",
     "status": "completed"
    },
    "tags": []
   },
   "source": [
    "# Model selection"
   ]
  },
  {
   "cell_type": "markdown",
   "id": "38ffd4f4",
   "metadata": {
    "papermill": {
     "duration": 0.031094,
     "end_time": "2022-06-30T15:20:04.373947",
     "exception": false,
     "start_time": "2022-06-30T15:20:04.342853",
     "status": "completed"
    },
    "tags": []
   },
   "source": [
    "## Load test data"
   ]
  },
  {
   "cell_type": "code",
   "execution_count": 28,
   "id": "cc372cbe",
   "metadata": {
    "execution": {
     "iopub.execute_input": "2022-06-30T15:20:04.439559Z",
     "iopub.status.busy": "2022-06-30T15:20:04.439159Z",
     "iopub.status.idle": "2022-06-30T15:20:04.466196Z",
     "shell.execute_reply": "2022-06-30T15:20:04.465181Z"
    },
    "papermill": {
     "duration": 0.058027,
     "end_time": "2022-06-30T15:20:04.468403",
     "exception": false,
     "start_time": "2022-06-30T15:20:04.410376",
     "status": "completed"
    },
    "tags": []
   },
   "outputs": [],
   "source": [
    "test = pd.read_csv('/kaggle/input/spaceship-titanic/test.csv')"
   ]
  },
  {
   "cell_type": "markdown",
   "id": "3c480583",
   "metadata": {
    "papermill": {
     "duration": 0.025406,
     "end_time": "2022-06-30T15:20:04.519614",
     "exception": false,
     "start_time": "2022-06-30T15:20:04.494208",
     "status": "completed"
    },
    "tags": []
   },
   "source": [
    "## Try models"
   ]
  },
  {
   "cell_type": "code",
   "execution_count": 29,
   "id": "6ba60588",
   "metadata": {
    "execution": {
     "iopub.execute_input": "2022-06-30T15:20:04.574710Z",
     "iopub.status.busy": "2022-06-30T15:20:04.574306Z",
     "iopub.status.idle": "2022-06-30T15:20:04.578601Z",
     "shell.execute_reply": "2022-06-30T15:20:04.577727Z"
    },
    "papermill": {
     "duration": 0.03406,
     "end_time": "2022-06-30T15:20:04.580480",
     "exception": false,
     "start_time": "2022-06-30T15:20:04.546420",
     "status": "completed"
    },
    "tags": []
   },
   "outputs": [],
   "source": [
    "models = []"
   ]
  },
  {
   "cell_type": "code",
   "execution_count": 30,
   "id": "3449b58f",
   "metadata": {
    "execution": {
     "iopub.execute_input": "2022-06-30T15:20:04.634827Z",
     "iopub.status.busy": "2022-06-30T15:20:04.634119Z",
     "iopub.status.idle": "2022-06-30T15:20:04.661056Z",
     "shell.execute_reply": "2022-06-30T15:20:04.660246Z"
    },
    "papermill": {
     "duration": 0.056634,
     "end_time": "2022-06-30T15:20:04.663002",
     "exception": false,
     "start_time": "2022-06-30T15:20:04.606368",
     "status": "completed"
    },
    "tags": []
   },
   "outputs": [],
   "source": [
    "#selected_columns = ['PassengerId', 'CryoSleep', 'TotalSpent', 'HomePlanet', 'Cabin', 'Age', 'Destination']\n",
    "selected_columns = ['PassengerId', 'CryoSleep', 'RoomService', 'Spa', 'VRDeck', 'HomePlanet', 'Cabin', 'Age', 'Destination']\n",
    "removed_columns = ['Cabin', 'PassengerId', 'RoomNumber']\n",
    "cat_columns = ['CryoSleep', 'HomePlanet', 'Deck', 'Side', 'Destination', 'Destination', 'group_number']\n",
    "num_columns = ['RoomService', 'Spa', 'VRDeck', 'Age']\n",
    "\n",
    "def feature_engineering(dataset):\n",
    "    df = dataset.copy()\n",
    "    df[['Deck', 'RoomNumber', 'Side']] = df['Cabin'].str.split('/', expand=True)\n",
    "    df['group_number'] = df['PassengerId'].str.split('_', expand=True)[1]\n",
    "    #df[\"is_child\"] = df['Age'] <= 4\n",
    "    df.drop(columns=removed_columns, inplace=True)\n",
    "    return df\n",
    "            \n",
    "\n",
    "def createPipeline(clf):\n",
    "    categorical_transformer = Pipeline(steps=[\n",
    "        ('imputer', SimpleImputer(strategy='most_frequent', fill_value='missing')),\n",
    "        ('onehot', OneHotEncoder(drop='first'))\n",
    "    ])\n",
    "    \n",
    "    numeric_transformer = Pipeline(steps=[\n",
    "        ('imputer', SimpleImputer(strategy='median')),\n",
    "        ('scaler', StandardScaler())\n",
    "    ])\n",
    "\n",
    "    preprocessor = ColumnTransformer([\n",
    "        ('num', numeric_transformer, num_columns),\n",
    "        ('cat', categorical_transformer, cat_columns)\n",
    "    ])\n",
    "\n",
    "    return Pipeline([\n",
    "        ('feature selection', FunctionTransformer(lambda x: x[selected_columns])),\n",
    "        ('feature engineering', FunctionTransformer(feature_engineering)),\n",
    "        ('preprocessor', preprocessor),\n",
    "        ('estimator', clf)\n",
    "    ])\n",
    "\n",
    "labelEnc = LabelEncoder()\n",
    "labelEnc.fit([True, False])\n",
    "X = dataset.drop(columns=['Transported']).dropna()\n",
    "y = labelEnc.transform(dataset.loc[X.index]['Transported'])\n",
    "X_train, X_test, y_train, y_test = train_test_split(X, y, test_size=0.2, random_state=42, stratify=y)"
   ]
  },
  {
   "cell_type": "markdown",
   "id": "2e1bea83",
   "metadata": {
    "papermill": {
     "duration": 0.025457,
     "end_time": "2022-06-30T15:20:04.713901",
     "exception": false,
     "start_time": "2022-06-30T15:20:04.688444",
     "status": "completed"
    },
    "tags": []
   },
   "source": [
    "### Logistic Regression"
   ]
  },
  {
   "cell_type": "code",
   "execution_count": 31,
   "id": "1462ae0e",
   "metadata": {
    "execution": {
     "iopub.execute_input": "2022-06-30T15:20:04.767981Z",
     "iopub.status.busy": "2022-06-30T15:20:04.767327Z",
     "iopub.status.idle": "2022-06-30T15:25:20.102144Z",
     "shell.execute_reply": "2022-06-30T15:25:20.100886Z"
    },
    "papermill": {
     "duration": 315.388719,
     "end_time": "2022-06-30T15:25:20.128651",
     "exception": false,
     "start_time": "2022-06-30T15:20:04.739932",
     "status": "completed"
    },
    "tags": []
   },
   "outputs": [
    {
     "name": "stdout",
     "output_type": "stream",
     "text": [
      "{'estimator__C': 1.0, 'estimator__l1_ratio': 0.5, 'estimator__penalty': 'elasticnet', 'estimator__solver': 'saga', 'preprocessor__num__scaler': StandardScaler()} 0.7878517316017317\n"
     ]
    }
   ],
   "source": [
    "logreg = createPipeline(LogisticRegression(random_state=1337, max_iter=1e4))\n",
    "logreg.fit(X_train, y_train)\n",
    "logreg.score(X_test, y_test)\n",
    "\n",
    "params = [dict(\n",
    "    estimator__penalty = ['l1'],\n",
    "    estimator__C = np.logspace(0, 2, 3),\n",
    "    estimator__solver = ['liblinear', 'saga'],\n",
    "    preprocessor__num__scaler = [StandardScaler(), MinMaxScaler()]\n",
    "), dict(\n",
    "    estimator__penalty = ['l2'],\n",
    "    estimator__C = np.logspace(0, 2, 3),\n",
    "    estimator__solver = ['newton-cg', 'lbfgs'],\n",
    "    preprocessor__num__scaler = [StandardScaler(), MinMaxScaler()]\n",
    "    \n",
    "), dict(\n",
    "    estimator__penalty = ['elasticnet'],\n",
    "    estimator__C = np.logspace(0, 2, 3),\n",
    "    estimator__solver = ['saga'],\n",
    "    estimator__l1_ratio = np.linspace(0,1, 5),\n",
    "    preprocessor__num__scaler = [StandardScaler(), MinMaxScaler()]\n",
    ")]\n",
    "cv = GridSearchCV(logreg, params)\n",
    "cv.fit(X_train, y_train)\n",
    "print(cv.best_params_, cv.best_score_)\n",
    "models.append((cv, cv.best_score_))\n",
    "# {'estimator__C': 1.0, 'estimator__l1_ratio': 0.5, 'estimator__penalty': 'elasticnet', 'estimator__solver': 'saga'} 0.7878508356985179"
   ]
  },
  {
   "cell_type": "markdown",
   "id": "0b333869",
   "metadata": {
    "papermill": {
     "duration": 0.025713,
     "end_time": "2022-06-30T15:25:20.180869",
     "exception": false,
     "start_time": "2022-06-30T15:25:20.155156",
     "status": "completed"
    },
    "tags": []
   },
   "source": [
    "## Random Forest"
   ]
  },
  {
   "cell_type": "code",
   "execution_count": 32,
   "id": "6d89fefe",
   "metadata": {
    "execution": {
     "iopub.execute_input": "2022-06-30T15:25:20.234227Z",
     "iopub.status.busy": "2022-06-30T15:25:20.233871Z",
     "iopub.status.idle": "2022-06-30T15:25:20.896389Z",
     "shell.execute_reply": "2022-06-30T15:25:20.895709Z"
    },
    "papermill": {
     "duration": 0.691603,
     "end_time": "2022-06-30T15:25:20.898264",
     "exception": false,
     "start_time": "2022-06-30T15:25:20.206661",
     "status": "completed"
    },
    "tags": []
   },
   "outputs": [
    {
     "name": "stdout",
     "output_type": "stream",
     "text": [
      "0.7791225416036308\n"
     ]
    },
    {
     "data": {
      "text/plain": [
       "array([1.42853865e-01, 1.62284043e-01, 1.52897503e-01, 2.15452576e-01,\n",
       "       1.03831031e-01, 3.07459004e-02, 1.91713142e-02, 9.57500215e-03,\n",
       "       1.05406209e-02, 5.53664690e-03, 1.39565612e-02, 1.67096577e-02,\n",
       "       1.68409329e-02, 9.69108159e-05, 2.62543855e-02, 5.38800799e-03,\n",
       "       9.52421932e-03, 5.07246495e-03, 8.51129126e-03, 1.71315904e-02,\n",
       "       9.62091783e-03, 7.48856105e-03, 4.60741081e-03, 3.00233405e-03,\n",
       "       1.95624030e-03, 9.50011469e-04])"
      ]
     },
     "execution_count": 32,
     "metadata": {},
     "output_type": "execute_result"
    }
   ],
   "source": [
    "rf = createPipeline(RandomForestClassifier(random_state=42))\n",
    "rf.fit(X_train, y_train)\n",
    "print(rf.score(X_test, y_test))\n",
    "rf['preprocessor'].named_transformers_['cat']['onehot'].get_feature_names_out()\n",
    "rf._final_estimator.feature_importances_"
   ]
  },
  {
   "cell_type": "code",
   "execution_count": 33,
   "id": "e627b073",
   "metadata": {
    "execution": {
     "iopub.execute_input": "2022-06-30T15:25:20.953038Z",
     "iopub.status.busy": "2022-06-30T15:25:20.952132Z",
     "iopub.status.idle": "2022-06-30T15:31:49.966592Z",
     "shell.execute_reply": "2022-06-30T15:31:49.965639Z"
    },
    "papermill": {
     "duration": 389.071106,
     "end_time": "2022-06-30T15:31:49.995338",
     "exception": false,
     "start_time": "2022-06-30T15:25:20.924232",
     "status": "completed"
    },
    "tags": []
   },
   "outputs": [
    {
     "name": "stdout",
     "output_type": "stream",
     "text": [
      "{'estimator__criterion': 'gini', 'estimator__max_features': 'sqrt', 'estimator__min_samples_split': 4, 'estimator__n_estimators': 120, 'preprocessor__num__scaler': StandardScaler()} 0.7922054628594364\n"
     ]
    }
   ],
   "source": [
    "params = dict(\n",
    "    estimator__max_features = ['sqrt', 'log2'],\n",
    "    estimator__n_estimators = np.arange(100, 150, 10),\n",
    "    estimator__min_samples_split = np.arange(2, 5, 1),\n",
    "    estimator__criterion = ['gini', 'entropy'],\n",
    "    preprocessor__num__scaler = [StandardScaler(), MinMaxScaler()]\n",
    ")\n",
    "rfcv = GridSearchCV(rf, params)\n",
    "rfcv.fit(X_train, y_train)\n",
    "print(rfcv.best_params_, rfcv.best_score_)\n",
    "models.append((rfcv, rfcv.best_score_))\n",
    "# {'estimator__criterion': 'gini', 'estimator__max_features': 'sqrt', 'estimator__min_samples_split': 4, 'estimator__n_estimators': 120} 0.7954231888420631"
   ]
  },
  {
   "cell_type": "markdown",
   "id": "8bea523f",
   "metadata": {
    "papermill": {
     "duration": 0.026143,
     "end_time": "2022-06-30T15:31:50.048632",
     "exception": false,
     "start_time": "2022-06-30T15:31:50.022489",
     "status": "completed"
    },
    "tags": []
   },
   "source": [
    "## Gradient boosting"
   ]
  },
  {
   "cell_type": "code",
   "execution_count": 34,
   "id": "fedd01aa",
   "metadata": {
    "execution": {
     "iopub.execute_input": "2022-06-30T15:31:50.103725Z",
     "iopub.status.busy": "2022-06-30T15:31:50.103156Z",
     "iopub.status.idle": "2022-06-30T15:41:49.269740Z",
     "shell.execute_reply": "2022-06-30T15:41:49.268670Z"
    },
    "papermill": {
     "duration": 599.224822,
     "end_time": "2022-06-30T15:41:49.299814",
     "exception": false,
     "start_time": "2022-06-30T15:31:50.074992",
     "status": "completed"
    },
    "tags": []
   },
   "outputs": [
    {
     "name": "stdout",
     "output_type": "stream",
     "text": [
      "{'estimator__learning_rate': 0.1, 'estimator__loss': 'exponential', 'estimator__max_depth': 3, 'estimator__n_estimators': 130, 'preprocessor__num__scaler': StandardScaler()} 0.8028036395172157\n"
     ]
    }
   ],
   "source": [
    "gb = createPipeline(GradientBoostingClassifier(random_state=42))\n",
    "gb.fit(X_train, y_train)\n",
    "gb.score(X_test, y_test)\n",
    "\n",
    "params = dict(\n",
    "    estimator__learning_rate = np.logspace(-3, -1, 3),\n",
    "    estimator__n_estimators = np.arange(100, 150, 10),\n",
    "    estimator__max_depth = np.arange(1, 7, 2),\n",
    "    estimator__loss = ['deviance', 'exponential'],\n",
    "    preprocessor__num__scaler = [StandardScaler(), MinMaxScaler()]\n",
    ")\n",
    "gbcv = GridSearchCV(gb, params)\n",
    "gbcv.fit(X_train, y_train)\n",
    "print(gbcv.best_params_, gbcv.best_score_)\n",
    "models.append((gbcv, gbcv.best_score_))\n",
    "\n",
    "# {'estimator__learning_rate': 0.1, 'estimator__loss': 'deviance', 'estimator__max_depth': 3, 'estimator__n_estimators': 100} 0.799020061064763"
   ]
  },
  {
   "cell_type": "code",
   "execution_count": 35,
   "id": "fadd8b2c",
   "metadata": {
    "execution": {
     "iopub.execute_input": "2022-06-30T15:41:49.357720Z",
     "iopub.status.busy": "2022-06-30T15:41:49.356781Z",
     "iopub.status.idle": "2022-06-30T15:42:08.014086Z",
     "shell.execute_reply": "2022-06-30T15:42:08.012929Z"
    },
    "papermill": {
     "duration": 18.688691,
     "end_time": "2022-06-30T15:42:08.016967",
     "exception": false,
     "start_time": "2022-06-30T15:41:49.328276",
     "status": "completed"
    },
    "tags": []
   },
   "outputs": [
    {
     "name": "stdout",
     "output_type": "stream",
     "text": [
      "{'estimator__colsample_bytree': 0.66, 'estimator__gamma': 0.45, 'estimator__grow_policy': 'depthwise', 'estimator__learning_rate': 0.023999999999999997, 'estimator__max_depth': 4, 'estimator__min_child_weight': 0.39999999999999997, 'estimator__n_estimators': 680, 'estimator__subsample': 0.5} 0.8046963246466557\n"
     ]
    }
   ],
   "source": [
    "xg = createPipeline(XGBClassifier(tree_method='hist', objective='binary:logistic', use_label_encoder=False, enable_categorical=True, max_leaves=0))\n",
    "xg.fit(X_train, y_train)\n",
    "\n",
    "params = dict(\n",
    "    estimator__learning_rate = [0.023999999999999997], #np.arange(0.0235, 0.0242, 0.0001)\n",
    "    estimator__n_estimators = [680], #np.arange(679, 681, 1), \n",
    "    estimator__max_depth = [4], #np.arange(4, 10, 2),\n",
    "    estimator__grow_policy = ['depthwise'],\n",
    "    estimator__colsample_bytree = [0.66], #np.arange(0.66, 0.67, 0.001),\n",
    "    estimator__gamma = [0.45], #np.arange(0.40, 0.5, 0.01),\n",
    "    estimator__min_child_weight = [0.39999999999999997], #np.arange(0.3, 0.5, 0.05),#[0.2781624502349287],\n",
    "    estimator__subsample = [0.5], #np.arange(0.4, 0.6, 0.05),#[0.9717120953891037], \n",
    ")\n",
    "#params = {'colsample_bytree': 0.6659223566174967,\n",
    "#          'gamma': 0.29564889385386356,\n",
    "#          'learning_rate': 0.027472179299006416,\n",
    "#          'max_depth': 4,\n",
    "#          'min_child_weight': 0.2781624502349287,\n",
    "#          'n_estimators': 712,\n",
    "#          'subsample': 0.9717120953891037}\n",
    "xgcv = GridSearchCV(xg, params)\n",
    "xgcv.fit(X_train, y_train)\n",
    "print(xgcv.best_params_, xgcv.best_score_)\n",
    "models.append((xgcv, xgcv.best_score_))\n",
    "# {'estimator__colsample_bytree': 0.6659223566174967, 'estimator__gamma': 0.29564889385386356, 'estimator__grow_policy': 'depthwise', 'estimator__learning_rate': 0.027472179299006416, 'estimator__max_depth': 4, 'estimator__min_child_weight': 0.2781624502349287, 'estimator__n_estimators': 712, 'estimator__subsample': 0.9717120953891037, 'preprocessor__num__scaler': StandardScaler()} 0.8007217396290244"
   ]
  },
  {
   "cell_type": "markdown",
   "id": "2480bd73",
   "metadata": {
    "papermill": {
     "duration": 0.02579,
     "end_time": "2022-06-30T15:42:08.069809",
     "exception": false,
     "start_time": "2022-06-30T15:42:08.044019",
     "status": "completed"
    },
    "tags": []
   },
   "source": [
    "## SVM"
   ]
  },
  {
   "cell_type": "code",
   "execution_count": 36,
   "id": "77fdb341",
   "metadata": {
    "execution": {
     "iopub.execute_input": "2022-06-30T15:42:08.125717Z",
     "iopub.status.busy": "2022-06-30T15:42:08.124849Z",
     "iopub.status.idle": "2022-06-30T15:45:25.116237Z",
     "shell.execute_reply": "2022-06-30T15:45:25.115241Z"
    },
    "papermill": {
     "duration": 197.047509,
     "end_time": "2022-06-30T15:45:25.144327",
     "exception": false,
     "start_time": "2022-06-30T15:42:08.096818",
     "status": "completed"
    },
    "tags": []
   },
   "outputs": [
    {
     "name": "stdout",
     "output_type": "stream",
     "text": [
      "{'estimator__C': 1.0, 'estimator__kernel': 'rbf', 'preprocessor__num__scaler': StandardScaler()} 0.7956134786846707\n"
     ]
    }
   ],
   "source": [
    "from sklearn.svm import SVC\n",
    "svm = createPipeline(SVC(random_state=42))\n",
    "svm.fit(X_train, y_train)\n",
    "\n",
    "params = dict(\n",
    "    estimator__C = np.logspace(0, 2, 3),\n",
    "    estimator__kernel = ['linear', 'poly', 'rbf', 'sigmoid'],\n",
    "    preprocessor__num__scaler = [StandardScaler(), MinMaxScaler()]\n",
    ")\n",
    "svmcv = GridSearchCV(svm, params)\n",
    "svmcv.fit(X_train, y_train)\n",
    "print(svmcv.best_params_, svmcv.best_score_)\n",
    "models.append((svmcv, svmcv.best_score_))\n",
    "\n",
    "# {'estimator__C': 1.0, 'estimator__kernel': 'rbf'} 0.8016670967002092"
   ]
  },
  {
   "cell_type": "markdown",
   "id": "626c63c2",
   "metadata": {
    "papermill": {
     "duration": 0.026045,
     "end_time": "2022-06-30T15:45:25.196642",
     "exception": false,
     "start_time": "2022-06-30T15:45:25.170597",
     "status": "completed"
    },
    "tags": []
   },
   "source": [
    "## SGD"
   ]
  },
  {
   "cell_type": "code",
   "execution_count": 37,
   "id": "4d7e9767",
   "metadata": {
    "execution": {
     "iopub.execute_input": "2022-06-30T15:45:25.252403Z",
     "iopub.status.busy": "2022-06-30T15:45:25.251991Z",
     "iopub.status.idle": "2022-06-30T15:45:52.838228Z",
     "shell.execute_reply": "2022-06-30T15:45:52.837484Z"
    },
    "papermill": {
     "duration": 27.615994,
     "end_time": "2022-06-30T15:45:52.839979",
     "exception": false,
     "start_time": "2022-06-30T15:45:25.223985",
     "status": "completed"
    },
    "tags": []
   },
   "outputs": [
    {
     "name": "stdout",
     "output_type": "stream",
     "text": [
      "0.7632375189107413\n",
      "{'estimator__alpha': 0.0001, 'estimator__penalty': 'l1', 'preprocessor__num__scaler': MinMaxScaler()} 0.7874745563487286\n"
     ]
    }
   ],
   "source": [
    "from sklearn.linear_model import SGDClassifier\n",
    "sgd = createPipeline(SGDClassifier(random_state=42))\n",
    "sgd.fit(X_train, y_train)\n",
    "print(sgd.score(X_test, y_test))\n",
    "\n",
    "params = [dict(\n",
    "    estimator__penalty = ['l1'],\n",
    "    estimator__alpha = np.logspace(-5, -3, 3),\n",
    "    preprocessor__num__scaler = [StandardScaler(), MinMaxScaler()]\n",
    "), dict(\n",
    "    estimator__penalty = ['l2'],\n",
    "    preprocessor__num__scaler = [StandardScaler(), MinMaxScaler()]\n",
    "    \n",
    "), dict(\n",
    "    estimator__penalty = ['elasticnet'],\n",
    "    estimator__alpha = np.logspace(-5, -3, 3),\n",
    "    estimator__l1_ratio = np.arange(0.1, 0.9, 0.2),\n",
    "    preprocessor__num__scaler = [StandardScaler(), MinMaxScaler()]\n",
    ")]\n",
    "sgdcv = GridSearchCV(sgd, params)\n",
    "sgdcv.fit(X_train, y_train)\n",
    "print(sgdcv.best_params_, sgdcv.best_score_)\n",
    "models.append((sgdcv, sgdcv.best_score_))\n",
    "\n",
    "# {'estimator__alpha': 0.0001, 'estimator__l1_ratio': 0.1, 'estimator__penalty': 'elasticnet'} 0.7901239213325306"
   ]
  },
  {
   "cell_type": "markdown",
   "id": "95408a8e",
   "metadata": {
    "papermill": {
     "duration": 0.025741,
     "end_time": "2022-06-30T15:45:52.891962",
     "exception": false,
     "start_time": "2022-06-30T15:45:52.866221",
     "status": "completed"
    },
    "tags": []
   },
   "source": [
    "## KNN"
   ]
  },
  {
   "cell_type": "code",
   "execution_count": 38,
   "id": "3db62165",
   "metadata": {
    "execution": {
     "iopub.execute_input": "2022-06-30T15:45:52.947118Z",
     "iopub.status.busy": "2022-06-30T15:45:52.946176Z",
     "iopub.status.idle": "2022-06-30T15:46:02.636534Z",
     "shell.execute_reply": "2022-06-30T15:46:02.635826Z"
    },
    "papermill": {
     "duration": 9.720094,
     "end_time": "2022-06-30T15:46:02.638592",
     "exception": false,
     "start_time": "2022-06-30T15:45:52.918498",
     "status": "completed"
    },
    "tags": []
   },
   "outputs": [
    {
     "name": "stdout",
     "output_type": "stream",
     "text": [
      "0.7632375189107413\n",
      "{'estimator__n_neighbors': 5, 'preprocessor__num__scaler': StandardScaler()} 0.7749824402970098\n"
     ]
    }
   ],
   "source": [
    "from sklearn.neighbors import KNeighborsClassifier\n",
    "knn = createPipeline(KNeighborsClassifier())\n",
    "knn.fit(X_train, y_train)\n",
    "print(knn.score(X_test, y_test))\n",
    "\n",
    "params = dict(\n",
    "    estimator__n_neighbors = np.linspace(3, 9, 4, dtype='int32'),\n",
    "    preprocessor__num__scaler = [StandardScaler(), MinMaxScaler()]\n",
    ")\n",
    "knncv = GridSearchCV(knn, params)\n",
    "knncv.fit(X_train, y_train)\n",
    "print(knncv.best_params_, knncv.best_score_)\n",
    "models.append((knncv, knncv.best_score_))\n",
    "# {'estimator__n_neighbors': 7} 0.7810410753705456"
   ]
  },
  {
   "cell_type": "markdown",
   "id": "a5cb5169",
   "metadata": {
    "papermill": {
     "duration": 0.025821,
     "end_time": "2022-06-30T15:46:02.690819",
     "exception": false,
     "start_time": "2022-06-30T15:46:02.664998",
     "status": "completed"
    },
    "tags": []
   },
   "source": [
    "## Naives Bayes"
   ]
  },
  {
   "cell_type": "code",
   "execution_count": 39,
   "id": "04949e99",
   "metadata": {
    "execution": {
     "iopub.execute_input": "2022-06-30T15:46:02.744956Z",
     "iopub.status.busy": "2022-06-30T15:46:02.744321Z",
     "iopub.status.idle": "2022-06-30T15:46:04.975867Z",
     "shell.execute_reply": "2022-06-30T15:46:04.974846Z"
    },
    "papermill": {
     "duration": 2.260868,
     "end_time": "2022-06-30T15:46:04.977929",
     "exception": false,
     "start_time": "2022-06-30T15:46:02.717061",
     "status": "completed"
    },
    "tags": []
   },
   "outputs": [
    {
     "name": "stdout",
     "output_type": "stream",
     "text": [
      "0.716338880484115\n",
      "{'estimator__var_smoothing': 1e-08, 'preprocessor__num__scaler': StandardScaler()} 0.7032553539176056\n"
     ]
    }
   ],
   "source": [
    "from sklearn.naive_bayes import GaussianNB\n",
    "gnb = createPipeline(GaussianNB())\n",
    "gnb.fit(X_train, y_train)\n",
    "print(gnb.score(X_test, y_test))\n",
    "\n",
    "params = dict(\n",
    "    estimator__var_smoothing = np.logspace(-8, -10, 3),\n",
    "    preprocessor__num__scaler = [StandardScaler(), MinMaxScaler()]\n",
    ")\n",
    "gnb = GridSearchCV(gnb, params)\n",
    "gnb.fit(X_train, y_train)\n",
    "print(gnb.best_params_, gnb.best_score_)\n",
    "models.append((gnb, gnb.best_score_))\n",
    "# {'estimator__var_smoothing': 1e-08} 0.7132885740087727"
   ]
  },
  {
   "cell_type": "markdown",
   "id": "995f4000",
   "metadata": {
    "papermill": {
     "duration": 0.027462,
     "end_time": "2022-06-30T15:46:05.032678",
     "exception": false,
     "start_time": "2022-06-30T15:46:05.005216",
     "status": "completed"
    },
    "tags": []
   },
   "source": [
    "## Analyse false prediction"
   ]
  },
  {
   "cell_type": "code",
   "execution_count": 40,
   "id": "945a408b",
   "metadata": {
    "execution": {
     "iopub.execute_input": "2022-06-30T15:46:05.087962Z",
     "iopub.status.busy": "2022-06-30T15:46:05.087346Z",
     "iopub.status.idle": "2022-06-30T15:46:06.499742Z",
     "shell.execute_reply": "2022-06-30T15:46:06.498889Z"
    },
    "papermill": {
     "duration": 1.442905,
     "end_time": "2022-06-30T15:46:06.502337",
     "exception": false,
     "start_time": "2022-06-30T15:46:05.059432",
     "status": "completed"
    },
    "tags": []
   },
   "outputs": [
    {
     "data": {
      "text/html": [
       "<div>\n",
       "<style scoped>\n",
       "    .dataframe tbody tr th:only-of-type {\n",
       "        vertical-align: middle;\n",
       "    }\n",
       "\n",
       "    .dataframe tbody tr th {\n",
       "        vertical-align: top;\n",
       "    }\n",
       "\n",
       "    .dataframe thead th {\n",
       "        text-align: right;\n",
       "    }\n",
       "</style>\n",
       "<table border=\"1\" class=\"dataframe\">\n",
       "  <thead>\n",
       "    <tr style=\"text-align: right;\">\n",
       "      <th></th>\n",
       "      <th>PassengerId</th>\n",
       "      <th>HomePlanet</th>\n",
       "      <th>CryoSleep</th>\n",
       "      <th>Cabin</th>\n",
       "      <th>Destination</th>\n",
       "      <th>Age</th>\n",
       "      <th>VIP</th>\n",
       "      <th>RoomService</th>\n",
       "      <th>FoodCourt</th>\n",
       "      <th>ShoppingMall</th>\n",
       "      <th>Spa</th>\n",
       "      <th>VRDeck</th>\n",
       "      <th>Name</th>\n",
       "      <th>Transported</th>\n",
       "      <th>Deck</th>\n",
       "      <th>RoomNumber</th>\n",
       "      <th>Side</th>\n",
       "      <th>is_child</th>\n",
       "      <th>TotalSpent</th>\n",
       "    </tr>\n",
       "  </thead>\n",
       "  <tbody>\n",
       "    <tr>\n",
       "      <th>0</th>\n",
       "      <td>0001_01</td>\n",
       "      <td>Europa</td>\n",
       "      <td>False</td>\n",
       "      <td>B/0/P</td>\n",
       "      <td>TRAPPIST-1e</td>\n",
       "      <td>39.0</td>\n",
       "      <td>False</td>\n",
       "      <td>0.0</td>\n",
       "      <td>0.0</td>\n",
       "      <td>0.0</td>\n",
       "      <td>0.0</td>\n",
       "      <td>0.0</td>\n",
       "      <td>Maham Ofracculy</td>\n",
       "      <td>False</td>\n",
       "      <td>B</td>\n",
       "      <td>0</td>\n",
       "      <td>P</td>\n",
       "      <td>False</td>\n",
       "      <td>0.0</td>\n",
       "    </tr>\n",
       "    <tr>\n",
       "      <th>1</th>\n",
       "      <td>0002_01</td>\n",
       "      <td>Earth</td>\n",
       "      <td>False</td>\n",
       "      <td>F/0/S</td>\n",
       "      <td>TRAPPIST-1e</td>\n",
       "      <td>24.0</td>\n",
       "      <td>False</td>\n",
       "      <td>109.0</td>\n",
       "      <td>9.0</td>\n",
       "      <td>25.0</td>\n",
       "      <td>549.0</td>\n",
       "      <td>44.0</td>\n",
       "      <td>Juanna Vines</td>\n",
       "      <td>True</td>\n",
       "      <td>F</td>\n",
       "      <td>0</td>\n",
       "      <td>S</td>\n",
       "      <td>False</td>\n",
       "      <td>736.0</td>\n",
       "    </tr>\n",
       "    <tr>\n",
       "      <th>4</th>\n",
       "      <td>0004_01</td>\n",
       "      <td>Earth</td>\n",
       "      <td>False</td>\n",
       "      <td>F/1/S</td>\n",
       "      <td>TRAPPIST-1e</td>\n",
       "      <td>16.0</td>\n",
       "      <td>False</td>\n",
       "      <td>303.0</td>\n",
       "      <td>70.0</td>\n",
       "      <td>151.0</td>\n",
       "      <td>565.0</td>\n",
       "      <td>2.0</td>\n",
       "      <td>Willy Santantines</td>\n",
       "      <td>True</td>\n",
       "      <td>F</td>\n",
       "      <td>1</td>\n",
       "      <td>S</td>\n",
       "      <td>False</td>\n",
       "      <td>1091.0</td>\n",
       "    </tr>\n",
       "    <tr>\n",
       "      <th>5</th>\n",
       "      <td>0005_01</td>\n",
       "      <td>Earth</td>\n",
       "      <td>False</td>\n",
       "      <td>F/0/P</td>\n",
       "      <td>PSO J318.5-22</td>\n",
       "      <td>44.0</td>\n",
       "      <td>False</td>\n",
       "      <td>0.0</td>\n",
       "      <td>483.0</td>\n",
       "      <td>0.0</td>\n",
       "      <td>291.0</td>\n",
       "      <td>0.0</td>\n",
       "      <td>Sandie Hinetthews</td>\n",
       "      <td>True</td>\n",
       "      <td>F</td>\n",
       "      <td>0</td>\n",
       "      <td>P</td>\n",
       "      <td>False</td>\n",
       "      <td>774.0</td>\n",
       "    </tr>\n",
       "    <tr>\n",
       "      <th>21</th>\n",
       "      <td>0020_01</td>\n",
       "      <td>Earth</td>\n",
       "      <td>True</td>\n",
       "      <td>E/0/S</td>\n",
       "      <td>TRAPPIST-1e</td>\n",
       "      <td>1.0</td>\n",
       "      <td>False</td>\n",
       "      <td>0.0</td>\n",
       "      <td>0.0</td>\n",
       "      <td>0.0</td>\n",
       "      <td>0.0</td>\n",
       "      <td>0.0</td>\n",
       "      <td>Almary Brantuarez</td>\n",
       "      <td>False</td>\n",
       "      <td>E</td>\n",
       "      <td>0</td>\n",
       "      <td>S</td>\n",
       "      <td>True</td>\n",
       "      <td>0.0</td>\n",
       "    </tr>\n",
       "    <tr>\n",
       "      <th>...</th>\n",
       "      <td>...</td>\n",
       "      <td>...</td>\n",
       "      <td>...</td>\n",
       "      <td>...</td>\n",
       "      <td>...</td>\n",
       "      <td>...</td>\n",
       "      <td>...</td>\n",
       "      <td>...</td>\n",
       "      <td>...</td>\n",
       "      <td>...</td>\n",
       "      <td>...</td>\n",
       "      <td>...</td>\n",
       "      <td>...</td>\n",
       "      <td>...</td>\n",
       "      <td>...</td>\n",
       "      <td>...</td>\n",
       "      <td>...</td>\n",
       "      <td>...</td>\n",
       "      <td>...</td>\n",
       "    </tr>\n",
       "    <tr>\n",
       "      <th>8672</th>\n",
       "      <td>9254_01</td>\n",
       "      <td>Earth</td>\n",
       "      <td>True</td>\n",
       "      <td>G/1502/P</td>\n",
       "      <td>PSO J318.5-22</td>\n",
       "      <td>61.0</td>\n",
       "      <td>False</td>\n",
       "      <td>0.0</td>\n",
       "      <td>0.0</td>\n",
       "      <td>0.0</td>\n",
       "      <td>0.0</td>\n",
       "      <td>0.0</td>\n",
       "      <td>Kenny Mallerez</td>\n",
       "      <td>False</td>\n",
       "      <td>G</td>\n",
       "      <td>1502</td>\n",
       "      <td>P</td>\n",
       "      <td>False</td>\n",
       "      <td>0.0</td>\n",
       "    </tr>\n",
       "    <tr>\n",
       "      <th>8676</th>\n",
       "      <td>9261_01</td>\n",
       "      <td>Earth</td>\n",
       "      <td>True</td>\n",
       "      <td>G/1504/P</td>\n",
       "      <td>PSO J318.5-22</td>\n",
       "      <td>22.0</td>\n",
       "      <td>False</td>\n",
       "      <td>0.0</td>\n",
       "      <td>0.0</td>\n",
       "      <td>0.0</td>\n",
       "      <td>0.0</td>\n",
       "      <td>0.0</td>\n",
       "      <td>Therta Casentry</td>\n",
       "      <td>False</td>\n",
       "      <td>G</td>\n",
       "      <td>1504</td>\n",
       "      <td>P</td>\n",
       "      <td>False</td>\n",
       "      <td>0.0</td>\n",
       "    </tr>\n",
       "    <tr>\n",
       "      <th>8682</th>\n",
       "      <td>9272_01</td>\n",
       "      <td>Earth</td>\n",
       "      <td>False</td>\n",
       "      <td>G/1507/P</td>\n",
       "      <td>TRAPPIST-1e</td>\n",
       "      <td>26.0</td>\n",
       "      <td>False</td>\n",
       "      <td>240.0</td>\n",
       "      <td>242.0</td>\n",
       "      <td>510.0</td>\n",
       "      <td>0.0</td>\n",
       "      <td>0.0</td>\n",
       "      <td>Ireene Simson</td>\n",
       "      <td>True</td>\n",
       "      <td>G</td>\n",
       "      <td>1507</td>\n",
       "      <td>P</td>\n",
       "      <td>False</td>\n",
       "      <td>992.0</td>\n",
       "    </tr>\n",
       "    <tr>\n",
       "      <th>8686</th>\n",
       "      <td>9275_02</td>\n",
       "      <td>Europa</td>\n",
       "      <td>False</td>\n",
       "      <td>A/97/P</td>\n",
       "      <td>TRAPPIST-1e</td>\n",
       "      <td>32.0</td>\n",
       "      <td>False</td>\n",
       "      <td>1.0</td>\n",
       "      <td>1146.0</td>\n",
       "      <td>0.0</td>\n",
       "      <td>50.0</td>\n",
       "      <td>34.0</td>\n",
       "      <td>Diram Conable</td>\n",
       "      <td>False</td>\n",
       "      <td>A</td>\n",
       "      <td>97</td>\n",
       "      <td>P</td>\n",
       "      <td>False</td>\n",
       "      <td>1231.0</td>\n",
       "    </tr>\n",
       "    <tr>\n",
       "      <th>8689</th>\n",
       "      <td>9278_01</td>\n",
       "      <td>Earth</td>\n",
       "      <td>True</td>\n",
       "      <td>G/1499/S</td>\n",
       "      <td>PSO J318.5-22</td>\n",
       "      <td>18.0</td>\n",
       "      <td>False</td>\n",
       "      <td>0.0</td>\n",
       "      <td>0.0</td>\n",
       "      <td>0.0</td>\n",
       "      <td>0.0</td>\n",
       "      <td>0.0</td>\n",
       "      <td>Kurta Mondalley</td>\n",
       "      <td>False</td>\n",
       "      <td>G</td>\n",
       "      <td>1499</td>\n",
       "      <td>S</td>\n",
       "      <td>False</td>\n",
       "      <td>0.0</td>\n",
       "    </tr>\n",
       "  </tbody>\n",
       "</table>\n",
       "<p>1271 rows × 19 columns</p>\n",
       "</div>"
      ],
      "text/plain": [
       "     PassengerId HomePlanet CryoSleep     Cabin    Destination   Age    VIP  \\\n",
       "0        0001_01     Europa     False     B/0/P    TRAPPIST-1e  39.0  False   \n",
       "1        0002_01      Earth     False     F/0/S    TRAPPIST-1e  24.0  False   \n",
       "4        0004_01      Earth     False     F/1/S    TRAPPIST-1e  16.0  False   \n",
       "5        0005_01      Earth     False     F/0/P  PSO J318.5-22  44.0  False   \n",
       "21       0020_01      Earth      True     E/0/S    TRAPPIST-1e   1.0  False   \n",
       "...          ...        ...       ...       ...            ...   ...    ...   \n",
       "8672     9254_01      Earth      True  G/1502/P  PSO J318.5-22  61.0  False   \n",
       "8676     9261_01      Earth      True  G/1504/P  PSO J318.5-22  22.0  False   \n",
       "8682     9272_01      Earth     False  G/1507/P    TRAPPIST-1e  26.0  False   \n",
       "8686     9275_02     Europa     False    A/97/P    TRAPPIST-1e  32.0  False   \n",
       "8689     9278_01      Earth      True  G/1499/S  PSO J318.5-22  18.0  False   \n",
       "\n",
       "      RoomService  FoodCourt  ShoppingMall    Spa  VRDeck               Name  \\\n",
       "0             0.0        0.0           0.0    0.0     0.0    Maham Ofracculy   \n",
       "1           109.0        9.0          25.0  549.0    44.0       Juanna Vines   \n",
       "4           303.0       70.0         151.0  565.0     2.0  Willy Santantines   \n",
       "5             0.0      483.0           0.0  291.0     0.0  Sandie Hinetthews   \n",
       "21            0.0        0.0           0.0    0.0     0.0  Almary Brantuarez   \n",
       "...           ...        ...           ...    ...     ...                ...   \n",
       "8672          0.0        0.0           0.0    0.0     0.0     Kenny Mallerez   \n",
       "8676          0.0        0.0           0.0    0.0     0.0    Therta Casentry   \n",
       "8682        240.0      242.0         510.0    0.0     0.0      Ireene Simson   \n",
       "8686          1.0     1146.0           0.0   50.0    34.0      Diram Conable   \n",
       "8689          0.0        0.0           0.0    0.0     0.0    Kurta Mondalley   \n",
       "\n",
       "      Transported Deck  RoomNumber Side  is_child  TotalSpent  \n",
       "0           False    B           0    P     False         0.0  \n",
       "1            True    F           0    S     False       736.0  \n",
       "4            True    F           1    S     False      1091.0  \n",
       "5            True    F           0    P     False       774.0  \n",
       "21          False    E           0    S      True         0.0  \n",
       "...           ...  ...         ...  ...       ...         ...  \n",
       "8672        False    G        1502    P     False         0.0  \n",
       "8676        False    G        1504    P     False         0.0  \n",
       "8682         True    G        1507    P     False       992.0  \n",
       "8686        False    A          97    P     False      1231.0  \n",
       "8689        False    G        1499    S     False         0.0  \n",
       "\n",
       "[1271 rows x 19 columns]"
      ]
     },
     "execution_count": 40,
     "metadata": {},
     "output_type": "execute_result"
    }
   ],
   "source": [
    "pred = svmcv.predict(X)\n",
    "df = dataset.loc[X.index]\n",
    "wrong_pred = df[df['Transported'] != pred]\n",
    "wrong_pred"
   ]
  },
  {
   "cell_type": "code",
   "execution_count": 41,
   "id": "7f2b3db7",
   "metadata": {
    "execution": {
     "iopub.execute_input": "2022-06-30T15:46:06.558063Z",
     "iopub.status.busy": "2022-06-30T15:46:06.557234Z",
     "iopub.status.idle": "2022-06-30T15:46:06.865559Z",
     "shell.execute_reply": "2022-06-30T15:46:06.864546Z"
    },
    "papermill": {
     "duration": 0.338384,
     "end_time": "2022-06-30T15:46:06.867581",
     "exception": false,
     "start_time": "2022-06-30T15:46:06.529197",
     "status": "completed"
    },
    "tags": []
   },
   "outputs": [
    {
     "data": {
      "image/png": "[encoded data removed]",
      "text/plain": [
       "<Figure size 432x288 with 2 Axes>"
      ]
     },
     "metadata": {
      "needs_background": "light"
     },
     "output_type": "display_data"
    }
   ],
   "source": [
    "fig, (ax1, ax2) = plt.subplots(1,2, sharey=True)\n",
    "fig.suptitle('Number in group')\n",
    "for id, d in enumerate([wrong_pred, dataset]):\n",
    "    id_num = d['PassengerId'].str.split('_', expand=True)[1]\n",
    "    id_num.astype('int32').plot.hist(ax=ax1 if id == 0 else ax2, title='wrong' if id == 0 else 'total')\n",
    "    \n",
    "plt.show()"
   ]
  },
  {
   "cell_type": "code",
   "execution_count": 42,
   "id": "c57df76d",
   "metadata": {
    "execution": {
     "iopub.execute_input": "2022-06-30T15:46:06.925633Z",
     "iopub.status.busy": "2022-06-30T15:46:06.924724Z",
     "iopub.status.idle": "2022-06-30T15:46:08.426963Z",
     "shell.execute_reply": "2022-06-30T15:46:08.426068Z"
    },
    "papermill": {
     "duration": 1.533631,
     "end_time": "2022-06-30T15:46:08.429232",
     "exception": false,
     "start_time": "2022-06-30T15:46:06.895601",
     "status": "completed"
    },
    "tags": []
   },
   "outputs": [
    {
     "data": {
      "image/png": "[encoded data removed]",
      "text/plain": [
       "<Figure size 720x432 with 2 Axes>"
      ]
     },
     "metadata": {
      "needs_background": "light"
     },
     "output_type": "display_data"
    },
    {
     "name": "stdout",
     "output_type": "stream",
     "text": [
      "False in wrong: 0.6750590086546027\n",
      "False in dataset: 0.6276194961149046\n",
      "True in wrong: 0.32494099134539733\n",
      "True in dataset: 0.34765716976689426\n"
     ]
    },
    {
     "data": {
      "image/png": "[encoded data removed]",
      "text/plain": [
       "<Figure size 720x432 with 2 Axes>"
      ]
     },
     "metadata": {
      "needs_background": "light"
     },
     "output_type": "display_data"
    },
    {
     "name": "stdout",
     "output_type": "stream",
     "text": [
      "Earth in wrong: 0.7741935483870968\n",
      "Earth in dataset: 0.5306098422415823\n",
      "Mars in wrong: 0.12037765538945712\n",
      "Mars in dataset: 0.20273133976924887\n",
      "Europa in wrong: 0.1054287962234461\n",
      "Europa in dataset: 0.2437014363079821\n"
     ]
    },
    {
     "data": {
      "image/png": "[encoded data removed]",
      "text/plain": [
       "<Figure size 720x432 with 2 Axes>"
      ]
     },
     "metadata": {
      "needs_background": "light"
     },
     "output_type": "display_data"
    },
    {
     "name": "stdout",
     "output_type": "stream",
     "text": [
      "False in wrong: 0.932336742722266\n",
      "False in dataset: 0.9461973157522957\n",
      "True in wrong: 0.06766325727773406\n",
      "True in dataset: 0.05380268424770426\n"
     ]
    },
    {
     "data": {
      "image/png": "[encoded data removed]",
      "text/plain": [
       "<Figure size 720x432 with 2 Axes>"
      ]
     },
     "metadata": {
      "needs_background": "light"
     },
     "output_type": "display_data"
    },
    {
     "name": "stdout",
     "output_type": "stream",
     "text": [
      "G in wrong: 0.4925255704169945\n",
      "G in dataset: 0.30127148575465035\n",
      "F in wrong: 0.2753737214791503\n",
      "F in dataset: 0.32893807393454205\n",
      "E in wrong: 0.10700236034618411\n",
      "E in dataset: 0.1031316223216388\n",
      "D in wrong: 0.03697875688434304\n",
      "D in dataset: 0.05627501765952437\n",
      "B in wrong: 0.03068450039339103\n",
      "B in dataset: 0.09171179656227925\n",
      "C in wrong: 0.03068450039339103\n",
      "C in dataset: 0.08794443136331528\n",
      "A in wrong: 0.02675059008654603\n",
      "A in dataset: 0.030138921591711797\n"
     ]
    },
    {
     "data": {
      "image/png": "[encoded data removed]",
      "text/plain": [
       "<Figure size 720x432 with 2 Axes>"
      ]
     },
     "metadata": {
      "needs_background": "light"
     },
     "output_type": "display_data"
    },
    {
     "name": "stdout",
     "output_type": "stream",
     "text": [
      "P in wrong: 0.5342250196695515\n",
      "P in dataset: 0.49517306333882743\n",
      "S in wrong: 0.46577498033044845\n",
      "S in dataset: 0.5048269366611726\n"
     ]
    },
    {
     "data": {
      "image/png": "[encoded data removed]",
      "text/plain": [
       "<Figure size 720x432 with 2 Axes>"
      ]
     },
     "metadata": {
      "needs_background": "light"
     },
     "output_type": "display_data"
    },
    {
     "name": "stdout",
     "output_type": "stream",
     "text": [
      "False in wrong: 0.983477576711251\n",
      "False in dataset: 0.9540852366376266\n",
      "True in wrong: 0.016522423288749016\n",
      "True in dataset: 0.022721921356251472\n"
     ]
    }
   ],
   "source": [
    "# TODO compare with true predictions\n",
    "for col in ['CryoSleep', 'HomePlanet', 'is_child', 'Deck', 'Side', 'VIP']:\n",
    "    wvc = wrong_pred[col].value_counts()\n",
    "    dvc = dataset[col].value_counts()\n",
    "    fig, (ax1, ax2) = plt.subplots(1,2, sharey=True, figsize=(10,6))\n",
    "    fig.suptitle(col)\n",
    "    wvc.plot.bar(ax=ax1, title='wrong')\n",
    "    dvc.plot.bar(ax=ax2, title='total')\n",
    "    plt.show()\n",
    "    for idx in wvc.index:\n",
    "        print(f'{idx} in wrong: {wvc[idx] / wrong_pred.shape[0]}')\n",
    "        print(f'{idx} in dataset: {dvc[idx] / dataset.shape[0]}')\n",
    "    "
   ]
  },
  {
   "cell_type": "code",
   "execution_count": 43,
   "id": "86272691",
   "metadata": {
    "execution": {
     "iopub.execute_input": "2022-06-30T15:46:08.490006Z",
     "iopub.status.busy": "2022-06-30T15:46:08.489607Z",
     "iopub.status.idle": "2022-06-30T15:46:09.580809Z",
     "shell.execute_reply": "2022-06-30T15:46:09.579741Z"
    },
    "papermill": {
     "duration": 1.124836,
     "end_time": "2022-06-30T15:46:09.582908",
     "exception": false,
     "start_time": "2022-06-30T15:46:08.458072",
     "status": "completed"
    },
    "tags": []
   },
   "outputs": [
    {
     "data": {
      "image/png": "[encoded data removed]",
      "text/plain": [
       "<Figure size 720x432 with 2 Axes>"
      ]
     },
     "metadata": {
      "needs_background": "light"
     },
     "output_type": "display_data"
    },
    {
     "data": {
      "image/png": "[encoded data removed]",
      "text/plain": [
       "<Figure size 720x432 with 2 Axes>"
      ]
     },
     "metadata": {
      "needs_background": "light"
     },
     "output_type": "display_data"
    },
    {
     "data": {
      "image/png": "[encoded data removed]",
      "text/plain": [
       "<Figure size 720x432 with 2 Axes>"
      ]
     },
     "metadata": {
      "needs_background": "light"
     },
     "output_type": "display_data"
    }
   ],
   "source": [
    "for col in ['RoomService', 'Spa', 'VRDeck']:\n",
    "    fig, (ax1, ax2) = plt.subplots(1,2, sharey=True, figsize=(10,6))\n",
    "    fig.suptitle(col)\n",
    "    wrong_pred[col].plot.hist(ax=ax1, title='wrong')\n",
    "    dataset[col].plot.hist(ax=ax2, title='total')\n",
    "    plt.show()"
   ]
  },
  {
   "cell_type": "markdown",
   "id": "6d402ad0",
   "metadata": {
    "papermill": {
     "duration": 0.029621,
     "end_time": "2022-06-30T15:46:09.642484",
     "exception": false,
     "start_time": "2022-06-30T15:46:09.612863",
     "status": "completed"
    },
    "tags": []
   },
   "source": [
    "## Oversampling"
   ]
  },
  {
   "cell_type": "code",
   "execution_count": 44,
   "id": "23ed993a",
   "metadata": {
    "execution": {
     "iopub.execute_input": "2022-06-30T15:46:09.704882Z",
     "iopub.status.busy": "2022-06-30T15:46:09.704501Z",
     "iopub.status.idle": "2022-06-30T15:52:07.764792Z",
     "shell.execute_reply": "2022-06-30T15:52:07.763531Z"
    },
    "papermill": {
     "duration": 358.123956,
     "end_time": "2022-06-30T15:52:07.796737",
     "exception": false,
     "start_time": "2022-06-30T15:46:09.672781",
     "status": "completed"
    },
    "tags": []
   },
   "outputs": [
    {
     "name": "stdout",
     "output_type": "stream",
     "text": [
      "{'estimator__C': 10.0, 'estimator__kernel': 'rbf', 'preprocessor__num__scaler': StandardScaler()} 0.7914010484490299\n"
     ]
    }
   ],
   "source": [
    "earth_sample = X_train[X_train['HomePlanet'] == 'Earth'].sample(frac=0.5)\n",
    "y_sample = labelEnc.transform(dataset.loc[earth_sample.index]['Transported'])\n",
    "X_overs = pd.concat([X_train, earth_sample])\n",
    "y_overs = np.concatenate([y_train, y_sample])\n",
    "svmcv.fit(X_overs, y_overs)\n",
    "print(svmcv.best_params_, svmcv.best_score_)"
   ]
  },
  {
   "cell_type": "markdown",
   "id": "2b7ee5e6",
   "metadata": {
    "papermill": {
     "duration": 0.032295,
     "end_time": "2022-06-30T15:52:07.859209",
     "exception": false,
     "start_time": "2022-06-30T15:52:07.826914",
     "status": "completed"
    },
    "tags": []
   },
   "source": [
    "# Create submission"
   ]
  },
  {
   "cell_type": "code",
   "execution_count": 45,
   "id": "f306ae31",
   "metadata": {
    "execution": {
     "iopub.execute_input": "2022-06-30T15:52:07.923327Z",
     "iopub.status.busy": "2022-06-30T15:52:07.922918Z",
     "iopub.status.idle": "2022-06-30T15:52:07.928798Z",
     "shell.execute_reply": "2022-06-30T15:52:07.927410Z"
    },
    "papermill": {
     "duration": 0.040494,
     "end_time": "2022-06-30T15:52:07.930875",
     "exception": false,
     "start_time": "2022-06-30T15:52:07.890381",
     "status": "completed"
    },
    "tags": []
   },
   "outputs": [],
   "source": [
    "best_model = sorted(models, key=lambda x: x[1], reverse=True)[0][0]"
   ]
  },
  {
   "cell_type": "code",
   "execution_count": 46,
   "id": "02ae9268",
   "metadata": {
    "execution": {
     "iopub.execute_input": "2022-06-30T15:52:07.995186Z",
     "iopub.status.busy": "2022-06-30T15:52:07.994813Z",
     "iopub.status.idle": "2022-06-30T15:52:08.068349Z",
     "shell.execute_reply": "2022-06-30T15:52:08.067248Z"
    },
    "papermill": {
     "duration": 0.108178,
     "end_time": "2022-06-30T15:52:08.071500",
     "exception": false,
     "start_time": "2022-06-30T15:52:07.963322",
     "status": "completed"
    },
    "tags": []
   },
   "outputs": [],
   "source": [
    "pred = labelEnc.inverse_transform(best_model.predict(test))\n",
    "submission = pd.DataFrame({'PassengerId': test['PassengerId'], 'Transported': pred})\n",
    "submission.to_csv('./submission.csv', index=False)"
   ]
  },
  {
   "cell_type": "markdown",
   "id": "b39a6535",
   "metadata": {
    "papermill": {
     "duration": 0.032056,
     "end_time": "2022-06-30T15:52:08.134231",
     "exception": false,
     "start_time": "2022-06-30T15:52:08.102175",
     "status": "completed"
    },
    "tags": []
   },
   "source": [
    "# TODO\n",
    "\n",
    "Pour chaque algo, regarder les lignes mal prédites et rechercher des particularités communes à tous les algos.\n",
    "\n",
    "Essayer d'autres méthodes d'imputation que la médiane pour le meilleur algo. Vérifier par colonne, peut-être que certaines seront mieux jetées.\n",
    "\n",
    "Pour les variables catégorielles, regarder s'il y a assez d'individus par classe.\n",
    "\n",
    "## Pistes\n",
    "On peut essayer une stratégie d'oversampling qui consiste à dupliquer les lignes comportants une variable mal prédite pour mieux entrainer le modèle dessus."
   ]
  }
 ],
 "metadata": {
  "kernelspec": {
   "display_name": "Python 3",
   "language": "python",
   "name": "python3"
  },
  "language_info": {
   "codemirror_mode": {
    "name": "ipython",
    "version": 3
   },
   "file_extension": ".py",
   "mimetype": "text/x-python",
   "name": "python",
   "nbconvert_exporter": "python",
   "pygments_lexer": "ipython3",
   "version": "3.7.12"
  },
  "papermill": {
   "default_parameters": {},
   "duration": 1945.075582,
   "end_time": "2022-06-30T15:52:08.988459",
   "environment_variables": {},
   "exception": null,
   "input_path": "__notebook__.ipynb",
   "output_path": "__notebook__.ipynb",
   "parameters": {},
   "start_time": "2022-06-30T15:19:43.912877",
   "version": "2.3.4"
  }
 },
 "nbformat": 4,
 "nbformat_minor": 5
}
